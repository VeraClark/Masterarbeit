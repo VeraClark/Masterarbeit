{
 "cells": [
  {
   "cell_type": "code",
   "execution_count": 1,
   "metadata": {},
   "outputs": [
    {
     "name": "stderr",
     "output_type": "stream",
     "text": [
      "C:\\Anaconda\\lib\\site-packages\\h5py\\__init__.py:36: FutureWarning: Conversion of the second argument of issubdtype from `float` to `np.floating` is deprecated. In future, it will be treated as `np.float64 == np.dtype(float).type`.\n",
      "  from ._conv import register_converters as _register_converters\n",
      "Using TensorFlow backend.\n"
     ]
    }
   ],
   "source": [
    "# Packages laden\n",
    "import pandas as pd\n",
    "import numpy as np\n",
    "from keras.layers import Convolution1D, Dense, MaxPooling1D, Flatten, Dropout\n",
    "from keras.models import Sequential\n",
    "from sklearn.metrics import mean_squared_error, accuracy_score,classification_report,confusion_matrix,auc, log_loss \n",
    "from keras.backend import binary_crossentropy\n",
    "from matplotlib import pyplot as plt"
   ]
  },
  {
   "cell_type": "code",
   "execution_count": 2,
   "metadata": {},
   "outputs": [],
   "source": [
    "DATA_FILE=\"Dropbox/Masterarbeit/Masterarbeit/Datensätze/Geburtenrate/Datensatz.xlsx\"\n",
    "df = pd.read_excel(DATA_FILE)\n",
    "df=pd.read_excel(DATA_FILE, header=0, parse_dates=[0], index_col='Jahr-Monat',squeeze=True,)"
   ]
  },
  {
   "cell_type": "code",
   "execution_count": 3,
   "metadata": {},
   "outputs": [],
   "source": [
    "# Ein array mit allen Einträgen --> zur besseren Weiterverarbeitung\n",
    "ZR=df.values"
   ]
  },
  {
   "cell_type": "code",
   "execution_count": 4,
   "metadata": {},
   "outputs": [],
   "source": [
    "# Anteil der Datensätze am Gesamtdatensatz\n",
    "ZR_100=ZR\n",
    "ZR_46=ZR[-400:]"
   ]
  },
  {
   "cell_type": "code",
   "execution_count": 5,
   "metadata": {},
   "outputs": [],
   "source": [
    "# Preprocessing der Rohdaten: 100%\n",
    "ZR_100=np.atleast_2d(ZR_100)\n",
    "if ZR_100.shape[0]==1:\n",
    "    ZR_100=ZR_100.T\n",
    "nb_samples_100, nb_series_100 = ZR_100.shape"
   ]
  },
  {
   "cell_type": "code",
   "execution_count": 6,
   "metadata": {},
   "outputs": [],
   "source": [
    "# Preprocessing der Rohdaten: 46%\n",
    "ZR_46=np.atleast_2d(ZR_46)\n",
    "if ZR_46.shape[0]==1:\n",
    "    ZR_46=ZR_46.T\n",
    "nb_samples_46, nb_series_46 = ZR_46.shape"
   ]
  },
  {
   "cell_type": "code",
   "execution_count": 7,
   "metadata": {},
   "outputs": [],
   "source": [
    "# Einteilung in Trainings- und Testdaten:\n",
    "test_size_100=int(0.3*nb_samples_100)\n",
    "train_100, test_100 = ZR_100[:-test_size_100], ZR_100[-test_size_100:] \n",
    "\n",
    "test_size_46=int(0.35*nb_samples_46)\n",
    "train_46, test_46 = ZR_46[:-test_size_46], ZR_46[-test_size_46:]"
   ]
  },
  {
   "cell_type": "code",
   "execution_count": 8,
   "metadata": {},
   "outputs": [],
   "source": [
    "# Funktion zur Erzeugung von y zur Trendvorhersage/Klassifikation t+1: y=(-1,0,1)\n",
    "def create_Y_trend(dataset):\n",
    "    dataY=[0]*(len(dataset)-1)\n",
    "    for i in range(len(dataset)-1):\n",
    "        a = dataset[i]-dataset[i+1]\n",
    "        if a<0:\n",
    "            dataY[i]=1\n",
    "        elif a>0:\n",
    "            dataY[i]=-1\n",
    "        else:\n",
    "            dataY[i]=0\n",
    "    return np.array(dataY)"
   ]
  },
  {
   "cell_type": "code",
   "execution_count": 9,
   "metadata": {},
   "outputs": [],
   "source": [
    "# Funktion zur Weiterentwicklung von Trendergebnissen y(t+1) zu y(t+look_forward) mit look_forward>1\n",
    "def create_Y_multitrend(dataset,look_forward):\n",
    "    dataY= create_Y_trend(dataset)\n",
    "    length=len(dataY)-look_forward+1\n",
    "    dataY_m=[0]*length \n",
    "    dataY_m=np.array(dataY_m)\n",
    "    for i in range(len(dataY_m)):\n",
    "        for j in range(look_forward):\n",
    "            dataY_m[i]= dataY_m[i]+dataY[i+j]\n",
    "        if dataY_m[i]<0:\n",
    "            dataY_m[i]=-1\n",
    "        elif dataY_m[i]>0:\n",
    "            dataY_m[i]=1\n",
    "        else:\n",
    "            dataY_m[i]=0\n",
    "    return np.array(dataY_m)"
   ]
  },
  {
   "cell_type": "code",
   "execution_count": 10,
   "metadata": {},
   "outputs": [],
   "source": [
    "# Erstellen des Trends für die gesamten Rohdaten mit Horizont t+60\n",
    "look_forward=60\n",
    "ytrain_100=create_Y_multitrend(train_100, look_forward)\n",
    "ytrain_46=create_Y_multitrend(train_46, look_forward)\n",
    "\n",
    "ytest_100=create_Y_multitrend(test_100, look_forward)\n",
    "ytest_46=create_Y_multitrend(test_46, look_forward)"
   ]
  },
  {
   "cell_type": "code",
   "execution_count": 11,
   "metadata": {},
   "outputs": [
    {
     "name": "stdout",
     "output_type": "stream",
     "text": [
      "(1, 12, 1) (533,) (533, 12, 1)\n",
      "(1, 12, 1) (186,) (186, 12, 1)\n"
     ]
    }
   ],
   "source": [
    "# Form des Input und Outputs anpassen: 100%\n",
    "window_size=12\n",
    "Xtrain_100=np.atleast_3d(np.array([train_100[start:start+window_size] for start in range(0, train_100.shape[0]-(window_size+look_forward))]))\n",
    "ytrain_100=ytrain_100[window_size:]\n",
    "qtrain_100=np.atleast_3d([train_100[-window_size:]])\n",
    "print(qtrain_100.shape, ytrain_100.shape, Xtrain_100.shape)\n",
    "\n",
    "Xtest_100=np.atleast_3d(np.array([test_100[start:start+window_size] for start in range(0, test_100.shape[0]-(window_size+look_forward))]))\n",
    "ytest_100=ytest_100[window_size:]\n",
    "qtest_100=np.atleast_3d([test_100[-window_size:]])\n",
    "print(qtest_100.shape, ytest_100.shape, Xtest_100.shape)"
   ]
  },
  {
   "cell_type": "code",
   "execution_count": 12,
   "metadata": {},
   "outputs": [
    {
     "name": "stdout",
     "output_type": "stream",
     "text": [
      "(1, 12, 1) (188,) (188, 12, 1)\n",
      "(1, 12, 1) (68,) (68, 12, 1)\n"
     ]
    }
   ],
   "source": [
    "# Form des Input und Outputs anpassen: 46%\n",
    "Xtrain_46=np.atleast_3d(np.array([train_46[start:start+window_size] for start in range(0, train_46.shape[0]-(window_size+look_forward))]))\n",
    "ytrain_46=ytrain_46[window_size:]\n",
    "qtrain_46=np.atleast_3d([train_46[-window_size:]])\n",
    "print(qtrain_46.shape, ytrain_46.shape, Xtrain_46.shape)\n",
    "\n",
    "Xtest_46=np.atleast_3d(np.array([test_46[start:start+window_size] for start in range(0, test_46.shape[0]-(window_size+look_forward))]))\n",
    "ytest_46=ytest_46[window_size:]\n",
    "qtest_46=np.atleast_3d([test_46[-window_size:]])\n",
    "print(qtest_46.shape, ytest_46.shape, Xtest_46.shape)"
   ]
  },
  {
   "cell_type": "code",
   "execution_count": 13,
   "metadata": {},
   "outputs": [
    {
     "name": "stderr",
     "output_type": "stream",
     "text": [
      "C:\\Anaconda\\lib\\site-packages\\ipykernel_launcher.py:10: UserWarning: Update your `Conv1D` call to the Keras 2 API: `Conv1D(activation=\"tanh\", input_shape=(12, 1), filters=32, kernel_size=2)`\n",
      "  # Remove the CWD from sys.path while we load stuff.\n"
     ]
    },
    {
     "name": "stdout",
     "output_type": "stream",
     "text": [
      "WARNING:tensorflow:From C:\\Anaconda\\lib\\site-packages\\tensorflow\\python\\util\\deprecation.py:497: calling conv1d (from tensorflow.python.ops.nn_ops) with data_format=NHWC is deprecated and will be removed in a future version.\n",
      "Instructions for updating:\n",
      "`NHWC` for data_format is deprecated, use `NWC` instead\n"
     ]
    },
    {
     "name": "stderr",
     "output_type": "stream",
     "text": [
      "C:\\Anaconda\\lib\\site-packages\\ipykernel_launcher.py:11: UserWarning: Update your `Conv1D` call to the Keras 2 API: `Conv1D(activation=\"tanh\", filters=64, kernel_size=2)`\n",
      "  # This is added back by InteractiveShellApp.init_path()\n",
      "C:\\Anaconda\\lib\\site-packages\\ipykernel_launcher.py:13: UserWarning: Update your `Conv1D` call to the Keras 2 API: `Conv1D(activation=\"tanh\", filters=64, kernel_size=2)`\n",
      "  del sys.path[0]\n"
     ]
    }
   ],
   "source": [
    "# Modellzusammenbauen: \n",
    "nb_filter_1=32\n",
    "nb_filter_2=64\n",
    "nb_filter_3=64\n",
    "filter_length=2\n",
    "nb_input_series=1\n",
    "nb_outputs=1\n",
    "model= Sequential()\n",
    "model.add(Convolution1D(nb_filter=nb_filter_1, filter_length=filter_length, activation='tanh', \n",
    "                        input_shape=(window_size, nb_input_series)))\n",
    "model.add(Convolution1D(nb_filter=nb_filter_2, filter_length=filter_length, activation='tanh'))\n",
    "model.add(MaxPooling1D())\n",
    "model.add(Convolution1D(nb_filter=nb_filter_3, filter_length=filter_length, activation='tanh'))\n",
    "model.add(MaxPooling1D())\n",
    "model.add(Dropout(0.25))\n",
    "model.add(Flatten())\n",
    "model.add(Dense(nb_outputs, activation='tanh')) \n",
    "model.compile(loss='binary_crossentropy', optimizer='adam', metrics=['binary_accuracy'])"
   ]
  },
  {
   "cell_type": "code",
   "execution_count": 14,
   "metadata": {},
   "outputs": [
    {
     "name": "stdout",
     "output_type": "stream",
     "text": [
      "_________________________________________________________________\n",
      "Layer (type)                 Output Shape              Param #   \n",
      "=================================================================\n",
      "conv1d_1 (Conv1D)            (None, 11, 32)            96        \n",
      "_________________________________________________________________\n",
      "conv1d_2 (Conv1D)            (None, 10, 64)            4160      \n",
      "_________________________________________________________________\n",
      "max_pooling1d_1 (MaxPooling1 (None, 5, 64)             0         \n",
      "_________________________________________________________________\n",
      "conv1d_3 (Conv1D)            (None, 4, 64)             8256      \n",
      "_________________________________________________________________\n",
      "max_pooling1d_2 (MaxPooling1 (None, 2, 64)             0         \n",
      "_________________________________________________________________\n",
      "dropout_1 (Dropout)          (None, 2, 64)             0         \n",
      "_________________________________________________________________\n",
      "flatten_1 (Flatten)          (None, 128)               0         \n",
      "_________________________________________________________________\n",
      "dense_1 (Dense)              (None, 1)                 129       \n",
      "=================================================================\n",
      "Total params: 12,641\n",
      "Trainable params: 12,641\n",
      "Non-trainable params: 0\n",
      "_________________________________________________________________\n"
     ]
    }
   ],
   "source": [
    "# Modellzusammenfassung\n",
    "model.summary()"
   ]
  },
  {
   "cell_type": "code",
   "execution_count": 15,
   "metadata": {},
   "outputs": [],
   "source": [
    "# Replizierbarkeit gewährleisten\n",
    "np.random.seed(0)"
   ]
  },
  {
   "cell_type": "code",
   "execution_count": 16,
   "metadata": {},
   "outputs": [
    {
     "name": "stdout",
     "output_type": "stream",
     "text": [
      "Train on 533 samples, validate on 186 samples\n",
      "Epoch 1/25\n",
      "533/533 [==============================] - 3s 6ms/step - loss: -9.1124 - binary_accuracy: 0.6867 - val_loss: 3.0330 - val_binary_accuracy: 0.2419\n",
      "Epoch 2/25\n",
      "533/533 [==============================] - 2s 3ms/step - loss: -9.1628 - binary_accuracy: 0.6904 - val_loss: 3.0330 - val_binary_accuracy: 0.2419\n",
      "Epoch 3/25\n",
      "533/533 [==============================] - 2s 4ms/step - loss: -9.1628 - binary_accuracy: 0.6904 - val_loss: 3.0330 - val_binary_accuracy: 0.2419\n",
      "Epoch 4/25\n",
      "533/533 [==============================] - 2s 3ms/step - loss: -9.1628 - binary_accuracy: 0.6904 - val_loss: 3.0330 - val_binary_accuracy: 0.2419\n",
      "Epoch 5/25\n",
      "533/533 [==============================] - 2s 4ms/step - loss: -9.1628 - binary_accuracy: 0.6904 - val_loss: 3.0330 - val_binary_accuracy: 0.2419\n",
      "Epoch 6/25\n",
      "533/533 [==============================] - 2s 4ms/step - loss: -9.1628 - binary_accuracy: 0.6904 - val_loss: 3.0330 - val_binary_accuracy: 0.2419\n",
      "Epoch 7/25\n",
      "533/533 [==============================] - 2s 4ms/step - loss: -9.1628 - binary_accuracy: 0.6904 - val_loss: 3.0330 - val_binary_accuracy: 0.2419\n",
      "Epoch 8/25\n",
      "533/533 [==============================] - 2s 4ms/step - loss: -9.1628 - binary_accuracy: 0.6904 - val_loss: 3.0330 - val_binary_accuracy: 0.2419\n",
      "Epoch 9/25\n",
      "533/533 [==============================] - 2s 4ms/step - loss: -9.1628 - binary_accuracy: 0.6904 - val_loss: 3.0330 - val_binary_accuracy: 0.2419\n",
      "Epoch 10/25\n",
      "533/533 [==============================] - 2s 4ms/step - loss: -9.1628 - binary_accuracy: 0.6904 - val_loss: 3.0330 - val_binary_accuracy: 0.2419\n",
      "Epoch 11/25\n",
      "533/533 [==============================] - 2s 4ms/step - loss: -9.1628 - binary_accuracy: 0.6904 - val_loss: 3.0330 - val_binary_accuracy: 0.2419\n",
      "Epoch 12/25\n",
      "533/533 [==============================] - 2s 4ms/step - loss: -9.1628 - binary_accuracy: 0.6904 - val_loss: 3.0330 - val_binary_accuracy: 0.2419\n",
      "Epoch 13/25\n",
      "533/533 [==============================] - 2s 4ms/step - loss: -9.1628 - binary_accuracy: 0.6904 - val_loss: 3.0330 - val_binary_accuracy: 0.2419\n",
      "Epoch 14/25\n",
      "533/533 [==============================] - 2s 4ms/step - loss: -9.1628 - binary_accuracy: 0.6904 - val_loss: 3.0330 - val_binary_accuracy: 0.2419\n",
      "Epoch 15/25\n",
      "533/533 [==============================] - 2s 4ms/step - loss: -9.1628 - binary_accuracy: 0.6904 - val_loss: 3.0330 - val_binary_accuracy: 0.2419\n",
      "Epoch 16/25\n",
      "533/533 [==============================] - 2s 4ms/step - loss: -9.1628 - binary_accuracy: 0.6904 - val_loss: 3.0330 - val_binary_accuracy: 0.2419\n",
      "Epoch 17/25\n",
      "533/533 [==============================] - 2s 4ms/step - loss: -9.1628 - binary_accuracy: 0.6904 - val_loss: 3.0330 - val_binary_accuracy: 0.2419\n",
      "Epoch 18/25\n",
      "533/533 [==============================] - 1s 3ms/step - loss: -9.1628 - binary_accuracy: 0.6904 - val_loss: 3.0330 - val_binary_accuracy: 0.2419\n",
      "Epoch 19/25\n",
      "533/533 [==============================] - 1s 3ms/step - loss: -9.1628 - binary_accuracy: 0.6904 - val_loss: 3.0330 - val_binary_accuracy: 0.2419\n",
      "Epoch 20/25\n",
      "533/533 [==============================] - 1s 3ms/step - loss: -9.1628 - binary_accuracy: 0.6904 - val_loss: 3.0330 - val_binary_accuracy: 0.2419\n",
      "Epoch 21/25\n",
      "533/533 [==============================] - 1s 3ms/step - loss: -9.1628 - binary_accuracy: 0.6904 - val_loss: 3.0330 - val_binary_accuracy: 0.2419\n",
      "Epoch 22/25\n",
      "533/533 [==============================] - 1s 3ms/step - loss: -9.1628 - binary_accuracy: 0.6904 - val_loss: 3.0330 - val_binary_accuracy: 0.2419\n",
      "Epoch 23/25\n",
      "533/533 [==============================] - 1s 3ms/step - loss: -9.1628 - binary_accuracy: 0.6904 - val_loss: 3.0330 - val_binary_accuracy: 0.2419\n",
      "Epoch 24/25\n",
      "533/533 [==============================] - 1s 3ms/step - loss: -9.1628 - binary_accuracy: 0.6904 - val_loss: 3.0330 - val_binary_accuracy: 0.2419\n",
      "Epoch 25/25\n",
      "533/533 [==============================] - 1s 3ms/step - loss: -9.1628 - binary_accuracy: 0.6904 - val_loss: 3.0330 - val_binary_accuracy: 0.2419\n"
     ]
    }
   ],
   "source": [
    "# Modellanpassung: \n",
    "history_trend=model.fit(Xtrain_100, ytrain_100, epochs=25, batch_size=2, validation_data=(Xtest_100, ytest_100))"
   ]
  },
  {
   "cell_type": "code",
   "execution_count": 17,
   "metadata": {},
   "outputs": [
    {
     "data": {
      "text/plain": [
       "Text(0.5,1,'Loss Curves')"
      ]
     },
     "execution_count": 17,
     "metadata": {},
     "output_type": "execute_result"
    },
    {
     "data": {
      "image/png": "[encoded data removed]",
      "text/plain": [
       "<Figure size 576x432 with 1 Axes>"
      ]
     },
     "metadata": {},
     "output_type": "display_data"
    }
   ],
   "source": [
    "#Ploten der Loss Curves\n",
    "plt.figure(figsize=[8,6])\n",
    "plt.plot(history_trend.history['loss'],'r',linewidth=3.0)\n",
    "plt.plot(history_trend.history['val_loss'],'b',linewidth=3.0)\n",
    "plt.legend(['Training loss', 'Validation Loss'],fontsize=18)\n",
    "plt.xlabel('Epochs ',fontsize=16)\n",
    "plt.ylabel('Loss',fontsize=16)\n",
    "plt.title('Loss Curves',fontsize=16)"
   ]
  },
  {
   "cell_type": "code",
   "execution_count": 18,
   "metadata": {},
   "outputs": [
    {
     "data": {
      "text/plain": [
       "Text(0.5,1,'Accuracy Curves')"
      ]
     },
     "execution_count": 18,
     "metadata": {},
     "output_type": "execute_result"
    },
    {
     "data": {
      "image/png": "[encoded data removed]",
      "text/plain": [
       "<Figure size 576x432 with 1 Axes>"
      ]
     },
     "metadata": {},
     "output_type": "display_data"
    }
   ],
   "source": [
    "#Plotten der Accuracy Curves\n",
    "plt.figure(figsize=[8,6])\n",
    "plt.plot(history_trend.history['binary_accuracy'],'r',linewidth=3.0)\n",
    "plt.plot(history_trend.history['val_binary_accuracy'],'b',linewidth=3.0)\n",
    "plt.legend(['Training Accuracy', 'Validation Accuracy'],fontsize=18)\n",
    "plt.xlabel('Epochs ',fontsize=16)\n",
    "plt.ylabel('Accuracy',fontsize=16)\n",
    "plt.title('Accuracy Curves',fontsize=16)"
   ]
  },
  {
   "cell_type": "code",
   "execution_count": 19,
   "metadata": {},
   "outputs": [],
   "source": [
    "# Vorhersage generieren\n",
    "testPredict_100 = model.predict(Xtest_100)"
   ]
  },
  {
   "cell_type": "code",
   "execution_count": 15,
   "metadata": {},
   "outputs": [],
   "source": [
    "def classification(dataset):\n",
    "    for i in range(len(dataset)):\n",
    "        if dataset[i]>= 0.05:\n",
    "            dataset[i]=1\n",
    "        elif dataset[i]<= -0.05:\n",
    "            dataset[i]=-1\n",
    "        else:\n",
    "            dataset[i]=0\n",
    "    return dataset"
   ]
  },
  {
   "cell_type": "code",
   "execution_count": 21,
   "metadata": {},
   "outputs": [],
   "source": [
    "testPredict_100_C=classification(testPredict_100)"
   ]
  },
  {
   "cell_type": "code",
   "execution_count": 22,
   "metadata": {},
   "outputs": [
    {
     "data": {
      "text/plain": [
       "0.24193548387096775"
      ]
     },
     "execution_count": 22,
     "metadata": {},
     "output_type": "execute_result"
    }
   ],
   "source": [
    "accuracy_score(ytest_100, testPredict_100_C)"
   ]
  },
  {
   "cell_type": "code",
   "execution_count": 23,
   "metadata": {},
   "outputs": [
    {
     "data": {
      "text/plain": [
       "(array([  0.,   0.,   0.,   0.,   0., 186.,   0.,   0.,   0.,   0.]),\n",
       " array([-1.5, -1.4, -1.3, -1.2, -1.1, -1. , -0.9, -0.8, -0.7, -0.6, -0.5]),\n",
       " <a list of 10 Patch objects>)"
      ]
     },
     "execution_count": 23,
     "metadata": {},
     "output_type": "execute_result"
    },
    {
     "data": {
      "image/png": "[encoded data removed]",
      "text/plain": [
       "<Figure size 432x288 with 1 Axes>"
      ]
     },
     "metadata": {},
     "output_type": "display_data"
    }
   ],
   "source": [
    "plt.hist(testPredict_100)"
   ]
  },
  {
   "cell_type": "code",
   "execution_count": null,
   "metadata": {},
   "outputs": [],
   "source": []
  },
  {
   "cell_type": "code",
   "execution_count": null,
   "metadata": {},
   "outputs": [],
   "source": []
  },
  {
   "cell_type": "code",
   "execution_count": 23,
   "metadata": {},
   "outputs": [],
   "source": [
    "# Replizierbarkeit gewährleisten\n",
    "np.random.seed(2)"
   ]
  },
  {
   "cell_type": "code",
   "execution_count": 24,
   "metadata": {},
   "outputs": [
    {
     "name": "stdout",
     "output_type": "stream",
     "text": [
      "Train on 188 samples, validate on 68 samples\n",
      "Epoch 1/30\n",
      "188/188 [==============================] - 1s 3ms/step - loss: -12.9459 - binary_accuracy: 0.8457 - val_loss: 9.4812 - val_binary_accuracy: 0.0000e+00\n",
      "Epoch 2/30\n",
      "188/188 [==============================] - 0s 3ms/step - loss: -12.9459 - binary_accuracy: 0.8457 - val_loss: 9.4812 - val_binary_accuracy: 0.0000e+00\n",
      "Epoch 3/30\n",
      "188/188 [==============================] - 0s 3ms/step - loss: -12.9459 - binary_accuracy: 0.8457 - val_loss: 9.4812 - val_binary_accuracy: 0.0000e+00\n",
      "Epoch 4/30\n",
      "188/188 [==============================] - 1s 3ms/step - loss: -12.9459 - binary_accuracy: 0.8457 - val_loss: 9.4812 - val_binary_accuracy: 0.0000e+00\n",
      "Epoch 5/30\n",
      "188/188 [==============================] - 1s 3ms/step - loss: -12.9459 - binary_accuracy: 0.8457 - val_loss: 9.4812 - val_binary_accuracy: 0.0000e+00\n",
      "Epoch 6/30\n",
      "188/188 [==============================] - 0s 3ms/step - loss: -12.9459 - binary_accuracy: 0.8457 - val_loss: 9.4812 - val_binary_accuracy: 0.0000e+00\n",
      "Epoch 7/30\n",
      "188/188 [==============================] - 0s 3ms/step - loss: -12.9459 - binary_accuracy: 0.8457 - val_loss: 9.4812 - val_binary_accuracy: 0.0000e+00\n",
      "Epoch 8/30\n",
      "188/188 [==============================] - 0s 2ms/step - loss: -12.9459 - binary_accuracy: 0.8457 - val_loss: 9.4812 - val_binary_accuracy: 0.0000e+00\n",
      "Epoch 9/30\n",
      "188/188 [==============================] - 0s 2ms/step - loss: -12.9459 - binary_accuracy: 0.8457 - val_loss: 9.4812 - val_binary_accuracy: 0.0000e+00\n",
      "Epoch 10/30\n",
      "188/188 [==============================] - 0s 3ms/step - loss: -12.9459 - binary_accuracy: 0.8457 - val_loss: 9.4812 - val_binary_accuracy: 0.0000e+00\n",
      "Epoch 11/30\n",
      "188/188 [==============================] - 0s 2ms/step - loss: -12.9459 - binary_accuracy: 0.8457 - val_loss: 9.4812 - val_binary_accuracy: 0.0000e+00\n",
      "Epoch 12/30\n",
      "188/188 [==============================] - 0s 3ms/step - loss: -12.9459 - binary_accuracy: 0.8457 - val_loss: 9.4812 - val_binary_accuracy: 0.0000e+00\n",
      "Epoch 13/30\n",
      "188/188 [==============================] - 0s 2ms/step - loss: -12.9459 - binary_accuracy: 0.8457 - val_loss: 9.4812 - val_binary_accuracy: 0.0000e+00\n",
      "Epoch 14/30\n",
      "188/188 [==============================] - 0s 2ms/step - loss: -12.9459 - binary_accuracy: 0.8457 - val_loss: 9.4812 - val_binary_accuracy: 0.0000e+00\n",
      "Epoch 15/30\n",
      "188/188 [==============================] - 0s 3ms/step - loss: -12.9459 - binary_accuracy: 0.8457 - val_loss: 9.4812 - val_binary_accuracy: 0.0000e+00\n",
      "Epoch 16/30\n",
      "188/188 [==============================] - 0s 2ms/step - loss: -12.9459 - binary_accuracy: 0.8457 - val_loss: 9.4812 - val_binary_accuracy: 0.0000e+00\n",
      "Epoch 17/30\n",
      "188/188 [==============================] - 0s 2ms/step - loss: -12.9459 - binary_accuracy: 0.8457 - val_loss: 9.4812 - val_binary_accuracy: 0.0000e+00\n",
      "Epoch 18/30\n",
      "188/188 [==============================] - 0s 3ms/step - loss: -12.9459 - binary_accuracy: 0.8457 - val_loss: 9.4812 - val_binary_accuracy: 0.0000e+00\n",
      "Epoch 19/30\n",
      "188/188 [==============================] - 0s 2ms/step - loss: -12.9459 - binary_accuracy: 0.8457 - val_loss: 9.4812 - val_binary_accuracy: 0.0000e+00\n",
      "Epoch 20/30\n",
      "188/188 [==============================] - 0s 2ms/step - loss: -12.9459 - binary_accuracy: 0.8457 - val_loss: 9.4812 - val_binary_accuracy: 0.0000e+00\n",
      "Epoch 21/30\n",
      "188/188 [==============================] - 0s 2ms/step - loss: -12.9459 - binary_accuracy: 0.8457 - val_loss: 9.4812 - val_binary_accuracy: 0.0000e+00\n",
      "Epoch 22/30\n",
      "188/188 [==============================] - 0s 2ms/step - loss: -12.9459 - binary_accuracy: 0.8457 - val_loss: 9.4812 - val_binary_accuracy: 0.0000e+00\n",
      "Epoch 23/30\n",
      "188/188 [==============================] - 0s 3ms/step - loss: -12.9459 - binary_accuracy: 0.8457 - val_loss: 9.4812 - val_binary_accuracy: 0.0000e+00\n",
      "Epoch 24/30\n",
      "188/188 [==============================] - 0s 2ms/step - loss: -12.9459 - binary_accuracy: 0.8457 - val_loss: 9.4812 - val_binary_accuracy: 0.0000e+00\n",
      "Epoch 25/30\n",
      "188/188 [==============================] - 0s 3ms/step - loss: -12.9459 - binary_accuracy: 0.8457 - val_loss: 9.4812 - val_binary_accuracy: 0.0000e+00\n",
      "Epoch 26/30\n",
      "188/188 [==============================] - 1s 3ms/step - loss: -12.9459 - binary_accuracy: 0.8457 - val_loss: 9.4812 - val_binary_accuracy: 0.0000e+00\n",
      "Epoch 27/30\n",
      "188/188 [==============================] - 1s 3ms/step - loss: -12.9459 - binary_accuracy: 0.8457 - val_loss: 9.4812 - val_binary_accuracy: 0.0000e+00\n",
      "Epoch 28/30\n",
      "188/188 [==============================] - 0s 3ms/step - loss: -12.9459 - binary_accuracy: 0.8457 - val_loss: 9.4812 - val_binary_accuracy: 0.0000e+00\n",
      "Epoch 29/30\n",
      "188/188 [==============================] - 1s 3ms/step - loss: -12.9459 - binary_accuracy: 0.8457 - val_loss: 9.4812 - val_binary_accuracy: 0.0000e+00\n",
      "Epoch 30/30\n",
      "188/188 [==============================] - 1s 3ms/step - loss: -12.9459 - binary_accuracy: 0.8457 - val_loss: 9.4812 - val_binary_accuracy: 0.0000e+00\n"
     ]
    }
   ],
   "source": [
    "# Modellanpassung: \n",
    "history_trend=model.fit(Xtrain_46, ytrain_46, epochs=200, batch_size=2, validation_data=(Xtest_46, ytest_46))"
   ]
  },
  {
   "cell_type": "code",
   "execution_count": 25,
   "metadata": {},
   "outputs": [
    {
     "data": {
      "text/plain": [
       "Text(0.5,1,'Loss Curves')"
      ]
     },
     "execution_count": 25,
     "metadata": {},
     "output_type": "execute_result"
    },
    {
     "data": {
      "image/png": "[encoded data removed]",
      "text/plain": [
       "<Figure size 576x432 with 1 Axes>"
      ]
     },
     "metadata": {},
     "output_type": "display_data"
    }
   ],
   "source": [
    "#Ploten der Loss Curves\n",
    "plt.figure(figsize=[8,6])\n",
    "plt.plot(history_trend.history['loss'],'r',linewidth=3.0)\n",
    "plt.plot(history_trend.history['val_loss'],'b',linewidth=3.0)\n",
    "plt.legend(['Training loss', 'Validation Loss'],fontsize=18)\n",
    "plt.xlabel('Epochs ',fontsize=16)\n",
    "plt.ylabel('Loss',fontsize=16)\n",
    "plt.title('Loss Curves',fontsize=16)"
   ]
  },
  {
   "cell_type": "code",
   "execution_count": 26,
   "metadata": {},
   "outputs": [
    {
     "data": {
      "text/plain": [
       "Text(0.5,1,'Accuracy Curves')"
      ]
     },
     "execution_count": 26,
     "metadata": {},
     "output_type": "execute_result"
    },
    {
     "data": {
      "image/png": "[encoded data removed]",
      "text/plain": [
       "<Figure size 576x432 with 1 Axes>"
      ]
     },
     "metadata": {},
     "output_type": "display_data"
    }
   ],
   "source": [
    "#Plotten der Accuracy Curves\n",
    "plt.figure(figsize=[8,6])\n",
    "plt.plot(history_trend.history['binary_accuracy'],'r',linewidth=3.0)\n",
    "plt.plot(history_trend.history['val_binary_accuracy'],'b',linewidth=3.0)\n",
    "plt.legend(['Training Accuracy', 'Validation Accuracy'],fontsize=18)\n",
    "plt.xlabel('Epochs ',fontsize=16)\n",
    "plt.ylabel('Accuracy',fontsize=16)\n",
    "plt.title('Accuracy Curves',fontsize=16)"
   ]
  },
  {
   "cell_type": "code",
   "execution_count": 27,
   "metadata": {},
   "outputs": [],
   "source": [
    "# Vorhersage generieren\n",
    "testPredict_46 = model.predict(Xtest_46)"
   ]
  },
  {
   "cell_type": "code",
   "execution_count": 28,
   "metadata": {},
   "outputs": [],
   "source": [
    "testPredict_46_C=classification(testPredict_46)"
   ]
  },
  {
   "cell_type": "code",
   "execution_count": 29,
   "metadata": {},
   "outputs": [
    {
     "data": {
      "text/plain": [
       "0.0"
      ]
     },
     "execution_count": 29,
     "metadata": {},
     "output_type": "execute_result"
    }
   ],
   "source": [
    "accuracy_score(ytest_46, testPredict_46_C)"
   ]
  },
  {
   "cell_type": "code",
   "execution_count": 31,
   "metadata": {},
   "outputs": [
    {
     "data": {
      "text/plain": [
       "(array([ 0.,  0.,  0.,  0.,  0., 68.,  0.,  0.,  0.,  0.]),\n",
       " array([-1.5, -1.4, -1.3, -1.2, -1.1, -1. , -0.9, -0.8, -0.7, -0.6, -0.5]),\n",
       " <a list of 10 Patch objects>)"
      ]
     },
     "execution_count": 31,
     "metadata": {},
     "output_type": "execute_result"
    },
    {
     "data": {
      "image/png": "[encoded data removed]",
      "text/plain": [
       "<Figure size 432x288 with 1 Axes>"
      ]
     },
     "metadata": {},
     "output_type": "display_data"
    }
   ],
   "source": [
    "plt.hist(testPredict_46)"
   ]
  },
  {
   "cell_type": "code",
   "execution_count": null,
   "metadata": {},
   "outputs": [],
   "source": []
  },
  {
   "cell_type": "code",
   "execution_count": null,
   "metadata": {},
   "outputs": [],
   "source": []
  }
 ],
 "metadata": {
  "kernelspec": {
   "display_name": "Python 3",
   "language": "python",
   "name": "python3"
  },
  "language_info": {
   "codemirror_mode": {
    "name": "ipython",
    "version": 3
   },
   "file_extension": ".py",
   "mimetype": "text/x-python",
   "name": "python",
   "nbconvert_exporter": "python",
   "pygments_lexer": "ipython3",
   "version": "3.6.5"
  }
 },
 "nbformat": 4,
 "nbformat_minor": 2
}
