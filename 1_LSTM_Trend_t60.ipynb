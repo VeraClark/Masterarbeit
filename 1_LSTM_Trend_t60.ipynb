{
 "cells": [
  {
   "cell_type": "code",
   "execution_count": 1,
   "metadata": {},
   "outputs": [
    {
     "name": "stderr",
     "output_type": "stream",
     "text": [
      "C:\\Anaconda\\lib\\site-packages\\h5py\\__init__.py:36: FutureWarning: Conversion of the second argument of issubdtype from `float` to `np.floating` is deprecated. In future, it will be treated as `np.float64 == np.dtype(float).type`.\n",
      "  from ._conv import register_converters as _register_converters\n",
      "Using TensorFlow backend.\n"
     ]
    }
   ],
   "source": [
    "# Packages laden\n",
    "import numpy as np\n",
    "import pandas as pd\n",
    "import math\n",
    "from numpy import array\n",
    "from keras.models import Sequential\n",
    "from keras.layers import Dense\n",
    "from keras.layers import LSTM\n",
    "from matplotlib import pyplot as plt\n",
    "from sklearn.preprocessing import MinMaxScaler\n",
    "from sklearn.metrics import mean_squared_error,accuracy_score,classification_report,confusion_matrix,auc, log_loss \n",
    "from pandas import DataFrame\n",
    "from keras.backend import binary_crossentropy\n",
    "import tensorflow as tf\n",
    "from pandas import concat"
   ]
  },
  {
   "cell_type": "code",
   "execution_count": 2,
   "metadata": {},
   "outputs": [],
   "source": [
    "# Laden der Daten\n",
    "DATA_FILE=\"Dropbox/Masterarbeit/Masterarbeit/Datensätze/Geburtenrate/Datensatz.xlsx\"\n",
    "df = pd.read_excel(DATA_FILE)\n",
    "df=pd.read_excel(DATA_FILE, header=0, parse_dates=[0], index_col='Jahr-Monat',squeeze=True)"
   ]
  },
  {
   "cell_type": "code",
   "execution_count": 3,
   "metadata": {},
   "outputs": [],
   "source": [
    "# Ein array mit allen Einträgen --> zur besseren Weiterverarbeitung\n",
    "ZR=df.values"
   ]
  },
  {
   "cell_type": "code",
   "execution_count": 4,
   "metadata": {},
   "outputs": [],
   "source": [
    "# Skalierung [-1,1]\n",
    "def scaling(dataset,l_bound=-1, h_bound=1):\n",
    "    dataset = dataset.reshape(len(dataset), 1)\n",
    "    scaler = MinMaxScaler(feature_range=(-1, 1))\n",
    "    scaler = scaler.fit(dataset)\n",
    "    scaled_dataset = scaler.transform(dataset)\n",
    "    return scaled_dataset\n",
    "\n",
    "# Umkehrung der Skalierung\n",
    "def invert_scale(scaler, X, value):\n",
    "    new_row = [x for x in X] + [value]\n",
    "    array = np.array(new_row)\n",
    "    array = array.reshape(1, len(array))\n",
    "    inverted = scaler.inverse_transform(array)\n",
    "    return inverted[0, -1]"
   ]
  },
  {
   "cell_type": "code",
   "execution_count": 5,
   "metadata": {},
   "outputs": [
    {
     "name": "stderr",
     "output_type": "stream",
     "text": [
      "C:\\Anaconda\\lib\\site-packages\\sklearn\\utils\\validation.py:475: DataConversionWarning: Data with input dtype int64 was converted to float64 by MinMaxScaler.\n",
      "  warnings.warn(msg, DataConversionWarning)\n"
     ]
    }
   ],
   "source": [
    "ZR_N=scaling(ZR)\n",
    "\n",
    "# Anteil der Datensätze am Gesamtdatensatz\n",
    "ZR_100=ZR\n",
    "ZR_46=ZR[-400:]\n",
    "\n",
    "# Unterteilung der Teildatensätze in Trainings-und Testdaten\n",
    "ZR_100_TR, ZR_100_TE= ZR_100[0:605], ZR_100[605:len(ZR_100)]\n",
    "ZR_46_TR, ZR_46_TE= ZR_46[0:250], ZR_46[250:len(ZR_46)]\n",
    "\n",
    "# Anteil der Datensätze am Gesamtdatensatz: skalierte Daten\n",
    "ZR_N100=ZR_N\n",
    "ZR_N46=ZR_N[-400:]\n",
    "\n",
    "# Unterteilung der Teildatensätze in Trainings-und Testdaten\n",
    "ZR_N100_TR, ZR_N100_TE= ZR_N100[0:605], ZR_N100[605:len(ZR_N100)]\n",
    "ZR_N46_TR, ZR_N46_TE= ZR_N46[0:250], ZR_N46[250:len(ZR_N46)]"
   ]
  },
  {
   "cell_type": "code",
   "execution_count": 6,
   "metadata": {},
   "outputs": [],
   "source": [
    "# Funktion zur Erzeugung von y zur Trendvorhersage/Klassifikation t+1: y=(-1,0,1)\n",
    "def create_Y_trend(dataset):\n",
    "    dataY=[0]*(len(dataset)-1)\n",
    "    for i in range(len(dataset)-1):\n",
    "        a = dataset[i]-dataset[i+1]\n",
    "        if a<0:\n",
    "            dataY[i]=1\n",
    "        elif a>0:\n",
    "            dataY[i]=-1\n",
    "        else:\n",
    "            dataY[i]=0\n",
    "    return np.array(dataY)"
   ]
  },
  {
   "cell_type": "code",
   "execution_count": 7,
   "metadata": {},
   "outputs": [],
   "source": [
    "# Funktion zur Weiterentwicklung von Trendergebnissen y(t+1) zu y(t+look_forward) mit look_forward>1\n",
    "def create_Y_multitrend(dataset,look_forward):\n",
    "    dataY= create_Y_trend(dataset)\n",
    "    length=len(dataY)-look_forward+1\n",
    "    dataY_m=[0]*length \n",
    "    dataY_m=np.array(dataY_m)\n",
    "    for i in range(len(dataY_m)):\n",
    "        for j in range(look_forward):\n",
    "            dataY_m[i]= dataY_m[i]+dataY[i+j]\n",
    "        if dataY_m[i]<0:\n",
    "            dataY_m[i]=-1\n",
    "        elif dataY_m[i]>0:\n",
    "            dataY_m[i]=1\n",
    "        else:\n",
    "            dataY_m[i]=0\n",
    "    return np.array(dataY_m)"
   ]
  },
  {
   "cell_type": "code",
   "execution_count": 8,
   "metadata": {},
   "outputs": [],
   "source": [
    "# Funktion zur Erzeugung von x (Input) mit look_back (Anzahl der verwendeten Vergangenheitswerte)\n",
    "def X_to_supervised_T(dataset, look_back=1, look_forward=1):\n",
    "    df = DataFrame(dataset)\n",
    "    columns = [df.shift(look_forward-1+i) for i in range(1, look_back+1)]\n",
    "    df = concat(columns, axis=1)\n",
    "    df = df.drop(0)\n",
    "    DF=df[::-1]\n",
    "    df=DF[:len(df)-(look_back+look_forward-2)]\n",
    "    DF=df[::-1]\n",
    "    return DF"
   ]
  },
  {
   "cell_type": "code",
   "execution_count": 30,
   "metadata": {},
   "outputs": [],
   "source": [
    "# Festlegung: look_back, look_forward + Anwendung der Funktion\n",
    "# Inputneuronen: 12\n",
    "# Vorhersagehorizont: t+60\n",
    "look_back=12\n",
    "look_forward=60\n",
    "\n",
    "# Erzeugen von y \n",
    "\n",
    "# Dateninput 100%\n",
    "# Skalierte Daten\n",
    "trainY_N100=create_Y_multitrend(ZR_N100_TR, look_forward)\n",
    "testY_N100=create_Y_multitrend(ZR_N100_TE,look_forward)\n",
    "\n",
    "# Original Daten\n",
    "trainY_100=create_Y_multitrend(ZR_100_TR,look_forward)\n",
    "testY_100=create_Y_multitrend(ZR_100_TE,look_forward)\n",
    "\n",
    "# Dateninput 46%\n",
    "# Skalierte Daten\n",
    "trainY_N46=create_Y_multitrend(ZR_N46_TR,look_forward)\n",
    "testY_N46=create_Y_multitrend(ZR_N46_TE,look_forward)\n",
    "\n",
    "# Original Daten\n",
    "trainY_46=create_Y_multitrend(ZR_46_TR,look_forward)\n",
    "testY_46=create_Y_multitrend(ZR_46_TE,look_forward)"
   ]
  },
  {
   "cell_type": "code",
   "execution_count": 31,
   "metadata": {},
   "outputs": [],
   "source": [
    "# Erzeugen von X \n",
    "\n",
    "# Dateninput: 100%\n",
    "# Skalierte Daten\n",
    "trainX_N100=X_to_supervised_T(ZR_N100_TR,look_back,look_forward)\n",
    "testX_N100=X_to_supervised_T(ZR_N100_TE,look_back,look_forward)\n",
    "\n",
    "#Originaldaten\n",
    "trainX_100=X_to_supervised_T(ZR_100_TR,look_back,look_forward)\n",
    "testX_100=X_to_supervised_T(ZR_100_TE,look_back,look_forward)\n",
    "\n",
    "# Dateninput: 46%\n",
    "# Skalierte Daten\n",
    "trainX_N46=X_to_supervised_T(ZR_N46_TR,look_back,look_forward)\n",
    "testX_N46=X_to_supervised_T(ZR_N46_TE,look_back,look_forward)\n",
    "\n",
    "# Originaldaten\n",
    "trainX_46=X_to_supervised_T(ZR_46_TR,look_back,look_forward)\n",
    "testX_46=X_to_supervised_T(ZR_46_TE,look_back,look_forward)"
   ]
  },
  {
   "cell_type": "code",
   "execution_count": 32,
   "metadata": {},
   "outputs": [
    {
     "name": "stdout",
     "output_type": "stream",
     "text": [
      "(534, 12) (534,)\n",
      "(187, 12) (187,)\n",
      "(534, 12) (534,)\n",
      "(187, 12) (187,)\n"
     ]
    }
   ],
   "source": [
    "# Zuschneiden der Datensätze --> gleiche Länge von X und y\n",
    "\n",
    "# Dateninput: 100%\n",
    "# Skalierte Daten\n",
    "# Trainingsdaten\n",
    "trainY_N100=trainY_N100.tolist()\n",
    "trainY_N100=trainY_N100[look_back-1:]\n",
    "trainY_N100=np.array(trainY_N100)\n",
    "print(trainX_N100.shape, trainY_N100.shape)\n",
    "# Testdaten\n",
    "testY_N100=testY_N100.tolist()\n",
    "testY_N100=testY_N100[look_back-1:]\n",
    "testY_N100=np.array(testY_N100)\n",
    "print(testX_N100.shape, testY_N100.shape)\n",
    "\n",
    "# Originaldaten\n",
    "# Trainingsdaten\n",
    "trainY_100=trainY_100.tolist()\n",
    "trainY_100=trainY_100[look_back-1:]\n",
    "trainY_100=np.array(trainY_100)\n",
    "print(trainX_100.shape, trainY_100.shape)\n",
    "# Testdaten\n",
    "testY_100=testY_100.tolist()\n",
    "testY_100=testY_100[look_back-1:]\n",
    "testY_100=np.array(testY_100)\n",
    "print(testX_100.shape, testY_100.shape)"
   ]
  },
  {
   "cell_type": "code",
   "execution_count": 33,
   "metadata": {},
   "outputs": [
    {
     "name": "stdout",
     "output_type": "stream",
     "text": [
      "(179, 12) (179,)\n",
      "(79, 12) (79,)\n",
      "(179, 12) (179,)\n",
      "(79, 12) (79,)\n"
     ]
    }
   ],
   "source": [
    "# Dateninput: 46%\n",
    "# Skalierte Daten\n",
    "# Trainingsdaten\n",
    "trainY_N46=trainY_N46.tolist()\n",
    "trainY_N46=trainY_N46[look_back-1:]\n",
    "trainY_N46=np.array(trainY_N46)\n",
    "print(trainX_N46.shape, trainY_N46.shape)\n",
    "# Testdaten\n",
    "testY_N46=testY_N46.tolist()\n",
    "testY_N46=testY_N46[look_back-1:]\n",
    "testY_N46=np.array(testY_N46)\n",
    "print(testX_N46.shape, testY_N46.shape)\n",
    "\n",
    "# Originaldaten\n",
    "# Trainingsdaten\n",
    "trainY_46=trainY_46.tolist()\n",
    "trainY_46=trainY_46[look_back-1:]\n",
    "trainY_46=np.array(trainY_46)\n",
    "print(trainX_46.shape, trainY_46.shape)\n",
    "# Testdaten\n",
    "testY_46=testY_46.tolist()\n",
    "testY_46=testY_46[look_back-1:]\n",
    "testY_46=np.array(testY_46)\n",
    "print(testX_46.shape, testY_46.shape)"
   ]
  },
  {
   "cell_type": "code",
   "execution_count": 34,
   "metadata": {},
   "outputs": [],
   "source": [
    "# Funktion: X,y trennen, Form von X anpassen, Modell zusammenbauen, Modell anpassen\n",
    "def fit_lstm(X, y , batch_size, blocks, epochen):\n",
    "    X=array(X)\n",
    "    X = X.reshape(X.shape[0], 1, X.shape[1])\n",
    "    model = Sequential()\n",
    "    model.add(LSTM(blocks, batch_input_shape=(batch_size, X.shape[1], X.shape[2]), stateful=True))\n",
    "    model.add(Dense(1, activation='tanh'))\n",
    "    model.compile(loss='binary_crossentropy', optimizer='adam', metrics=['accuracy'])\n",
    "    model.fit(X, y, epochs=epochen, batch_size=1)\n",
    "    return model"
   ]
  },
  {
   "cell_type": "code",
   "execution_count": 35,
   "metadata": {},
   "outputs": [],
   "source": [
    "# Replizierbarkeit gewährleisten\n",
    "np.random.seed(0)"
   ]
  },
  {
   "cell_type": "code",
   "execution_count": 36,
   "metadata": {},
   "outputs": [
    {
     "name": "stdout",
     "output_type": "stream",
     "text": [
      "Epoch 1/100\n",
      "534/534 [==============================] - 4s 7ms/step - loss: -8.7556 - acc: 0.1873\n",
      "Epoch 2/100\n",
      "534/534 [==============================] - 2s 4ms/step - loss: -9.1758 - acc: 0.1873\n",
      "Epoch 3/100\n",
      "534/534 [==============================] - 2s 4ms/step - loss: -9.1758 - acc: 0.1873\n",
      "Epoch 4/100\n",
      "534/534 [==============================] - 2s 4ms/step - loss: -9.1558 - acc: 0.1873\n",
      "Epoch 5/100\n",
      "534/534 [==============================] - 2s 4ms/step - loss: -9.1758 - acc: 0.1873\n",
      "Epoch 6/100\n",
      "534/534 [==============================] - 2s 4ms/step - loss: -9.1758 - acc: 0.1873\n",
      "Epoch 7/100\n",
      "534/534 [==============================] - 2s 4ms/step - loss: -9.1758 - acc: 0.1873\n",
      "Epoch 8/100\n",
      "534/534 [==============================] - 2s 4ms/step - loss: -9.1758 - acc: 0.1873\n",
      "Epoch 9/100\n",
      "534/534 [==============================] - 2s 4ms/step - loss: -9.1758 - acc: 0.1873\n",
      "Epoch 10/100\n",
      "534/534 [==============================] - 2s 4ms/step - loss: -9.1758 - acc: 0.1873\n",
      "Epoch 11/100\n",
      "534/534 [==============================] - 2s 4ms/step - loss: -9.1758 - acc: 0.1873\n",
      "Epoch 12/100\n",
      "534/534 [==============================] - 2s 4ms/step - loss: -9.1758 - acc: 0.1873\n",
      "Epoch 13/100\n",
      "534/534 [==============================] - 2s 4ms/step - loss: -9.1758 - acc: 0.1873\n",
      "Epoch 14/100\n",
      "534/534 [==============================] - 2s 4ms/step - loss: -9.1758 - acc: 0.1873\n",
      "Epoch 15/100\n",
      "534/534 [==============================] - 3s 5ms/step - loss: -9.1758 - acc: 0.1873\n",
      "Epoch 16/100\n",
      "534/534 [==============================] - 2s 4ms/step - loss: -9.1758 - acc: 0.1873\n",
      "Epoch 17/100\n",
      "534/534 [==============================] - 3s 5ms/step - loss: -9.1758 - acc: 0.1873\n",
      "Epoch 18/100\n",
      "534/534 [==============================] - 2s 4ms/step - loss: -9.1758 - acc: 0.1873\n",
      "Epoch 19/100\n",
      "534/534 [==============================] - 3s 5ms/step - loss: -9.1758 - acc: 0.1873\n",
      "Epoch 20/100\n",
      "534/534 [==============================] - 3s 5ms/step - loss: -9.1758 - acc: 0.1873\n",
      "Epoch 21/100\n",
      "534/534 [==============================] - 2s 4ms/step - loss: -9.1758 - acc: 0.1873\n",
      "Epoch 22/100\n",
      "534/534 [==============================] - 3s 6ms/step - loss: -9.1758 - acc: 0.1873\n",
      "Epoch 23/100\n",
      "534/534 [==============================] - 3s 5ms/step - loss: -9.1758 - acc: 0.1873\n",
      "Epoch 24/100\n",
      "534/534 [==============================] - 2s 4ms/step - loss: -9.1758 - acc: 0.1873\n",
      "Epoch 25/100\n",
      "534/534 [==============================] - 2s 4ms/step - loss: -9.1758 - acc: 0.1873\n",
      "Epoch 26/100\n",
      "534/534 [==============================] - 2s 4ms/step - loss: -9.1758 - acc: 0.1873\n",
      "Epoch 27/100\n",
      "534/534 [==============================] - 2s 4ms/step - loss: -9.1758 - acc: 0.1873\n",
      "Epoch 28/100\n",
      "534/534 [==============================] - 2s 5ms/step - loss: -9.1758 - acc: 0.1873\n",
      "Epoch 29/100\n",
      "534/534 [==============================] - 2s 4ms/step - loss: -9.1758 - acc: 0.1873\n",
      "Epoch 30/100\n",
      "534/534 [==============================] - 2s 4ms/step - loss: -9.1758 - acc: 0.1873\n",
      "Epoch 31/100\n",
      "534/534 [==============================] - 2s 4ms/step - loss: -9.1758 - acc: 0.1873\n",
      "Epoch 32/100\n",
      "534/534 [==============================] - 2s 5ms/step - loss: -9.1758 - acc: 0.1873\n",
      "Epoch 33/100\n",
      "534/534 [==============================] - 2s 4ms/step - loss: -9.1758 - acc: 0.1873\n",
      "Epoch 34/100\n",
      "534/534 [==============================] - 2s 5ms/step - loss: -9.1758 - acc: 0.1873\n",
      "Epoch 35/100\n",
      "534/534 [==============================] - 3s 5ms/step - loss: -9.1758 - acc: 0.1873\n",
      "Epoch 36/100\n",
      "534/534 [==============================] - 3s 5ms/step - loss: -9.1758 - acc: 0.1873\n",
      "Epoch 37/100\n",
      "534/534 [==============================] - 2s 5ms/step - loss: -9.1758 - acc: 0.1873\n",
      "Epoch 38/100\n",
      "534/534 [==============================] - 3s 5ms/step - loss: -9.1758 - acc: 0.1873\n",
      "Epoch 39/100\n",
      "534/534 [==============================] - 2s 4ms/step - loss: -9.1758 - acc: 0.1873\n",
      "Epoch 40/100\n",
      "534/534 [==============================] - 2s 4ms/step - loss: -9.1758 - acc: 0.1873\n",
      "Epoch 41/100\n",
      "534/534 [==============================] - 2s 4ms/step - loss: -9.1758 - acc: 0.1873\n",
      "Epoch 42/100\n",
      "534/534 [==============================] - 2s 4ms/step - loss: -9.1758 - acc: 0.1873\n",
      "Epoch 43/100\n",
      "534/534 [==============================] - 2s 4ms/step - loss: -9.1758 - acc: 0.1873\n",
      "Epoch 44/100\n",
      "534/534 [==============================] - 2s 4ms/step - loss: -9.1758 - acc: 0.1873\n",
      "Epoch 45/100\n",
      "534/534 [==============================] - 2s 5ms/step - loss: -9.1758 - acc: 0.1873\n",
      "Epoch 46/100\n",
      "534/534 [==============================] - 2s 4ms/step - loss: -9.1758 - acc: 0.1873\n",
      "Epoch 47/100\n",
      "534/534 [==============================] - 2s 4ms/step - loss: -9.1758 - acc: 0.1873\n",
      "Epoch 48/100\n",
      "534/534 [==============================] - 2s 4ms/step - loss: -9.1758 - acc: 0.1873\n",
      "Epoch 49/100\n",
      "534/534 [==============================] - 2s 5ms/step - loss: -9.1758 - acc: 0.1873\n",
      "Epoch 50/100\n",
      "534/534 [==============================] - 2s 4ms/step - loss: -9.1758 - acc: 0.1873\n",
      "Epoch 51/100\n",
      "534/534 [==============================] - 2s 4ms/step - loss: -9.1758 - acc: 0.1873\n",
      "Epoch 52/100\n",
      "534/534 [==============================] - 2s 4ms/step - loss: -9.1758 - acc: 0.1873\n",
      "Epoch 53/100\n",
      "534/534 [==============================] - 2s 4ms/step - loss: -9.1758 - acc: 0.1873\n",
      "Epoch 54/100\n",
      "534/534 [==============================] - 2s 4ms/step - loss: -9.1758 - acc: 0.1873\n",
      "Epoch 55/100\n",
      "534/534 [==============================] - 2s 4ms/step - loss: -9.1758 - acc: 0.1873\n",
      "Epoch 56/100\n",
      "534/534 [==============================] - 2s 5ms/step - loss: -9.1758 - acc: 0.1873\n",
      "Epoch 57/100\n",
      "534/534 [==============================] - 2s 4ms/step - loss: -9.1758 - acc: 0.1873\n",
      "Epoch 58/100\n",
      "534/534 [==============================] - 2s 5ms/step - loss: -9.1758 - acc: 0.1873\n",
      "Epoch 59/100\n",
      "534/534 [==============================] - 2s 4ms/step - loss: -9.1758 - acc: 0.1873\n",
      "Epoch 60/100\n",
      "534/534 [==============================] - 2s 4ms/step - loss: -9.1758 - acc: 0.1873\n",
      "Epoch 61/100\n",
      "534/534 [==============================] - 2s 4ms/step - loss: -9.1758 - acc: 0.1873\n",
      "Epoch 62/100\n",
      "534/534 [==============================] - 2s 4ms/step - loss: -9.1758 - acc: 0.1873\n",
      "Epoch 63/100\n",
      "534/534 [==============================] - 2s 5ms/step - loss: -9.1758 - acc: 0.1873\n",
      "Epoch 64/100\n",
      "534/534 [==============================] - 2s 4ms/step - loss: -9.1758 - acc: 0.1873\n",
      "Epoch 65/100\n",
      "534/534 [==============================] - 2s 4ms/step - loss: -9.1758 - acc: 0.1873\n",
      "Epoch 66/100\n",
      "534/534 [==============================] - 2s 4ms/step - loss: -9.1758 - acc: 0.1873\n",
      "Epoch 67/100\n",
      "534/534 [==============================] - 2s 4ms/step - loss: -9.1758 - acc: 0.1873\n",
      "Epoch 68/100\n",
      "534/534 [==============================] - 2s 4ms/step - loss: -9.1758 - acc: 0.1873\n",
      "Epoch 69/100\n",
      "534/534 [==============================] - 2s 4ms/step - loss: -9.1758 - acc: 0.1873\n",
      "Epoch 70/100\n",
      "534/534 [==============================] - 2s 5ms/step - loss: -9.1758 - acc: 0.1873\n",
      "Epoch 71/100\n",
      "534/534 [==============================] - 2s 5ms/step - loss: -9.1758 - acc: 0.1873\n",
      "Epoch 72/100\n",
      "534/534 [==============================] - 2s 4ms/step - loss: -9.1758 - acc: 0.1873\n",
      "Epoch 73/100\n",
      "534/534 [==============================] - 2s 5ms/step - loss: -9.1758 - acc: 0.1873\n",
      "Epoch 74/100\n",
      "534/534 [==============================] - 2s 4ms/step - loss: -9.1758 - acc: 0.1873\n",
      "Epoch 75/100\n",
      "534/534 [==============================] - 2s 4ms/step - loss: -9.1758 - acc: 0.1873\n",
      "Epoch 76/100\n",
      "534/534 [==============================] - 2s 4ms/step - loss: -9.1758 - acc: 0.1873\n",
      "Epoch 77/100\n",
      "534/534 [==============================] - 2s 5ms/step - loss: -9.1758 - acc: 0.1873\n",
      "Epoch 78/100\n",
      "534/534 [==============================] - 2s 4ms/step - loss: -9.1758 - acc: 0.1873\n",
      "Epoch 79/100\n",
      "534/534 [==============================] - 2s 4ms/step - loss: -9.1758 - acc: 0.1873\n",
      "Epoch 80/100\n",
      "534/534 [==============================] - 2s 4ms/step - loss: -9.1758 - acc: 0.1873\n",
      "Epoch 81/100\n",
      "534/534 [==============================] - 2s 4ms/step - loss: -9.1758 - acc: 0.1873\n",
      "Epoch 82/100\n",
      "534/534 [==============================] - 2s 4ms/step - loss: -9.1758 - acc: 0.1873\n",
      "Epoch 83/100\n",
      "534/534 [==============================] - 2s 4ms/step - loss: -9.1758 - acc: 0.1873\n",
      "Epoch 84/100\n"
     ]
    },
    {
     "name": "stdout",
     "output_type": "stream",
     "text": [
      "534/534 [==============================] - 2s 4ms/step - loss: -9.1758 - acc: 0.1873\n",
      "Epoch 85/100\n",
      "534/534 [==============================] - 2s 4ms/step - loss: -9.1758 - acc: 0.1873\n",
      "Epoch 86/100\n",
      "534/534 [==============================] - 2s 4ms/step - loss: -9.1758 - acc: 0.1873\n",
      "Epoch 87/100\n",
      "534/534 [==============================] - 2s 4ms/step - loss: -9.1758 - acc: 0.1873\n",
      "Epoch 88/100\n",
      "534/534 [==============================] - 2s 4ms/step - loss: -9.1758 - acc: 0.1873\n",
      "Epoch 89/100\n",
      "534/534 [==============================] - 2s 4ms/step - loss: -9.1758 - acc: 0.1873\n",
      "Epoch 90/100\n",
      "534/534 [==============================] - 2s 4ms/step - loss: -9.1758 - acc: 0.1873\n",
      "Epoch 91/100\n",
      "534/534 [==============================] - 2s 4ms/step - loss: -9.1758 - acc: 0.1873\n",
      "Epoch 92/100\n",
      "534/534 [==============================] - 2s 4ms/step - loss: -9.1758 - acc: 0.1873\n",
      "Epoch 93/100\n",
      "534/534 [==============================] - 2s 4ms/step - loss: -9.1758 - acc: 0.1873\n",
      "Epoch 94/100\n",
      "534/534 [==============================] - 2s 4ms/step - loss: -9.1758 - acc: 0.1873\n",
      "Epoch 95/100\n",
      "534/534 [==============================] - 2s 4ms/step - loss: -9.1758 - acc: 0.1873\n",
      "Epoch 96/100\n",
      "534/534 [==============================] - 2s 4ms/step - loss: -9.1758 - acc: 0.1873\n",
      "Epoch 97/100\n",
      "534/534 [==============================] - 2s 4ms/step - loss: -9.1758 - acc: 0.1873\n",
      "Epoch 98/100\n",
      "534/534 [==============================] - 2s 4ms/step - loss: -9.1758 - acc: 0.1873\n",
      "Epoch 99/100\n",
      "534/534 [==============================] - 2s 4ms/step - loss: -9.1758 - acc: 0.1873\n",
      "Epoch 100/100\n",
      "534/534 [==============================] - 2s 4ms/step - loss: -9.1758 - acc: 0.1873\n"
     ]
    }
   ],
   "source": [
    "# Modell anpassen: 100%\n",
    "lstm_model_100 = fit_lstm(trainX_N100, trainY_N100, batch_size=1, blocks=4, epochen=100)"
   ]
  },
  {
   "cell_type": "code",
   "execution_count": 37,
   "metadata": {},
   "outputs": [],
   "source": [
    "# Funktion zur Vorhersage\n",
    "def forecast_lstm(model, batch_size, X):\n",
    "    X=array(X)\n",
    "    X = X.reshape(1, 1, len(X))\n",
    "    yhat = model.predict(X, batch_size=batch_size)\n",
    "    return yhat[0,0]"
   ]
  },
  {
   "cell_type": "code",
   "execution_count": 38,
   "metadata": {},
   "outputs": [],
   "source": [
    "# Validierung des Modells anhand der Testdaten\n",
    "predictions_100 = list()\n",
    "for i in range(len(testY_N100)):\n",
    "    # schrittweise Vorhersage\n",
    "    X=testX_N100\n",
    "    yhat = forecast_lstm(lstm_model_100, 1, X.iloc[i,:])\n",
    "    # Vorhersage speichern\n",
    "    predictions_100.append(yhat)"
   ]
  },
  {
   "cell_type": "code",
   "execution_count": 39,
   "metadata": {},
   "outputs": [],
   "source": [
    "# Umwandeln der Werte in Trendzahlen [-1,0,1]\n",
    "def classification(dataset):\n",
    "    for i in range(len(dataset)):\n",
    "        if dataset[i]>= 0.05:\n",
    "            dataset[i]=1\n",
    "        elif dataset[i]<= -0.05:\n",
    "            dataset[i]=-1\n",
    "        else:\n",
    "            dataset[i]=0\n",
    "    return dataset"
   ]
  },
  {
   "cell_type": "code",
   "execution_count": 40,
   "metadata": {},
   "outputs": [],
   "source": [
    "testPredict_100=classification(predictions_100)"
   ]
  },
  {
   "cell_type": "code",
   "execution_count": 41,
   "metadata": {},
   "outputs": [
    {
     "data": {
      "text/plain": [
       "0.24598930481283424"
      ]
     },
     "execution_count": 41,
     "metadata": {},
     "output_type": "execute_result"
    }
   ],
   "source": [
    "accuracy_score(testY_N100, testPredict_100)"
   ]
  },
  {
   "cell_type": "code",
   "execution_count": null,
   "metadata": {},
   "outputs": [],
   "source": []
  },
  {
   "cell_type": "code",
   "execution_count": 25,
   "metadata": {},
   "outputs": [],
   "source": [
    "# Replizierbarkeit gewährleisten\n",
    "np.random.seed(1)"
   ]
  },
  {
   "cell_type": "code",
   "execution_count": 26,
   "metadata": {},
   "outputs": [
    {
     "name": "stdout",
     "output_type": "stream",
     "text": [
      "Epoch 1/2\n",
      "179/179 [==============================] - 2s 11ms/step - loss: -12.9956 - acc: 0.0615\n",
      "Epoch 2/2\n",
      "179/179 [==============================] - 1s 4ms/step - loss: -13.5068 - acc: 0.0615\n"
     ]
    }
   ],
   "source": [
    "# Modell anpassen: 46%\n",
    "lstm_model_46 = fit_lstm(trainX_N46, trainY_N46, batch_size=1, blocks=4, epochen=30)"
   ]
  },
  {
   "cell_type": "code",
   "execution_count": 27,
   "metadata": {},
   "outputs": [],
   "source": [
    "# Validierung des Modells anhand der Testdaten\n",
    "predictions_46 = list()\n",
    "for i in range(len(testY_N46)):\n",
    "    # schrittweise Vorhersage\n",
    "    X=testX_N46\n",
    "    yhat = forecast_lstm(lstm_model_46, 1, X.iloc[i,:])\n",
    "    # Vorhersage speichern\n",
    "    predictions_46.append(yhat)"
   ]
  },
  {
   "cell_type": "code",
   "execution_count": 28,
   "metadata": {},
   "outputs": [],
   "source": [
    "testPredict=classification(predictions_46)"
   ]
  },
  {
   "cell_type": "code",
   "execution_count": 29,
   "metadata": {},
   "outputs": [
    {
     "data": {
      "text/plain": [
       "0.0"
      ]
     },
     "execution_count": 29,
     "metadata": {},
     "output_type": "execute_result"
    }
   ],
   "source": [
    "accuracy_score(testY_N46, testPredict)"
   ]
  },
  {
   "cell_type": "code",
   "execution_count": null,
   "metadata": {},
   "outputs": [],
   "source": []
  },
  {
   "cell_type": "code",
   "execution_count": null,
   "metadata": {},
   "outputs": [],
   "source": []
  }
 ],
 "metadata": {
  "kernelspec": {
   "display_name": "Python 3",
   "language": "python",
   "name": "python3"
  },
  "language_info": {
   "codemirror_mode": {
    "name": "ipython",
    "version": 3
   },
   "file_extension": ".py",
   "mimetype": "text/x-python",
   "name": "python",
   "nbconvert_exporter": "python",
   "pygments_lexer": "ipython3",
   "version": "3.6.5"
  }
 },
 "nbformat": 4,
 "nbformat_minor": 2
}
