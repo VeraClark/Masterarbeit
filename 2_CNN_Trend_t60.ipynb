{
 "cells": [
  {
   "cell_type": "code",
   "execution_count": 1,
   "metadata": {},
   "outputs": [
    {
     "name": "stderr",
     "output_type": "stream",
     "text": [
      "C:\\Anaconda\\lib\\site-packages\\h5py\\__init__.py:36: FutureWarning: Conversion of the second argument of issubdtype from `float` to `np.floating` is deprecated. In future, it will be treated as `np.float64 == np.dtype(float).type`.\n",
      "  from ._conv import register_converters as _register_converters\n",
      "Using TensorFlow backend.\n"
     ]
    }
   ],
   "source": [
    "# Packages laden\n",
    "import pandas as pd\n",
    "import numpy as np\n",
    "from keras.layers import Convolution1D, Dense, MaxPooling1D, Flatten, Dropout\n",
    "from keras.models import Sequential\n",
    "from sklearn.metrics import mean_squared_error, accuracy_score,classification_report,confusion_matrix,auc, log_loss \n",
    "from keras.backend import binary_crossentropy\n",
    "from matplotlib import pyplot as plt"
   ]
  },
  {
   "cell_type": "code",
   "execution_count": 2,
   "metadata": {},
   "outputs": [],
   "source": [
    "DATA_FILE=\"Dropbox/Masterarbeit/Masterarbeit/Datensätze/Geburtenrate/Datensatz.xlsx\"\n",
    "df = pd.read_excel(DATA_FILE)\n",
    "df=pd.read_excel(DATA_FILE, header=0, parse_dates=[0], index_col='Jahr-Monat',squeeze=True,)"
   ]
  },
  {
   "cell_type": "code",
   "execution_count": 3,
   "metadata": {},
   "outputs": [],
   "source": [
    "# Ein array mit allen Einträgen --> zur besseren Weiterverarbeitung\n",
    "ZR=df.values"
   ]
  },
  {
   "cell_type": "code",
   "execution_count": 4,
   "metadata": {},
   "outputs": [],
   "source": [
    "# Anteil der Datensätze am Gesamtdatensatz\n",
    "ZR_100=ZR\n",
    "ZR_46=ZR[-400:]"
   ]
  },
  {
   "cell_type": "code",
   "execution_count": 5,
   "metadata": {},
   "outputs": [],
   "source": [
    "# Preprocessing der Rohdaten: 100%\n",
    "ZR_100=np.atleast_2d(ZR_100)\n",
    "if ZR_100.shape[0]==1:\n",
    "    ZR_100=ZR_100.T\n",
    "nb_samples_100, nb_series_100 = ZR_100.shape"
   ]
  },
  {
   "cell_type": "code",
   "execution_count": 6,
   "metadata": {},
   "outputs": [],
   "source": [
    "# Preprocessing der Rohdaten: 46%\n",
    "ZR_46=np.atleast_2d(ZR_46)\n",
    "if ZR_46.shape[0]==1:\n",
    "    ZR_46=ZR_46.T\n",
    "nb_samples_46, nb_series_46 = ZR_46.shape"
   ]
  },
  {
   "cell_type": "code",
   "execution_count": 7,
   "metadata": {},
   "outputs": [],
   "source": [
    "# Einteilung in Trainings- und Testdaten: nicht mehr ZR sondern X --> X_train etc\n",
    "test_size_100=int(0.3*nb_samples_100)\n",
    "train_100, test_100 = ZR_100[:-test_size_100], ZR_100[-test_size_100:] \n",
    "\n",
    "test_size_46=int(0.35*nb_samples_46)\n",
    "train_46, test_46 = ZR_46[:-test_size_46], ZR_46[-test_size_46:]"
   ]
  },
  {
   "cell_type": "code",
   "execution_count": 8,
   "metadata": {},
   "outputs": [],
   "source": [
    "# Funktion zur Erzeugung von y zur Trendvorhersage/Klassifikation t+1: y=(-1,0,1)\n",
    "def create_Y_trend(dataset):\n",
    "    dataY=[0]*(len(dataset)-1)\n",
    "    for i in range(len(dataset)-1):\n",
    "        a = dataset[i]-dataset[i+1]\n",
    "        if a<0:\n",
    "            dataY[i]=1\n",
    "        elif a>0:\n",
    "            dataY[i]=-1\n",
    "        else:\n",
    "            dataY[i]=0\n",
    "    return np.array(dataY)"
   ]
  },
  {
   "cell_type": "code",
   "execution_count": 9,
   "metadata": {},
   "outputs": [],
   "source": [
    "# Funktion zur Weiterentwicklung von Trendergebnissen y(t+1) zu y(t+look_forward) mit look_forward>1\n",
    "def create_Y_multitrend(dataset,look_forward):\n",
    "    dataY= create_Y_trend(dataset)\n",
    "    length=len(dataY)-look_forward+1\n",
    "    dataY_m=[0]*length \n",
    "    dataY_m=np.array(dataY_m)\n",
    "    for i in range(len(dataY_m)):\n",
    "        for j in range(look_forward):\n",
    "            dataY_m[i]= dataY_m[i]+dataY[i+j]\n",
    "        if dataY_m[i]<0:\n",
    "            dataY_m[i]=-1\n",
    "        elif dataY_m[i]>0:\n",
    "            dataY_m[i]=1\n",
    "        else:\n",
    "            dataY_m[i]=0\n",
    "    return np.array(dataY_m)"
   ]
  },
  {
   "cell_type": "code",
   "execution_count": 10,
   "metadata": {},
   "outputs": [],
   "source": [
    "# Erstellen des Trends für die gesamten Rohdaten mit Horizont t+60\n",
    "look_forward=60\n",
    "ytrain_100=create_Y_multitrend(train_100, look_forward)\n",
    "ytrain_46=create_Y_multitrend(train_46, look_forward)\n",
    "\n",
    "ytest_100=create_Y_multitrend(test_100, look_forward)\n",
    "ytest_46=create_Y_multitrend(test_46, look_forward)"
   ]
  },
  {
   "cell_type": "code",
   "execution_count": 11,
   "metadata": {},
   "outputs": [
    {
     "name": "stdout",
     "output_type": "stream",
     "text": [
      "(1, 12, 1) (533,) (533, 12, 1)\n",
      "(1, 12, 1) (186,) (186, 12, 1)\n"
     ]
    }
   ],
   "source": [
    "# Shape des Input und Outputs anpassen: 100%\n",
    "window_size=12\n",
    "Xtrain_100=np.atleast_3d(np.array([train_100[start:start+window_size] for start in range(0, train_100.shape[0]-(window_size+look_forward))]))\n",
    "ytrain_100=ytrain_100[window_size:]\n",
    "qtrain_100=np.atleast_3d([train_100[-window_size:]])\n",
    "print(qtrain_100.shape, ytrain_100.shape, Xtrain_100.shape)\n",
    "\n",
    "Xtest_100=np.atleast_3d(np.array([test_100[start:start+window_size] for start in range(0, test_100.shape[0]-(window_size+look_forward))]))\n",
    "ytest_100=ytest_100[window_size:]\n",
    "qtest_100=np.atleast_3d([test_100[-window_size:]])\n",
    "print(qtest_100.shape, ytest_100.shape, Xtest_100.shape)"
   ]
  },
  {
   "cell_type": "code",
   "execution_count": 12,
   "metadata": {},
   "outputs": [
    {
     "name": "stdout",
     "output_type": "stream",
     "text": [
      "(1, 12, 1) (188,) (188, 12, 1)\n",
      "(1, 12, 1) (68,) (68, 12, 1)\n"
     ]
    }
   ],
   "source": [
    "# Shape des Input und Outputs anpassen: 46%\n",
    "Xtrain_46=np.atleast_3d(np.array([train_46[start:start+window_size] for start in range(0, train_46.shape[0]-(window_size+look_forward))]))\n",
    "ytrain_46=ytrain_46[window_size:]\n",
    "qtrain_46=np.atleast_3d([train_46[-window_size:]])\n",
    "print(qtrain_46.shape, ytrain_46.shape, Xtrain_46.shape)\n",
    "\n",
    "Xtest_46=np.atleast_3d(np.array([test_46[start:start+window_size] for start in range(0, test_46.shape[0]-(window_size+look_forward))]))\n",
    "ytest_46=ytest_46[window_size:]\n",
    "qtest_46=np.atleast_3d([test_46[-window_size:]])\n",
    "print(qtest_46.shape, ytest_46.shape, Xtest_46.shape)"
   ]
  },
  {
   "cell_type": "code",
   "execution_count": 13,
   "metadata": {},
   "outputs": [
    {
     "name": "stderr",
     "output_type": "stream",
     "text": [
      "C:\\Anaconda\\lib\\site-packages\\ipykernel_launcher.py:10: UserWarning: Update your `Conv1D` call to the Keras 2 API: `Conv1D(activation=\"tanh\", input_shape=(12, 1), filters=32, kernel_size=2)`\n",
      "  # Remove the CWD from sys.path while we load stuff.\n"
     ]
    },
    {
     "name": "stdout",
     "output_type": "stream",
     "text": [
      "WARNING:tensorflow:From C:\\Anaconda\\lib\\site-packages\\tensorflow\\python\\util\\deprecation.py:497: calling conv1d (from tensorflow.python.ops.nn_ops) with data_format=NHWC is deprecated and will be removed in a future version.\n",
      "Instructions for updating:\n",
      "`NHWC` for data_format is deprecated, use `NWC` instead\n"
     ]
    },
    {
     "name": "stderr",
     "output_type": "stream",
     "text": [
      "C:\\Anaconda\\lib\\site-packages\\ipykernel_launcher.py:11: UserWarning: Update your `Conv1D` call to the Keras 2 API: `Conv1D(activation=\"tanh\", filters=64, kernel_size=2)`\n",
      "  # This is added back by InteractiveShellApp.init_path()\n",
      "C:\\Anaconda\\lib\\site-packages\\ipykernel_launcher.py:13: UserWarning: Update your `Conv1D` call to the Keras 2 API: `Conv1D(activation=\"tanh\", filters=64, kernel_size=2)`\n",
      "  del sys.path[0]\n"
     ]
    }
   ],
   "source": [
    "# Modellzusammenbauen: wichtig Zusammenhang zwischen window_size und filter_length + nb_filter\n",
    "nb_filter_1=32\n",
    "nb_filter_2=64\n",
    "nb_filter_3=64\n",
    "filter_length=2\n",
    "nb_input_series=1\n",
    "nb_outputs=1\n",
    "model= Sequential()\n",
    "model.add(Convolution1D(nb_filter=nb_filter_1, filter_length=filter_length, activation='tanh', \n",
    "                        input_shape=(window_size, nb_input_series)))\n",
    "model.add(Convolution1D(nb_filter=nb_filter_2, filter_length=filter_length, activation='tanh'))\n",
    "model.add(MaxPooling1D())\n",
    "model.add(Convolution1D(nb_filter=nb_filter_3, filter_length=filter_length, activation='tanh'))\n",
    "model.add(MaxPooling1D())\n",
    "model.add(Flatten())\n",
    "model.add(Dense(nb_outputs, activation='tanh')) \n",
    "model.compile(loss='binary_crossentropy', optimizer='adam', metrics=['binary_accuracy'])"
   ]
  },
  {
   "cell_type": "code",
   "execution_count": 14,
   "metadata": {},
   "outputs": [
    {
     "name": "stdout",
     "output_type": "stream",
     "text": [
      "_________________________________________________________________\n",
      "Layer (type)                 Output Shape              Param #   \n",
      "=================================================================\n",
      "conv1d_1 (Conv1D)            (None, 11, 32)            96        \n",
      "_________________________________________________________________\n",
      "conv1d_2 (Conv1D)            (None, 10, 64)            4160      \n",
      "_________________________________________________________________\n",
      "max_pooling1d_1 (MaxPooling1 (None, 5, 64)             0         \n",
      "_________________________________________________________________\n",
      "conv1d_3 (Conv1D)            (None, 4, 64)             8256      \n",
      "_________________________________________________________________\n",
      "max_pooling1d_2 (MaxPooling1 (None, 2, 64)             0         \n",
      "_________________________________________________________________\n",
      "flatten_1 (Flatten)          (None, 128)               0         \n",
      "_________________________________________________________________\n",
      "dense_1 (Dense)              (None, 1)                 129       \n",
      "=================================================================\n",
      "Total params: 12,641\n",
      "Trainable params: 12,641\n",
      "Non-trainable params: 0\n",
      "_________________________________________________________________\n"
     ]
    }
   ],
   "source": [
    "# Modellzusammenfassung\n",
    "model.summary()"
   ]
  },
  {
   "cell_type": "code",
   "execution_count": 15,
   "metadata": {},
   "outputs": [],
   "source": [
    "# Replizierbarkeit gewährleisten\n",
    "np.random.seed(0)"
   ]
  },
  {
   "cell_type": "code",
   "execution_count": 16,
   "metadata": {},
   "outputs": [
    {
     "name": "stdout",
     "output_type": "stream",
     "text": [
      "Train on 533 samples, validate on 186 samples\n",
      "Epoch 1/25\n",
      "533/533 [==============================] - 2s 4ms/step - loss: -9.1004 - binary_accuracy: 0.6829 - val_loss: 3.0330 - val_binary_accuracy: 0.2419\n",
      "Epoch 2/25\n",
      "533/533 [==============================] - 1s 2ms/step - loss: -9.1628 - binary_accuracy: 0.6904 - val_loss: 3.0330 - val_binary_accuracy: 0.2419\n",
      "Epoch 3/25\n",
      "533/533 [==============================] - 1s 2ms/step - loss: -9.1628 - binary_accuracy: 0.6904 - val_loss: 3.0330 - val_binary_accuracy: 0.2419\n",
      "Epoch 4/25\n",
      "533/533 [==============================] - 1s 2ms/step - loss: -9.1628 - binary_accuracy: 0.6904 - val_loss: 3.0330 - val_binary_accuracy: 0.2419\n",
      "Epoch 5/25\n",
      "533/533 [==============================] - 1s 2ms/step - loss: -9.1628 - binary_accuracy: 0.6904 - val_loss: 3.0330 - val_binary_accuracy: 0.2419\n",
      "Epoch 6/25\n",
      "533/533 [==============================] - 1s 2ms/step - loss: -9.1628 - binary_accuracy: 0.6904 - val_loss: 3.0330 - val_binary_accuracy: 0.2419\n",
      "Epoch 7/25\n",
      "533/533 [==============================] - 1s 2ms/step - loss: -9.1628 - binary_accuracy: 0.6904 - val_loss: 3.0330 - val_binary_accuracy: 0.2419\n",
      "Epoch 8/25\n",
      "533/533 [==============================] - 1s 2ms/step - loss: -9.1628 - binary_accuracy: 0.6904 - val_loss: 3.0330 - val_binary_accuracy: 0.2419\n",
      "Epoch 9/25\n",
      "533/533 [==============================] - 1s 2ms/step - loss: -9.1628 - binary_accuracy: 0.6904 - val_loss: 3.0330 - val_binary_accuracy: 0.2419\n",
      "Epoch 10/25\n",
      "533/533 [==============================] - 1s 3ms/step - loss: -9.1628 - binary_accuracy: 0.6904 - val_loss: 3.0330 - val_binary_accuracy: 0.2419\n",
      "Epoch 11/25\n",
      "533/533 [==============================] - 1s 2ms/step - loss: -9.1628 - binary_accuracy: 0.6904 - val_loss: 3.0330 - val_binary_accuracy: 0.2419\n",
      "Epoch 12/25\n",
      "533/533 [==============================] - 1s 2ms/step - loss: -9.1628 - binary_accuracy: 0.6904 - val_loss: 3.0330 - val_binary_accuracy: 0.2419\n",
      "Epoch 13/25\n",
      "533/533 [==============================] - 1s 2ms/step - loss: -9.1628 - binary_accuracy: 0.6904 - val_loss: 3.0330 - val_binary_accuracy: 0.2419\n",
      "Epoch 14/25\n",
      "533/533 [==============================] - 1s 3ms/step - loss: -9.1628 - binary_accuracy: 0.6904 - val_loss: 3.0330 - val_binary_accuracy: 0.2419\n",
      "Epoch 15/25\n",
      "533/533 [==============================] - 1s 2ms/step - loss: -9.1628 - binary_accuracy: 0.6904 - val_loss: 3.0330 - val_binary_accuracy: 0.2419\n",
      "Epoch 16/25\n",
      "533/533 [==============================] - 1s 2ms/step - loss: -9.1628 - binary_accuracy: 0.6904 - val_loss: 3.0330 - val_binary_accuracy: 0.2419\n",
      "Epoch 17/25\n",
      "533/533 [==============================] - 1s 2ms/step - loss: -9.1628 - binary_accuracy: 0.6904 - val_loss: 3.0330 - val_binary_accuracy: 0.2419\n",
      "Epoch 18/25\n",
      "533/533 [==============================] - 1s 2ms/step - loss: -9.1628 - binary_accuracy: 0.6904 - val_loss: 3.0330 - val_binary_accuracy: 0.2419\n",
      "Epoch 19/25\n",
      "533/533 [==============================] - 1s 3ms/step - loss: -9.1628 - binary_accuracy: 0.6904 - val_loss: 3.0330 - val_binary_accuracy: 0.2419\n",
      "Epoch 20/25\n",
      "533/533 [==============================] - 1s 2ms/step - loss: -9.1628 - binary_accuracy: 0.6904 - val_loss: 3.0330 - val_binary_accuracy: 0.2419\n",
      "Epoch 21/25\n",
      "533/533 [==============================] - 1s 2ms/step - loss: -9.1628 - binary_accuracy: 0.6904 - val_loss: 3.0330 - val_binary_accuracy: 0.2419\n",
      "Epoch 22/25\n",
      "533/533 [==============================] - 1s 3ms/step - loss: -9.1628 - binary_accuracy: 0.6904 - val_loss: 3.0330 - val_binary_accuracy: 0.2419\n",
      "Epoch 23/25\n",
      "533/533 [==============================] - 1s 2ms/step - loss: -9.1628 - binary_accuracy: 0.6904 - val_loss: 3.0330 - val_binary_accuracy: 0.2419\n",
      "Epoch 24/25\n",
      "533/533 [==============================] - 1s 2ms/step - loss: -9.1628 - binary_accuracy: 0.6904 - val_loss: 3.0330 - val_binary_accuracy: 0.2419\n",
      "Epoch 25/25\n",
      "533/533 [==============================] - 1s 2ms/step - loss: -9.1628 - binary_accuracy: 0.6904 - val_loss: 3.0330 - val_binary_accuracy: 0.2419\n"
     ]
    }
   ],
   "source": [
    "# Modellanpassung: probieren ob nb_epochs = epochs\n",
    "history_trend=model.fit(Xtrain_100, ytrain_100, epochs=25, batch_size=2, validation_data=(Xtest_100, ytest_100))"
   ]
  },
  {
   "cell_type": "code",
   "execution_count": 17,
   "metadata": {},
   "outputs": [
    {
     "data": {
      "text/plain": [
       "Text(0.5,1,'Loss Curves')"
      ]
     },
     "execution_count": 17,
     "metadata": {},
     "output_type": "execute_result"
    },
    {
     "data": {
      "image/png": "[encoded data removed]",
      "text/plain": [
       "<Figure size 576x432 with 1 Axes>"
      ]
     },
     "metadata": {},
     "output_type": "display_data"
    }
   ],
   "source": [
    "#Ploten der Loss Curves\n",
    "plt.figure(figsize=[8,6])\n",
    "plt.plot(history_trend.history['loss'],'r',linewidth=3.0)\n",
    "plt.plot(history_trend.history['val_loss'],'b',linewidth=3.0)\n",
    "plt.legend(['Training loss', 'Validation Loss'],fontsize=18)\n",
    "plt.xlabel('Epochs ',fontsize=16)\n",
    "plt.ylabel('Loss',fontsize=16)\n",
    "plt.title('Loss Curves',fontsize=16)"
   ]
  },
  {
   "cell_type": "code",
   "execution_count": 18,
   "metadata": {},
   "outputs": [
    {
     "data": {
      "text/plain": [
       "Text(0.5,1,'Accuracy Curves')"
      ]
     },
     "execution_count": 18,
     "metadata": {},
     "output_type": "execute_result"
    },
    {
     "data": {
      "image/png": "[encoded data removed]",
      "text/plain": [
       "<Figure size 576x432 with 1 Axes>"
      ]
     },
     "metadata": {},
     "output_type": "display_data"
    }
   ],
   "source": [
    "#Plotten der Accuracy Curves\n",
    "plt.figure(figsize=[8,6])\n",
    "plt.plot(history_trend.history['binary_accuracy'],'r',linewidth=3.0)\n",
    "plt.plot(history_trend.history['val_binary_accuracy'],'b',linewidth=3.0)\n",
    "plt.legend(['Training Accuracy', 'Validation Accuracy'],fontsize=18)\n",
    "plt.xlabel('Epochs ',fontsize=16)\n",
    "plt.ylabel('Accuracy',fontsize=16)\n",
    "plt.title('Accuracy Curves',fontsize=16)"
   ]
  },
  {
   "cell_type": "code",
   "execution_count": 19,
   "metadata": {},
   "outputs": [],
   "source": [
    "# Vorhersage generieren\n",
    "testPredict_100 = model.predict(Xtest_100)"
   ]
  },
  {
   "cell_type": "code",
   "execution_count": 15,
   "metadata": {},
   "outputs": [],
   "source": [
    "def classification(dataset):\n",
    "    for i in range(len(dataset)):\n",
    "        if dataset[i]>= 0.05:\n",
    "            dataset[i]=1\n",
    "        elif dataset[i]<= -0.05:\n",
    "            dataset[i]=-1\n",
    "        else:\n",
    "            dataset[i]=0\n",
    "    return dataset"
   ]
  },
  {
   "cell_type": "code",
   "execution_count": 21,
   "metadata": {},
   "outputs": [],
   "source": [
    "testPredict_100=classification(testPredict_100)"
   ]
  },
  {
   "cell_type": "code",
   "execution_count": 22,
   "metadata": {},
   "outputs": [
    {
     "data": {
      "text/plain": [
       "0.24193548387096775"
      ]
     },
     "execution_count": 22,
     "metadata": {},
     "output_type": "execute_result"
    }
   ],
   "source": [
    "accuracy_score(ytest_100, testPredict_100)"
   ]
  },
  {
   "cell_type": "code",
   "execution_count": null,
   "metadata": {},
   "outputs": [],
   "source": []
  },
  {
   "cell_type": "code",
   "execution_count": 22,
   "metadata": {},
   "outputs": [],
   "source": [
    "# Replizierbarkeit gewährleisten\n",
    "np.random.seed(2)"
   ]
  },
  {
   "cell_type": "code",
   "execution_count": 23,
   "metadata": {},
   "outputs": [
    {
     "name": "stdout",
     "output_type": "stream",
     "text": [
      "Train on 188 samples, validate on 68 samples\n",
      "Epoch 1/200\n",
      "188/188 [==============================] - 1s 3ms/step - loss: -12.9459 - binary_accuracy: 0.8457 - val_loss: 9.4812 - val_binary_accuracy: 0.0000e+00\n",
      "Epoch 2/200\n",
      "188/188 [==============================] - 0s 3ms/step - loss: -12.9459 - binary_accuracy: 0.8457 - val_loss: 9.4812 - val_binary_accuracy: 0.0000e+00\n",
      "Epoch 3/200\n",
      "188/188 [==============================] - 0s 2ms/step - loss: -12.9459 - binary_accuracy: 0.8457 - val_loss: 9.4812 - val_binary_accuracy: 0.0000e+00\n",
      "Epoch 4/200\n",
      "188/188 [==============================] - 0s 2ms/step - loss: -12.9459 - binary_accuracy: 0.8457 - val_loss: 9.4812 - val_binary_accuracy: 0.0000e+00\n",
      "Epoch 5/200\n",
      "188/188 [==============================] - 0s 2ms/step - loss: -12.9459 - binary_accuracy: 0.8457 - val_loss: 9.4812 - val_binary_accuracy: 0.0000e+00\n",
      "Epoch 6/200\n",
      "188/188 [==============================] - 0s 2ms/step - loss: -12.9459 - binary_accuracy: 0.8457 - val_loss: 9.4812 - val_binary_accuracy: 0.0000e+00\n",
      "Epoch 7/200\n",
      "188/188 [==============================] - 0s 2ms/step - loss: -12.9459 - binary_accuracy: 0.8457 - val_loss: 9.4812 - val_binary_accuracy: 0.0000e+00\n",
      "Epoch 8/200\n",
      "188/188 [==============================] - 0s 2ms/step - loss: -12.9459 - binary_accuracy: 0.8457 - val_loss: 9.4812 - val_binary_accuracy: 0.0000e+00\n",
      "Epoch 9/200\n",
      "188/188 [==============================] - 0s 2ms/step - loss: -12.9459 - binary_accuracy: 0.8457 - val_loss: 9.4812 - val_binary_accuracy: 0.0000e+00\n",
      "Epoch 10/200\n",
      "188/188 [==============================] - 0s 2ms/step - loss: -12.9459 - binary_accuracy: 0.8457 - val_loss: 9.4812 - val_binary_accuracy: 0.0000e+00\n",
      "Epoch 11/200\n",
      "188/188 [==============================] - 0s 2ms/step - loss: -12.9459 - binary_accuracy: 0.8457 - val_loss: 9.4812 - val_binary_accuracy: 0.0000e+00\n",
      "Epoch 12/200\n",
      "188/188 [==============================] - 0s 2ms/step - loss: -12.9459 - binary_accuracy: 0.8457 - val_loss: 9.4812 - val_binary_accuracy: 0.0000e+00\n",
      "Epoch 13/200\n",
      "188/188 [==============================] - 1s 3ms/step - loss: -12.9459 - binary_accuracy: 0.8457 - val_loss: 9.4812 - val_binary_accuracy: 0.0000e+00\n",
      "Epoch 14/200\n",
      "188/188 [==============================] - 0s 2ms/step - loss: -12.9459 - binary_accuracy: 0.8457 - val_loss: 9.4812 - val_binary_accuracy: 0.0000e+00\n",
      "Epoch 15/200\n",
      "188/188 [==============================] - 0s 2ms/step - loss: -12.9459 - binary_accuracy: 0.8457 - val_loss: 9.4812 - val_binary_accuracy: 0.0000e+00\n",
      "Epoch 16/200\n",
      "188/188 [==============================] - 0s 2ms/step - loss: -12.9459 - binary_accuracy: 0.8457 - val_loss: 9.4812 - val_binary_accuracy: 0.0000e+00\n",
      "Epoch 17/200\n",
      "188/188 [==============================] - 0s 2ms/step - loss: -12.9459 - binary_accuracy: 0.8457 - val_loss: 9.4812 - val_binary_accuracy: 0.0000e+00\n",
      "Epoch 18/200\n",
      "188/188 [==============================] - 0s 2ms/step - loss: -12.9459 - binary_accuracy: 0.8457 - val_loss: 9.4812 - val_binary_accuracy: 0.0000e+00\n",
      "Epoch 19/200\n",
      "188/188 [==============================] - 0s 2ms/step - loss: -12.9459 - binary_accuracy: 0.8457 - val_loss: 9.4812 - val_binary_accuracy: 0.0000e+00\n",
      "Epoch 20/200\n",
      "188/188 [==============================] - 0s 2ms/step - loss: -12.9459 - binary_accuracy: 0.8457 - val_loss: 9.4812 - val_binary_accuracy: 0.0000e+00\n",
      "Epoch 21/200\n",
      "188/188 [==============================] - 0s 2ms/step - loss: -12.9459 - binary_accuracy: 0.8457 - val_loss: 9.4812 - val_binary_accuracy: 0.0000e+00\n",
      "Epoch 22/200\n",
      "188/188 [==============================] - 0s 3ms/step - loss: -12.9459 - binary_accuracy: 0.8457 - val_loss: 9.4812 - val_binary_accuracy: 0.0000e+00\n",
      "Epoch 23/200\n",
      "188/188 [==============================] - 0s 2ms/step - loss: -12.9459 - binary_accuracy: 0.8457 - val_loss: 9.4812 - val_binary_accuracy: 0.0000e+00\n",
      "Epoch 24/200\n",
      "188/188 [==============================] - 0s 2ms/step - loss: -12.9459 - binary_accuracy: 0.8457 - val_loss: 9.4812 - val_binary_accuracy: 0.0000e+00\n",
      "Epoch 25/200\n",
      "188/188 [==============================] - 0s 2ms/step - loss: -12.9459 - binary_accuracy: 0.8457 - val_loss: 9.4812 - val_binary_accuracy: 0.0000e+00\n",
      "Epoch 26/200\n",
      "188/188 [==============================] - 1s 3ms/step - loss: -12.9459 - binary_accuracy: 0.8457 - val_loss: 9.4812 - val_binary_accuracy: 0.0000e+00\n",
      "Epoch 27/200\n",
      "188/188 [==============================] - 0s 2ms/step - loss: -12.9459 - binary_accuracy: 0.8457 - val_loss: 9.4812 - val_binary_accuracy: 0.0000e+00\n",
      "Epoch 28/200\n",
      "188/188 [==============================] - 0s 2ms/step - loss: -12.9459 - binary_accuracy: 0.8457 - val_loss: 9.4812 - val_binary_accuracy: 0.0000e+00\n",
      "Epoch 29/200\n",
      "188/188 [==============================] - 0s 2ms/step - loss: -12.9459 - binary_accuracy: 0.8457 - val_loss: 9.4812 - val_binary_accuracy: 0.0000e+00\n",
      "Epoch 30/200\n",
      "188/188 [==============================] - 0s 2ms/step - loss: -12.9459 - binary_accuracy: 0.8457 - val_loss: 9.4812 - val_binary_accuracy: 0.0000e+00\n",
      "Epoch 31/200\n",
      "188/188 [==============================] - 0s 2ms/step - loss: -12.9459 - binary_accuracy: 0.8457 - val_loss: 9.4812 - val_binary_accuracy: 0.0000e+00\n",
      "Epoch 32/200\n",
      "188/188 [==============================] - 0s 2ms/step - loss: -12.9459 - binary_accuracy: 0.8457 - val_loss: 9.4812 - val_binary_accuracy: 0.0000e+00\n",
      "Epoch 33/200\n",
      "188/188 [==============================] - 0s 2ms/step - loss: -12.9459 - binary_accuracy: 0.8457 - val_loss: 9.4812 - val_binary_accuracy: 0.0000e+00\n",
      "Epoch 34/200\n",
      "188/188 [==============================] - 0s 2ms/step - loss: -12.9459 - binary_accuracy: 0.8457 - val_loss: 9.4812 - val_binary_accuracy: 0.0000e+00\n",
      "Epoch 35/200\n",
      "188/188 [==============================] - 0s 2ms/step - loss: -12.9459 - binary_accuracy: 0.8457 - val_loss: 9.4812 - val_binary_accuracy: 0.0000e+00\n",
      "Epoch 36/200\n",
      "188/188 [==============================] - 0s 3ms/step - loss: -12.9459 - binary_accuracy: 0.8457 - val_loss: 9.4812 - val_binary_accuracy: 0.0000e+00\n",
      "Epoch 37/200\n",
      "188/188 [==============================] - 0s 2ms/step - loss: -12.9459 - binary_accuracy: 0.8457 - val_loss: 9.4812 - val_binary_accuracy: 0.0000e+00\n",
      "Epoch 38/200\n",
      "188/188 [==============================] - 0s 2ms/step - loss: -12.9459 - binary_accuracy: 0.8457 - val_loss: 9.4812 - val_binary_accuracy: 0.0000e+00\n",
      "Epoch 39/200\n",
      "188/188 [==============================] - 0s 3ms/step - loss: -12.9459 - binary_accuracy: 0.8457 - val_loss: 9.4812 - val_binary_accuracy: 0.0000e+00\n",
      "Epoch 40/200\n",
      "188/188 [==============================] - 0s 2ms/step - loss: -12.9459 - binary_accuracy: 0.8457 - val_loss: 9.4812 - val_binary_accuracy: 0.0000e+00\n",
      "Epoch 41/200\n",
      "188/188 [==============================] - 0s 2ms/step - loss: -12.9459 - binary_accuracy: 0.8457 - val_loss: 9.4812 - val_binary_accuracy: 0.0000e+00\n",
      "Epoch 42/200\n",
      "188/188 [==============================] - 0s 2ms/step - loss: -12.9459 - binary_accuracy: 0.8457 - val_loss: 9.4812 - val_binary_accuracy: 0.0000e+00\n",
      "Epoch 43/200\n",
      "188/188 [==============================] - 0s 2ms/step - loss: -12.9459 - binary_accuracy: 0.8457 - val_loss: 9.4812 - val_binary_accuracy: 0.0000e+00\n",
      "Epoch 44/200\n",
      "188/188 [==============================] - 0s 2ms/step - loss: -12.9459 - binary_accuracy: 0.8457 - val_loss: 9.4812 - val_binary_accuracy: 0.0000e+00\n",
      "Epoch 45/200\n",
      "188/188 [==============================] - 0s 2ms/step - loss: -12.9459 - binary_accuracy: 0.8457 - val_loss: 9.4812 - val_binary_accuracy: 0.0000e+00\n",
      "Epoch 46/200\n",
      "188/188 [==============================] - 1s 3ms/step - loss: -12.9459 - binary_accuracy: 0.8457 - val_loss: 9.4812 - val_binary_accuracy: 0.0000e+00\n",
      "Epoch 47/200\n",
      "188/188 [==============================] - 0s 3ms/step - loss: -12.9459 - binary_accuracy: 0.8457 - val_loss: 9.4812 - val_binary_accuracy: 0.0000e+00\n",
      "Epoch 48/200\n",
      "188/188 [==============================] - 1s 3ms/step - loss: -12.9459 - binary_accuracy: 0.8457 - val_loss: 9.4812 - val_binary_accuracy: 0.0000e+00\n",
      "Epoch 49/200\n",
      "188/188 [==============================] - 0s 2ms/step - loss: -12.9459 - binary_accuracy: 0.8457 - val_loss: 9.4812 - val_binary_accuracy: 0.0000e+00\n",
      "Epoch 50/200\n",
      "188/188 [==============================] - 0s 3ms/step - loss: -12.9459 - binary_accuracy: 0.8457 - val_loss: 9.4812 - val_binary_accuracy: 0.0000e+00\n"
     ]
    },
    {
     "name": "stdout",
     "output_type": "stream",
     "text": [
      "Epoch 51/200\n",
      "188/188 [==============================] - 0s 3ms/step - loss: -12.9459 - binary_accuracy: 0.8457 - val_loss: 9.4812 - val_binary_accuracy: 0.0000e+00\n",
      "Epoch 52/200\n",
      "188/188 [==============================] - 0s 2ms/step - loss: -12.9459 - binary_accuracy: 0.8457 - val_loss: 9.4812 - val_binary_accuracy: 0.0000e+00\n",
      "Epoch 53/200\n",
      "188/188 [==============================] - 0s 2ms/step - loss: -12.9459 - binary_accuracy: 0.8457 - val_loss: 9.4812 - val_binary_accuracy: 0.0000e+00\n",
      "Epoch 54/200\n",
      "188/188 [==============================] - 0s 3ms/step - loss: -12.9459 - binary_accuracy: 0.8457 - val_loss: 9.4812 - val_binary_accuracy: 0.0000e+00\n",
      "Epoch 55/200\n",
      "188/188 [==============================] - 0s 2ms/step - loss: -12.9459 - binary_accuracy: 0.8457 - val_loss: 9.4812 - val_binary_accuracy: 0.0000e+00\n",
      "Epoch 56/200\n",
      "188/188 [==============================] - 0s 2ms/step - loss: -12.9459 - binary_accuracy: 0.8457 - val_loss: 9.4812 - val_binary_accuracy: 0.0000e+00\n",
      "Epoch 57/200\n",
      "188/188 [==============================] - 0s 2ms/step - loss: -12.9459 - binary_accuracy: 0.8457 - val_loss: 9.4812 - val_binary_accuracy: 0.0000e+00\n",
      "Epoch 58/200\n",
      "188/188 [==============================] - 0s 2ms/step - loss: -12.9459 - binary_accuracy: 0.8457 - val_loss: 9.4812 - val_binary_accuracy: 0.0000e+00\n",
      "Epoch 59/200\n",
      "188/188 [==============================] - 0s 2ms/step - loss: -12.9459 - binary_accuracy: 0.8457 - val_loss: 9.4812 - val_binary_accuracy: 0.0000e+00\n",
      "Epoch 60/200\n",
      "188/188 [==============================] - 0s 3ms/step - loss: -12.9459 - binary_accuracy: 0.8457 - val_loss: 9.4812 - val_binary_accuracy: 0.0000e+00\n",
      "Epoch 61/200\n",
      "188/188 [==============================] - 0s 3ms/step - loss: -12.9459 - binary_accuracy: 0.8457 - val_loss: 9.4812 - val_binary_accuracy: 0.0000e+00\n",
      "Epoch 62/200\n",
      "188/188 [==============================] - 0s 2ms/step - loss: -12.9459 - binary_accuracy: 0.8457 - val_loss: 9.4812 - val_binary_accuracy: 0.0000e+00\n",
      "Epoch 63/200\n",
      "188/188 [==============================] - 0s 2ms/step - loss: -12.9459 - binary_accuracy: 0.8457 - val_loss: 9.4812 - val_binary_accuracy: 0.0000e+00\n",
      "Epoch 64/200\n",
      "188/188 [==============================] - 0s 2ms/step - loss: -12.9459 - binary_accuracy: 0.8457 - val_loss: 9.4812 - val_binary_accuracy: 0.0000e+00\n",
      "Epoch 65/200\n",
      "188/188 [==============================] - 0s 2ms/step - loss: -12.9459 - binary_accuracy: 0.8457 - val_loss: 9.4812 - val_binary_accuracy: 0.0000e+00\n",
      "Epoch 66/200\n",
      "188/188 [==============================] - 0s 2ms/step - loss: -12.9459 - binary_accuracy: 0.8457 - val_loss: 9.4812 - val_binary_accuracy: 0.0000e+00\n",
      "Epoch 67/200\n",
      "188/188 [==============================] - 0s 2ms/step - loss: -12.9459 - binary_accuracy: 0.8457 - val_loss: 9.4812 - val_binary_accuracy: 0.0000e+00\n",
      "Epoch 68/200\n",
      "188/188 [==============================] - 0s 2ms/step - loss: -12.9459 - binary_accuracy: 0.8457 - val_loss: 9.4812 - val_binary_accuracy: 0.0000e+00\n",
      "Epoch 69/200\n",
      "188/188 [==============================] - 0s 2ms/step - loss: -12.9459 - binary_accuracy: 0.8457 - val_loss: 9.4812 - val_binary_accuracy: 0.0000e+00\n",
      "Epoch 70/200\n",
      "188/188 [==============================] - 0s 2ms/step - loss: -12.9459 - binary_accuracy: 0.8457 - val_loss: 9.4812 - val_binary_accuracy: 0.0000e+00\n",
      "Epoch 71/200\n",
      "188/188 [==============================] - 0s 2ms/step - loss: -12.9459 - binary_accuracy: 0.8457 - val_loss: 9.4812 - val_binary_accuracy: 0.0000e+00\n",
      "Epoch 72/200\n",
      "188/188 [==============================] - 0s 2ms/step - loss: -12.9459 - binary_accuracy: 0.8457 - val_loss: 9.4812 - val_binary_accuracy: 0.0000e+00\n",
      "Epoch 73/200\n",
      "188/188 [==============================] - 0s 2ms/step - loss: -12.9459 - binary_accuracy: 0.8457 - val_loss: 9.4812 - val_binary_accuracy: 0.0000e+00\n",
      "Epoch 74/200\n",
      "188/188 [==============================] - 0s 2ms/step - loss: -12.9459 - binary_accuracy: 0.8457 - val_loss: 9.4812 - val_binary_accuracy: 0.0000e+00\n",
      "Epoch 75/200\n",
      "188/188 [==============================] - 0s 2ms/step - loss: -12.9459 - binary_accuracy: 0.8457 - val_loss: 9.4812 - val_binary_accuracy: 0.0000e+00\n",
      "Epoch 76/200\n",
      "188/188 [==============================] - 0s 2ms/step - loss: -12.9459 - binary_accuracy: 0.8457 - val_loss: 9.4812 - val_binary_accuracy: 0.0000e+00\n",
      "Epoch 77/200\n",
      "188/188 [==============================] - 0s 2ms/step - loss: -12.9459 - binary_accuracy: 0.8457 - val_loss: 9.4812 - val_binary_accuracy: 0.0000e+00\n",
      "Epoch 78/200\n",
      "188/188 [==============================] - 0s 2ms/step - loss: -12.9459 - binary_accuracy: 0.8457 - val_loss: 9.4812 - val_binary_accuracy: 0.0000e+00\n",
      "Epoch 79/200\n",
      "188/188 [==============================] - 0s 2ms/step - loss: -12.9459 - binary_accuracy: 0.8457 - val_loss: 9.4812 - val_binary_accuracy: 0.0000e+00\n",
      "Epoch 80/200\n",
      "188/188 [==============================] - 0s 2ms/step - loss: -12.9459 - binary_accuracy: 0.8457 - val_loss: 9.4812 - val_binary_accuracy: 0.0000e+00\n",
      "Epoch 81/200\n",
      "188/188 [==============================] - 0s 2ms/step - loss: -12.9459 - binary_accuracy: 0.8457 - val_loss: 9.4812 - val_binary_accuracy: 0.0000e+00\n",
      "Epoch 82/200\n",
      "188/188 [==============================] - 0s 3ms/step - loss: -12.9459 - binary_accuracy: 0.8457 - val_loss: 9.4812 - val_binary_accuracy: 0.0000e+00\n",
      "Epoch 83/200\n",
      "188/188 [==============================] - 0s 3ms/step - loss: -12.9459 - binary_accuracy: 0.8457 - val_loss: 9.4812 - val_binary_accuracy: 0.0000e+00\n",
      "Epoch 84/200\n",
      "188/188 [==============================] - 1s 3ms/step - loss: -12.9459 - binary_accuracy: 0.8457 - val_loss: 9.4812 - val_binary_accuracy: 0.0000e+00\n",
      "Epoch 85/200\n",
      "188/188 [==============================] - 1s 3ms/step - loss: -12.9459 - binary_accuracy: 0.8457 - val_loss: 9.4812 - val_binary_accuracy: 0.0000e+00\n",
      "Epoch 86/200\n",
      "188/188 [==============================] - 0s 3ms/step - loss: -12.9459 - binary_accuracy: 0.8457 - val_loss: 9.4812 - val_binary_accuracy: 0.0000e+00\n",
      "Epoch 87/200\n",
      "188/188 [==============================] - 0s 3ms/step - loss: -12.9459 - binary_accuracy: 0.8457 - val_loss: 9.4812 - val_binary_accuracy: 0.0000e+00\n",
      "Epoch 88/200\n",
      "188/188 [==============================] - 0s 3ms/step - loss: -12.9459 - binary_accuracy: 0.8457 - val_loss: 9.4812 - val_binary_accuracy: 0.0000e+00\n",
      "Epoch 89/200\n",
      "188/188 [==============================] - 1s 3ms/step - loss: -12.9459 - binary_accuracy: 0.8457 - val_loss: 9.4812 - val_binary_accuracy: 0.0000e+00\n",
      "Epoch 90/200\n",
      "188/188 [==============================] - 0s 3ms/step - loss: -12.9459 - binary_accuracy: 0.8457 - val_loss: 9.4812 - val_binary_accuracy: 0.0000e+00\n",
      "Epoch 91/200\n",
      "188/188 [==============================] - 0s 3ms/step - loss: -12.9459 - binary_accuracy: 0.8457 - val_loss: 9.4812 - val_binary_accuracy: 0.0000e+00\n",
      "Epoch 92/200\n",
      "188/188 [==============================] - 0s 3ms/step - loss: -12.9459 - binary_accuracy: 0.8457 - val_loss: 9.4812 - val_binary_accuracy: 0.0000e+00\n",
      "Epoch 93/200\n",
      "188/188 [==============================] - 0s 3ms/step - loss: -12.9459 - binary_accuracy: 0.8457 - val_loss: 9.4812 - val_binary_accuracy: 0.0000e+00\n",
      "Epoch 94/200\n",
      "188/188 [==============================] - 0s 3ms/step - loss: -12.9459 - binary_accuracy: 0.8457 - val_loss: 9.4812 - val_binary_accuracy: 0.0000e+00\n",
      "Epoch 95/200\n",
      "188/188 [==============================] - 1s 3ms/step - loss: -12.9459 - binary_accuracy: 0.8457 - val_loss: 9.4812 - val_binary_accuracy: 0.0000e+00\n",
      "Epoch 96/200\n",
      "188/188 [==============================] - 0s 3ms/step - loss: -12.9459 - binary_accuracy: 0.8457 - val_loss: 9.4812 - val_binary_accuracy: 0.0000e+00\n",
      "Epoch 97/200\n",
      "188/188 [==============================] - 1s 3ms/step - loss: -12.9459 - binary_accuracy: 0.8457 - val_loss: 9.4812 - val_binary_accuracy: 0.0000e+00\n",
      "Epoch 98/200\n",
      "188/188 [==============================] - 0s 3ms/step - loss: -12.9459 - binary_accuracy: 0.8457 - val_loss: 9.4812 - val_binary_accuracy: 0.0000e+00\n",
      "Epoch 99/200\n",
      "188/188 [==============================] - 0s 3ms/step - loss: -12.9459 - binary_accuracy: 0.8457 - val_loss: 9.4812 - val_binary_accuracy: 0.0000e+00\n",
      "Epoch 100/200\n",
      "188/188 [==============================] - 0s 3ms/step - loss: -12.9459 - binary_accuracy: 0.8457 - val_loss: 9.4812 - val_binary_accuracy: 0.0000e+00\n"
     ]
    },
    {
     "name": "stdout",
     "output_type": "stream",
     "text": [
      "Epoch 101/200\n",
      "188/188 [==============================] - 0s 2ms/step - loss: -12.9459 - binary_accuracy: 0.8457 - val_loss: 9.4812 - val_binary_accuracy: 0.0000e+00\n",
      "Epoch 102/200\n",
      "188/188 [==============================] - 0s 2ms/step - loss: -12.9459 - binary_accuracy: 0.8457 - val_loss: 9.4812 - val_binary_accuracy: 0.0000e+00\n",
      "Epoch 103/200\n",
      "188/188 [==============================] - 0s 2ms/step - loss: -12.9459 - binary_accuracy: 0.8457 - val_loss: 9.4812 - val_binary_accuracy: 0.0000e+00\n",
      "Epoch 104/200\n",
      "188/188 [==============================] - 0s 2ms/step - loss: -12.9459 - binary_accuracy: 0.8457 - val_loss: 9.4812 - val_binary_accuracy: 0.0000e+00\n",
      "Epoch 105/200\n",
      "188/188 [==============================] - 0s 2ms/step - loss: -12.9459 - binary_accuracy: 0.8457 - val_loss: 9.4812 - val_binary_accuracy: 0.0000e+00\n",
      "Epoch 106/200\n",
      "188/188 [==============================] - 0s 2ms/step - loss: -12.9459 - binary_accuracy: 0.8457 - val_loss: 9.4812 - val_binary_accuracy: 0.0000e+00\n",
      "Epoch 107/200\n",
      "188/188 [==============================] - 0s 2ms/step - loss: -12.9459 - binary_accuracy: 0.8457 - val_loss: 9.4812 - val_binary_accuracy: 0.0000e+00\n",
      "Epoch 108/200\n",
      "188/188 [==============================] - 0s 2ms/step - loss: -12.9459 - binary_accuracy: 0.8457 - val_loss: 9.4812 - val_binary_accuracy: 0.0000e+00\n",
      "Epoch 109/200\n",
      "188/188 [==============================] - 0s 2ms/step - loss: -12.9459 - binary_accuracy: 0.8457 - val_loss: 9.4812 - val_binary_accuracy: 0.0000e+00\n",
      "Epoch 110/200\n",
      "188/188 [==============================] - 0s 2ms/step - loss: -12.9459 - binary_accuracy: 0.8457 - val_loss: 9.4812 - val_binary_accuracy: 0.0000e+00\n",
      "Epoch 111/200\n",
      "188/188 [==============================] - 0s 2ms/step - loss: -12.9459 - binary_accuracy: 0.8457 - val_loss: 9.4812 - val_binary_accuracy: 0.0000e+00\n",
      "Epoch 112/200\n",
      "188/188 [==============================] - 0s 2ms/step - loss: -12.9459 - binary_accuracy: 0.8457 - val_loss: 9.4812 - val_binary_accuracy: 0.0000e+00\n",
      "Epoch 113/200\n",
      "188/188 [==============================] - 0s 2ms/step - loss: -12.9459 - binary_accuracy: 0.8457 - val_loss: 9.4812 - val_binary_accuracy: 0.0000e+00\n",
      "Epoch 114/200\n",
      "188/188 [==============================] - 0s 2ms/step - loss: -12.9459 - binary_accuracy: 0.8457 - val_loss: 9.4812 - val_binary_accuracy: 0.0000e+00\n",
      "Epoch 115/200\n",
      "188/188 [==============================] - 0s 3ms/step - loss: -12.9459 - binary_accuracy: 0.8457 - val_loss: 9.4812 - val_binary_accuracy: 0.0000e+00\n",
      "Epoch 116/200\n",
      "188/188 [==============================] - 1s 3ms/step - loss: -12.9459 - binary_accuracy: 0.8457 - val_loss: 9.4812 - val_binary_accuracy: 0.0000e+00\n",
      "Epoch 117/200\n",
      "188/188 [==============================] - 0s 3ms/step - loss: -12.9459 - binary_accuracy: 0.8457 - val_loss: 9.4812 - val_binary_accuracy: 0.0000e+00\n",
      "Epoch 118/200\n",
      "188/188 [==============================] - 1s 3ms/step - loss: -12.9459 - binary_accuracy: 0.8457 - val_loss: 9.4812 - val_binary_accuracy: 0.0000e+00\n",
      "Epoch 119/200\n",
      "188/188 [==============================] - 0s 3ms/step - loss: -12.9459 - binary_accuracy: 0.8457 - val_loss: 9.4812 - val_binary_accuracy: 0.0000e+00\n",
      "Epoch 120/200\n",
      "188/188 [==============================] - 0s 3ms/step - loss: -12.9459 - binary_accuracy: 0.8457 - val_loss: 9.4812 - val_binary_accuracy: 0.0000e+00\n",
      "Epoch 121/200\n",
      "188/188 [==============================] - 0s 3ms/step - loss: -12.9459 - binary_accuracy: 0.8457 - val_loss: 9.4812 - val_binary_accuracy: 0.0000e+00\n",
      "Epoch 122/200\n",
      "188/188 [==============================] - 0s 3ms/step - loss: -12.9459 - binary_accuracy: 0.8457 - val_loss: 9.4812 - val_binary_accuracy: 0.0000e+00\n",
      "Epoch 123/200\n",
      "188/188 [==============================] - 0s 3ms/step - loss: -12.9459 - binary_accuracy: 0.8457 - val_loss: 9.4812 - val_binary_accuracy: 0.0000e+00\n",
      "Epoch 124/200\n",
      "188/188 [==============================] - 0s 3ms/step - loss: -12.9459 - binary_accuracy: 0.8457 - val_loss: 9.4812 - val_binary_accuracy: 0.0000e+00\n",
      "Epoch 125/200\n",
      "188/188 [==============================] - 0s 3ms/step - loss: -12.9459 - binary_accuracy: 0.8457 - val_loss: 9.4812 - val_binary_accuracy: 0.0000e+00\n",
      "Epoch 126/200\n",
      "188/188 [==============================] - 0s 3ms/step - loss: -12.9459 - binary_accuracy: 0.8457 - val_loss: 9.4812 - val_binary_accuracy: 0.0000e+00\n",
      "Epoch 127/200\n",
      "188/188 [==============================] - 0s 3ms/step - loss: -12.9459 - binary_accuracy: 0.8457 - val_loss: 9.4812 - val_binary_accuracy: 0.0000e+00\n",
      "Epoch 128/200\n",
      "188/188 [==============================] - 1s 3ms/step - loss: -12.9459 - binary_accuracy: 0.8457 - val_loss: 9.4812 - val_binary_accuracy: 0.0000e+00\n",
      "Epoch 129/200\n",
      "188/188 [==============================] - 0s 3ms/step - loss: -12.9459 - binary_accuracy: 0.8457 - val_loss: 9.4812 - val_binary_accuracy: 0.0000e+00\n",
      "Epoch 130/200\n",
      "188/188 [==============================] - 1s 3ms/step - loss: -12.9459 - binary_accuracy: 0.8457 - val_loss: 9.4812 - val_binary_accuracy: 0.0000e+00\n",
      "Epoch 131/200\n",
      "188/188 [==============================] - 1s 3ms/step - loss: -12.9459 - binary_accuracy: 0.8457 - val_loss: 9.4812 - val_binary_accuracy: 0.0000e+00\n",
      "Epoch 132/200\n",
      "188/188 [==============================] - 0s 3ms/step - loss: -12.9459 - binary_accuracy: 0.8457 - val_loss: 9.4812 - val_binary_accuracy: 0.0000e+00\n",
      "Epoch 133/200\n",
      "188/188 [==============================] - 0s 2ms/step - loss: -12.9459 - binary_accuracy: 0.8457 - val_loss: 9.4812 - val_binary_accuracy: 0.0000e+00\n",
      "Epoch 134/200\n",
      "188/188 [==============================] - 0s 3ms/step - loss: -12.9459 - binary_accuracy: 0.8457 - val_loss: 9.4812 - val_binary_accuracy: 0.0000e+00\n",
      "Epoch 135/200\n",
      "188/188 [==============================] - 0s 2ms/step - loss: -12.9459 - binary_accuracy: 0.8457 - val_loss: 9.4812 - val_binary_accuracy: 0.0000e+00\n",
      "Epoch 136/200\n",
      "188/188 [==============================] - 0s 2ms/step - loss: -12.9459 - binary_accuracy: 0.8457 - val_loss: 9.4812 - val_binary_accuracy: 0.0000e+00\n",
      "Epoch 137/200\n",
      "188/188 [==============================] - 0s 3ms/step - loss: -12.9459 - binary_accuracy: 0.8457 - val_loss: 9.4812 - val_binary_accuracy: 0.0000e+00\n",
      "Epoch 138/200\n",
      "188/188 [==============================] - 0s 2ms/step - loss: -12.9459 - binary_accuracy: 0.8457 - val_loss: 9.4812 - val_binary_accuracy: 0.0000e+00\n",
      "Epoch 139/200\n",
      "188/188 [==============================] - 0s 3ms/step - loss: -12.9459 - binary_accuracy: 0.8457 - val_loss: 9.4812 - val_binary_accuracy: 0.0000e+00\n",
      "Epoch 140/200\n",
      "188/188 [==============================] - 0s 2ms/step - loss: -12.9459 - binary_accuracy: 0.8457 - val_loss: 9.4812 - val_binary_accuracy: 0.0000e+00\n",
      "Epoch 141/200\n",
      "188/188 [==============================] - 0s 2ms/step - loss: -12.9459 - binary_accuracy: 0.8457 - val_loss: 9.4812 - val_binary_accuracy: 0.0000e+00\n",
      "Epoch 142/200\n",
      "188/188 [==============================] - 0s 3ms/step - loss: -12.9459 - binary_accuracy: 0.8457 - val_loss: 9.4812 - val_binary_accuracy: 0.0000e+00\n",
      "Epoch 143/200\n",
      "188/188 [==============================] - 0s 2ms/step - loss: -12.9459 - binary_accuracy: 0.8457 - val_loss: 9.4812 - val_binary_accuracy: 0.0000e+00\n",
      "Epoch 144/200\n",
      "188/188 [==============================] - 0s 2ms/step - loss: -12.9459 - binary_accuracy: 0.8457 - val_loss: 9.4812 - val_binary_accuracy: 0.0000e+00\n",
      "Epoch 145/200\n",
      "188/188 [==============================] - 0s 3ms/step - loss: -12.9459 - binary_accuracy: 0.8457 - val_loss: 9.4812 - val_binary_accuracy: 0.0000e+00\n",
      "Epoch 146/200\n",
      "188/188 [==============================] - 0s 3ms/step - loss: -12.9459 - binary_accuracy: 0.8457 - val_loss: 9.4812 - val_binary_accuracy: 0.0000e+00\n",
      "Epoch 147/200\n",
      "188/188 [==============================] - 1s 3ms/step - loss: -12.9459 - binary_accuracy: 0.8457 - val_loss: 9.4812 - val_binary_accuracy: 0.0000e+00\n",
      "Epoch 148/200\n",
      "188/188 [==============================] - 1s 3ms/step - loss: -12.9459 - binary_accuracy: 0.8457 - val_loss: 9.4812 - val_binary_accuracy: 0.0000e+00\n",
      "Epoch 149/200\n",
      "188/188 [==============================] - 1s 3ms/step - loss: -12.9459 - binary_accuracy: 0.8457 - val_loss: 9.4812 - val_binary_accuracy: 0.0000e+00\n",
      "Epoch 150/200\n",
      "188/188 [==============================] - 1s 3ms/step - loss: -12.9459 - binary_accuracy: 0.8457 - val_loss: 9.4812 - val_binary_accuracy: 0.0000e+00\n"
     ]
    },
    {
     "name": "stdout",
     "output_type": "stream",
     "text": [
      "Epoch 151/200\n",
      "188/188 [==============================] - 1s 3ms/step - loss: -12.9459 - binary_accuracy: 0.8457 - val_loss: 9.4812 - val_binary_accuracy: 0.0000e+00\n",
      "Epoch 152/200\n",
      "188/188 [==============================] - 0s 3ms/step - loss: -12.9459 - binary_accuracy: 0.8457 - val_loss: 9.4812 - val_binary_accuracy: 0.0000e+00\n",
      "Epoch 153/200\n",
      "188/188 [==============================] - 0s 3ms/step - loss: -12.9459 - binary_accuracy: 0.8457 - val_loss: 9.4812 - val_binary_accuracy: 0.0000e+00\n",
      "Epoch 154/200\n",
      "188/188 [==============================] - 0s 2ms/step - loss: -12.9459 - binary_accuracy: 0.8457 - val_loss: 9.4812 - val_binary_accuracy: 0.0000e+00\n",
      "Epoch 155/200\n",
      "188/188 [==============================] - 1s 3ms/step - loss: -12.9459 - binary_accuracy: 0.8457 - val_loss: 9.4812 - val_binary_accuracy: 0.0000e+00\n",
      "Epoch 156/200\n",
      "188/188 [==============================] - 0s 2ms/step - loss: -12.9459 - binary_accuracy: 0.8457 - val_loss: 9.4812 - val_binary_accuracy: 0.0000e+00\n",
      "Epoch 157/200\n",
      "188/188 [==============================] - 0s 3ms/step - loss: -12.9459 - binary_accuracy: 0.8457 - val_loss: 9.4812 - val_binary_accuracy: 0.0000e+00\n",
      "Epoch 158/200\n",
      "188/188 [==============================] - 1s 3ms/step - loss: -12.9459 - binary_accuracy: 0.8457 - val_loss: 9.4812 - val_binary_accuracy: 0.0000e+00\n",
      "Epoch 159/200\n",
      "188/188 [==============================] - 0s 3ms/step - loss: -12.9459 - binary_accuracy: 0.8457 - val_loss: 9.4812 - val_binary_accuracy: 0.0000e+00\n",
      "Epoch 160/200\n",
      "188/188 [==============================] - 0s 3ms/step - loss: -12.9459 - binary_accuracy: 0.8457 - val_loss: 9.4812 - val_binary_accuracy: 0.0000e+00\n",
      "Epoch 161/200\n",
      "188/188 [==============================] - 1s 3ms/step - loss: -12.9459 - binary_accuracy: 0.8457 - val_loss: 9.4812 - val_binary_accuracy: 0.0000e+00\n",
      "Epoch 162/200\n",
      "188/188 [==============================] - 1s 3ms/step - loss: -12.9459 - binary_accuracy: 0.8457 - val_loss: 9.4812 - val_binary_accuracy: 0.0000e+00\n",
      "Epoch 163/200\n",
      "188/188 [==============================] - 1s 3ms/step - loss: -12.9459 - binary_accuracy: 0.8457 - val_loss: 9.4812 - val_binary_accuracy: 0.0000e+00\n",
      "Epoch 164/200\n",
      "188/188 [==============================] - 0s 2ms/step - loss: -12.9459 - binary_accuracy: 0.8457 - val_loss: 9.4812 - val_binary_accuracy: 0.0000e+00\n",
      "Epoch 165/200\n",
      "188/188 [==============================] - 0s 2ms/step - loss: -12.9459 - binary_accuracy: 0.8457 - val_loss: 9.4812 - val_binary_accuracy: 0.0000e+00\n",
      "Epoch 166/200\n",
      "188/188 [==============================] - 0s 3ms/step - loss: -12.9459 - binary_accuracy: 0.8457 - val_loss: 9.4812 - val_binary_accuracy: 0.0000e+00\n",
      "Epoch 167/200\n",
      "188/188 [==============================] - 0s 2ms/step - loss: -12.9459 - binary_accuracy: 0.8457 - val_loss: 9.4812 - val_binary_accuracy: 0.0000e+00\n",
      "Epoch 168/200\n",
      "188/188 [==============================] - 0s 2ms/step - loss: -12.9459 - binary_accuracy: 0.8457 - val_loss: 9.4812 - val_binary_accuracy: 0.0000e+00\n",
      "Epoch 169/200\n",
      "188/188 [==============================] - 0s 2ms/step - loss: -12.9459 - binary_accuracy: 0.8457 - val_loss: 9.4812 - val_binary_accuracy: 0.0000e+00\n",
      "Epoch 170/200\n",
      "188/188 [==============================] - 0s 2ms/step - loss: -12.9459 - binary_accuracy: 0.8457 - val_loss: 9.4812 - val_binary_accuracy: 0.0000e+00\n",
      "Epoch 171/200\n",
      "188/188 [==============================] - 0s 2ms/step - loss: -12.9459 - binary_accuracy: 0.8457 - val_loss: 9.4812 - val_binary_accuracy: 0.0000e+00\n",
      "Epoch 172/200\n",
      "188/188 [==============================] - 0s 2ms/step - loss: -12.9459 - binary_accuracy: 0.8457 - val_loss: 9.4812 - val_binary_accuracy: 0.0000e+00\n",
      "Epoch 173/200\n",
      "188/188 [==============================] - 0s 2ms/step - loss: -12.9459 - binary_accuracy: 0.8457 - val_loss: 9.4812 - val_binary_accuracy: 0.0000e+00\n",
      "Epoch 174/200\n",
      "188/188 [==============================] - 0s 2ms/step - loss: -12.9459 - binary_accuracy: 0.8457 - val_loss: 9.4812 - val_binary_accuracy: 0.0000e+00\n",
      "Epoch 175/200\n",
      "188/188 [==============================] - 0s 2ms/step - loss: -12.9459 - binary_accuracy: 0.8457 - val_loss: 9.4812 - val_binary_accuracy: 0.0000e+00\n",
      "Epoch 176/200\n",
      "188/188 [==============================] - 0s 2ms/step - loss: -12.9459 - binary_accuracy: 0.8457 - val_loss: 9.4812 - val_binary_accuracy: 0.0000e+00\n",
      "Epoch 177/200\n",
      "188/188 [==============================] - 0s 2ms/step - loss: -12.9459 - binary_accuracy: 0.8457 - val_loss: 9.4812 - val_binary_accuracy: 0.0000e+00\n",
      "Epoch 178/200\n",
      "188/188 [==============================] - 0s 3ms/step - loss: -12.9459 - binary_accuracy: 0.8457 - val_loss: 9.4812 - val_binary_accuracy: 0.0000e+00\n",
      "Epoch 179/200\n",
      "188/188 [==============================] - 0s 3ms/step - loss: -12.9459 - binary_accuracy: 0.8457 - val_loss: 9.4812 - val_binary_accuracy: 0.0000e+00\n",
      "Epoch 180/200\n",
      "188/188 [==============================] - 0s 3ms/step - loss: -12.9459 - binary_accuracy: 0.8457 - val_loss: 9.4812 - val_binary_accuracy: 0.0000e+00\n",
      "Epoch 181/200\n",
      "188/188 [==============================] - 0s 3ms/step - loss: -12.9459 - binary_accuracy: 0.8457 - val_loss: 9.4812 - val_binary_accuracy: 0.0000e+00\n",
      "Epoch 182/200\n",
      "188/188 [==============================] - 1s 3ms/step - loss: -12.9459 - binary_accuracy: 0.8457 - val_loss: 9.4812 - val_binary_accuracy: 0.0000e+00\n",
      "Epoch 183/200\n",
      "188/188 [==============================] - 1s 3ms/step - loss: -12.9459 - binary_accuracy: 0.8457 - val_loss: 9.4812 - val_binary_accuracy: 0.0000e+00\n",
      "Epoch 184/200\n",
      "188/188 [==============================] - 1s 3ms/step - loss: -12.9459 - binary_accuracy: 0.8457 - val_loss: 9.4812 - val_binary_accuracy: 0.0000e+00\n",
      "Epoch 185/200\n",
      "188/188 [==============================] - 1s 3ms/step - loss: -12.9459 - binary_accuracy: 0.8457 - val_loss: 9.4812 - val_binary_accuracy: 0.0000e+00\n",
      "Epoch 186/200\n",
      "188/188 [==============================] - 1s 3ms/step - loss: -12.9459 - binary_accuracy: 0.8457 - val_loss: 9.4812 - val_binary_accuracy: 0.0000e+00\n",
      "Epoch 187/200\n",
      "188/188 [==============================] - 0s 3ms/step - loss: -12.9459 - binary_accuracy: 0.8457 - val_loss: 9.4812 - val_binary_accuracy: 0.0000e+00\n",
      "Epoch 188/200\n",
      "188/188 [==============================] - 1s 3ms/step - loss: -12.9459 - binary_accuracy: 0.8457 - val_loss: 9.4812 - val_binary_accuracy: 0.0000e+00\n",
      "Epoch 189/200\n",
      "188/188 [==============================] - 1s 3ms/step - loss: -12.9459 - binary_accuracy: 0.8457 - val_loss: 9.4812 - val_binary_accuracy: 0.0000e+00\n",
      "Epoch 190/200\n",
      "188/188 [==============================] - 1s 3ms/step - loss: -12.9459 - binary_accuracy: 0.8457 - val_loss: 9.4812 - val_binary_accuracy: 0.0000e+00\n",
      "Epoch 191/200\n",
      "188/188 [==============================] - 1s 3ms/step - loss: -12.9459 - binary_accuracy: 0.8457 - val_loss: 9.4812 - val_binary_accuracy: 0.0000e+00\n",
      "Epoch 192/200\n",
      "188/188 [==============================] - 1s 3ms/step - loss: -12.9459 - binary_accuracy: 0.8457 - val_loss: 9.4812 - val_binary_accuracy: 0.0000e+00\n",
      "Epoch 193/200\n",
      "188/188 [==============================] - 1s 3ms/step - loss: -12.9459 - binary_accuracy: 0.8457 - val_loss: 9.4812 - val_binary_accuracy: 0.0000e+00\n",
      "Epoch 194/200\n",
      "188/188 [==============================] - 1s 3ms/step - loss: -12.9459 - binary_accuracy: 0.8457 - val_loss: 9.4812 - val_binary_accuracy: 0.0000e+00\n",
      "Epoch 195/200\n",
      "188/188 [==============================] - 1s 3ms/step - loss: -12.9459 - binary_accuracy: 0.8457 - val_loss: 9.4812 - val_binary_accuracy: 0.0000e+00\n",
      "Epoch 196/200\n",
      "188/188 [==============================] - 0s 3ms/step - loss: -12.9459 - binary_accuracy: 0.8457 - val_loss: 9.4812 - val_binary_accuracy: 0.0000e+00\n",
      "Epoch 197/200\n",
      "188/188 [==============================] - 1s 3ms/step - loss: -12.9459 - binary_accuracy: 0.8457 - val_loss: 9.4812 - val_binary_accuracy: 0.0000e+00\n",
      "Epoch 198/200\n",
      "188/188 [==============================] - 1s 3ms/step - loss: -12.9459 - binary_accuracy: 0.8457 - val_loss: 9.4812 - val_binary_accuracy: 0.0000e+00\n",
      "Epoch 199/200\n",
      "188/188 [==============================] - 0s 3ms/step - loss: -12.9459 - binary_accuracy: 0.8457 - val_loss: 9.4812 - val_binary_accuracy: 0.0000e+00\n",
      "Epoch 200/200\n",
      "188/188 [==============================] - 0s 3ms/step - loss: -12.9459 - binary_accuracy: 0.8457 - val_loss: 9.4812 - val_binary_accuracy: 0.0000e+00\n"
     ]
    }
   ],
   "source": [
    "# Modellanpassung: \n",
    "history_trend=model.fit(Xtrain_46, ytrain_46, epochs=200, batch_size=2, validation_data=(Xtest_46, ytest_46))"
   ]
  },
  {
   "cell_type": "code",
   "execution_count": 24,
   "metadata": {},
   "outputs": [
    {
     "data": {
      "text/plain": [
       "Text(0.5,1,'Loss Curves')"
      ]
     },
     "execution_count": 24,
     "metadata": {},
     "output_type": "execute_result"
    },
    {
     "data": {
      "image/png": "[encoded data removed]",
      "text/plain": [
       "<Figure size 576x432 with 1 Axes>"
      ]
     },
     "metadata": {},
     "output_type": "display_data"
    }
   ],
   "source": [
    "#Ploten der Loss Curves\n",
    "plt.figure(figsize=[8,6])\n",
    "plt.plot(history_trend.history['loss'],'r',linewidth=3.0)\n",
    "plt.plot(history_trend.history['val_loss'],'b',linewidth=3.0)\n",
    "plt.legend(['Training loss', 'Validation Loss'],fontsize=18)\n",
    "plt.xlabel('Epochs ',fontsize=16)\n",
    "plt.ylabel('Loss',fontsize=16)\n",
    "plt.title('Loss Curves',fontsize=16)"
   ]
  },
  {
   "cell_type": "code",
   "execution_count": 25,
   "metadata": {},
   "outputs": [
    {
     "data": {
      "text/plain": [
       "Text(0.5,1,'Accuracy Curves')"
      ]
     },
     "execution_count": 25,
     "metadata": {},
     "output_type": "execute_result"
    },
    {
     "data": {
      "image/png": "[encoded data removed]",
      "text/plain": [
       "<Figure size 576x432 with 1 Axes>"
      ]
     },
     "metadata": {},
     "output_type": "display_data"
    }
   ],
   "source": [
    "#Plotten der Accuracy Curves\n",
    "plt.figure(figsize=[8,6])\n",
    "plt.plot(history_trend.history['binary_accuracy'],'r',linewidth=3.0)\n",
    "plt.plot(history_trend.history['val_binary_accuracy'],'b',linewidth=3.0)\n",
    "plt.legend(['Training Accuracy', 'Validation Accuracy'],fontsize=18)\n",
    "plt.xlabel('Epochs ',fontsize=16)\n",
    "plt.ylabel('Accuracy',fontsize=16)\n",
    "plt.title('Accuracy Curves',fontsize=16)"
   ]
  },
  {
   "cell_type": "code",
   "execution_count": 26,
   "metadata": {},
   "outputs": [],
   "source": [
    "# Vorhersage generieren\n",
    "testPredict_46 = model.predict(Xtest_46)"
   ]
  },
  {
   "cell_type": "code",
   "execution_count": 27,
   "metadata": {},
   "outputs": [],
   "source": [
    "testPredict_46=classification(testPredict_46)"
   ]
  },
  {
   "cell_type": "code",
   "execution_count": 28,
   "metadata": {},
   "outputs": [
    {
     "data": {
      "text/plain": [
       "0.0"
      ]
     },
     "execution_count": 28,
     "metadata": {},
     "output_type": "execute_result"
    }
   ],
   "source": [
    "accuracy_score(ytest_46, testPredict_46)"
   ]
  },
  {
   "cell_type": "code",
   "execution_count": null,
   "metadata": {},
   "outputs": [],
   "source": []
  },
  {
   "cell_type": "code",
   "execution_count": null,
   "metadata": {},
   "outputs": [],
   "source": []
  }
 ],
 "metadata": {
  "kernelspec": {
   "display_name": "Python 3",
   "language": "python",
   "name": "python3"
  },
  "language_info": {
   "codemirror_mode": {
    "name": "ipython",
    "version": 3
   },
   "file_extension": ".py",
   "mimetype": "text/x-python",
   "name": "python",
   "nbconvert_exporter": "python",
   "pygments_lexer": "ipython3",
   "version": "3.6.5"
  }
 },
 "nbformat": 4,
 "nbformat_minor": 2
}
