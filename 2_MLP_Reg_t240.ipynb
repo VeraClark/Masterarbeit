{
 "cells": [
  {
   "cell_type": "code",
   "execution_count": 1,
   "metadata": {},
   "outputs": [
    {
     "name": "stderr",
     "output_type": "stream",
     "text": [
      "C:\\Anaconda\\lib\\site-packages\\h5py\\__init__.py:36: FutureWarning: Conversion of the second argument of issubdtype from `float` to `np.floating` is deprecated. In future, it will be treated as `np.float64 == np.dtype(float).type`.\n",
      "  from ._conv import register_converters as _register_converters\n",
      "Using TensorFlow backend.\n"
     ]
    }
   ],
   "source": [
    "# Packages laden\n",
    "import numpy as np\n",
    "import pandas as pd\n",
    "import math\n",
    "from keras.models import Sequential\n",
    "from keras.layers import Input, Dense\n",
    "from matplotlib import pyplot as plt\n",
    "from pandas import DataFrame\n",
    "from keras.datasets import mnist\n",
    "from keras.utils import np_utils\n",
    "from keras.layers import Dropout, Activation, Flatten,TimeDistributed, BatchNormalization, LeakyReLU, Activation \n",
    "from keras.models import Model\n",
    "from pandas import concat\n",
    "from sklearn.metrics import mean_squared_error\n",
    "from math import sqrt\n",
    "from sklearn.preprocessing import MinMaxScaler"
   ]
  },
  {
   "cell_type": "code",
   "execution_count": 2,
   "metadata": {},
   "outputs": [],
   "source": [
    "# Laden der Daten\n",
    "DATA_FILE=\"Dropbox/Masterarbeit/Masterarbeit/Datensätze/Geburtenrate/Datensatz.xlsx\"\n",
    "df = pd.read_excel(DATA_FILE)\n",
    "df=pd.read_excel(DATA_FILE, header=0, parse_dates=[0], index_col='Jahr-Monat',squeeze=True)"
   ]
  },
  {
   "cell_type": "code",
   "execution_count": 3,
   "metadata": {},
   "outputs": [],
   "source": [
    "# Ein array mit allen Einträgen --> zur besseren Weiterverarbeitung\n",
    "ZR=df.values"
   ]
  },
  {
   "cell_type": "code",
   "execution_count": 4,
   "metadata": {},
   "outputs": [],
   "source": [
    "# Anteil der Datensätze am Gesamtdatensatz\n",
    "ZR_100=ZR\n",
    "\n",
    "# Unterteilung der Teildatensätze in Trainings-und Testdaten\n",
    "ZR_100_TR, ZR_100_TE= ZR_100[0:605], ZR_100[605:len(ZR_100)]"
   ]
  },
  {
   "cell_type": "code",
   "execution_count": 5,
   "metadata": {},
   "outputs": [],
   "source": [
    "# Funktion: Datensatz erstellen mit Inputs (look_back: Anzahl der verwendten Vergangenheitswerte) + Output (look_forward: \n",
    "# Vorhersagehorizont)\n",
    "def timeseries_to_supervised_R(data, look_back, look_forward):\n",
    "    df = DataFrame(data)\n",
    "    columns = [df.shift(look_forward-1+i) for i in range(1, look_back+1)]\n",
    "    columns.append(df)\n",
    "    df = concat(columns, axis=1)\n",
    "    #df = df.drop(0)\n",
    "    DF=df[::-1]\n",
    "    df=DF[:len(df)-(look_back+look_forward-1)]\n",
    "    DF=df[::-1]\n",
    "    return DF"
   ]
  },
  {
   "cell_type": "code",
   "execution_count": 6,
   "metadata": {},
   "outputs": [],
   "source": [
    "# Festlegung: look_back, look_forward + Anwendung der Funktion\n",
    "# Inputneuronen: 12\n",
    "# Vorhersagehorizont: t+240\n",
    "look_back=12\n",
    "look_forward=240\n",
    "\n",
    "# Inputgröße 100%\n",
    "# Trainingsdaten\n",
    "ZR_100_TR_I=timeseries_to_supervised_R(ZR_100_TR, look_back, look_forward)\n",
    "trainX_100, train_y_100 = ZR_100_TR_I.iloc[:, 0:-1], ZR_100_TR_I.iloc[:, -1]\n",
    "\n",
    "# Testdaten \n",
    "ZR_100_TE_I=timeseries_to_supervised_R(ZR_100_TE, look_back, look_forward)\n",
    "testX_100, test_y_100 = ZR_100_TE_I.iloc[:, 0:-1], ZR_100_TE_I.iloc[:, -1]"
   ]
  },
  {
   "cell_type": "code",
   "execution_count": 31,
   "metadata": {},
   "outputs": [],
   "source": [
    "# Replizierbarkeit gewährleisten\n",
    "np.random.seed(6)"
   ]
  },
  {
   "cell_type": "code",
   "execution_count": 32,
   "metadata": {},
   "outputs": [
    {
     "name": "stdout",
     "output_type": "stream",
     "text": [
      "Train on 354 samples, validate on 7 samples\n",
      "Epoch 1/25\n",
      " - 1s - loss: 11227932660.4294 - val_loss: 7501869568.0000\n",
      "Epoch 2/25\n",
      " - 0s - loss: 9372451582.5537 - val_loss: 5772633088.0000\n",
      "Epoch 3/25\n",
      " - 0s - loss: 6146932299.2090 - val_loss: 3605801216.0000\n",
      "Epoch 4/25\n",
      " - 0s - loss: 3252993907.7062 - val_loss: 2024192768.0000\n",
      "Epoch 5/25\n",
      " - 0s - loss: 1487914036.9718 - val_loss: 1057865280.0000\n",
      "Epoch 6/25\n",
      " - 0s - loss: 634272518.3277 - val_loss: 544196352.0000\n",
      "Epoch 7/25\n",
      " - 0s - loss: 318287442.1695 - val_loss: 309635616.0000\n",
      "Epoch 8/25\n",
      " - 0s - loss: 252903438.5537 - val_loss: 214346768.0000\n",
      "Epoch 9/25\n",
      " - 0s - loss: 244637458.1052 - val_loss: 199667328.0000\n",
      "Epoch 10/25\n",
      " - 0s - loss: 245778361.2203 - val_loss: 202092768.0000\n",
      "Epoch 11/25\n",
      " - 0s - loss: 245391655.7740 - val_loss: 216311840.0000\n",
      "Epoch 12/25\n",
      " - 0s - loss: 245084943.3672 - val_loss: 212184224.0000\n",
      "Epoch 13/25\n",
      " - 0s - loss: 245299640.9492 - val_loss: 223349808.0000\n",
      "Epoch 14/25\n",
      " - 0s - loss: 245378609.5367 - val_loss: 216168400.0000\n",
      "Epoch 15/25\n",
      " - 0s - loss: 245399255.5028 - val_loss: 223061856.0000\n",
      "Epoch 16/25\n",
      " - 0s - loss: 245406768.8588 - val_loss: 228824608.0000\n",
      "Epoch 17/25\n",
      " - 0s - loss: 246212377.6949 - val_loss: 233039520.0000\n",
      "Epoch 18/25\n",
      " - 0s - loss: 245559315.7062 - val_loss: 216343904.0000\n",
      "Epoch 19/25\n",
      " - 0s - loss: 245072382.7345 - val_loss: 214994992.0000\n",
      "Epoch 20/25\n",
      " - 0s - loss: 245138717.9209 - val_loss: 220639408.0000\n",
      "Epoch 21/25\n",
      " - 0s - loss: 245114399.6384 - val_loss: 215967232.0000\n",
      "Epoch 22/25\n",
      " - 0s - loss: 245679533.6497 - val_loss: 204587088.0000\n",
      "Epoch 23/25\n",
      " - 0s - loss: 245568946.2599 - val_loss: 197064016.0000\n",
      "Epoch 24/25\n",
      " - 0s - loss: 246418905.6271 - val_loss: 196459872.0000\n",
      "Epoch 25/25\n",
      " - 0s - loss: 245492946.1695 - val_loss: 213114544.0000\n"
     ]
    }
   ],
   "source": [
    "# Modell zusammenbauen\n",
    "# Dateninput: 100 %\n",
    "model = Sequential()\n",
    "model.add(Dense(10, input_dim=look_back, activation='relu'))\n",
    "model.add(Dense(1))\n",
    "model.compile(loss='mean_squared_error', optimizer='adam')\n",
    "history_reg=model.fit(trainX_100, train_y_100, epochs=25, verbose=2,validation_data=(testX_100, test_y_100))"
   ]
  },
  {
   "cell_type": "code",
   "execution_count": 33,
   "metadata": {},
   "outputs": [
    {
     "data": {
      "text/plain": [
       "Text(0.5,1,'Loss Curves')"
      ]
     },
     "execution_count": 33,
     "metadata": {},
     "output_type": "execute_result"
    },
    {
     "data": {
      "image/png": "[encoded data removed]",
      "text/plain": [
       "<Figure size 576x432 with 1 Axes>"
      ]
     },
     "metadata": {},
     "output_type": "display_data"
    }
   ],
   "source": [
    "#Ploten der Loss Curves\n",
    "plt.figure(figsize=[8,6])\n",
    "plt.plot(history_reg.history['loss'],'r',linewidth=3.0)\n",
    "plt.plot(history_reg.history['val_loss'],'b',linewidth=3.0)\n",
    "plt.legend(['Training loss', 'Validation Loss'],fontsize=18)\n",
    "plt.xlabel('Epochs ',fontsize=16)\n",
    "plt.ylabel('Loss',fontsize=16)\n",
    "plt.title('Loss Curves',fontsize=16)"
   ]
  },
  {
   "cell_type": "code",
   "execution_count": 34,
   "metadata": {},
   "outputs": [
    {
     "name": "stdout",
     "output_type": "stream",
     "text": [
      "Train Score: 244978798.33 MSE (15651.80 RMSE)\n",
      "Test Score: 213114544.00 MSE (14598.44 RMSE)\n"
     ]
    }
   ],
   "source": [
    "# Modellperformance bewerten: normalisierte Daten\n",
    "trainScore = model.evaluate(trainX_100, train_y_100, verbose=0)\n",
    "print('Train Score: %.2f MSE (%.2f RMSE)' % (trainScore, math.sqrt(trainScore)))\n",
    "testScore = model.evaluate(testX_100, test_y_100, verbose=0)\n",
    "print('Test Score: %.2f MSE (%.2f RMSE)' % (testScore, math.sqrt(testScore)))"
   ]
  },
  {
   "cell_type": "code",
   "execution_count": 35,
   "metadata": {},
   "outputs": [],
   "source": [
    "# Vorhersagen generieren\n",
    "trainPredict_100 = model.predict(trainX_100)\n",
    "testPredict_100 = model.predict(testX_100)"
   ]
  },
  {
   "cell_type": "code",
   "execution_count": 36,
   "metadata": {},
   "outputs": [
    {
     "name": "stdout",
     "output_type": "stream",
     "text": [
      "213114554.3448312 244978789.6504392\n"
     ]
    }
   ],
   "source": [
    "# Evaluation\n",
    "test_MSE=mean_squared_error(test_y_100,testPredict_100)\n",
    "train_MSE=mean_squared_error(train_y_100,trainPredict_100)\n",
    "\n",
    "print(test_MSE,train_MSE)"
   ]
  },
  {
   "cell_type": "code",
   "execution_count": 37,
   "metadata": {},
   "outputs": [
    {
     "data": {
      "image/png": "[encoded data removed]",
      "text/plain": [
       "<Figure size 432x288 with 1 Axes>"
      ]
     },
     "metadata": {},
     "output_type": "display_data"
    }
   ],
   "source": [
    "# Verschiebund der Trainingsvorhersage zum Plotten\n",
    "trainPredictPlot = np.empty_like(ZR_100)\n",
    "trainPredictPlot=trainPredictPlot.reshape(len(ZR_100))\n",
    "trainPredictPlot[:]=[0]*len(ZR_100)\n",
    "trainPredictPlot = trainPredictPlot.reshape(len(ZR_100),1)\n",
    "trainPredictPlot[(look_back+look_forward-1):len(trainPredict_100)+(look_back+look_forward-1)] = trainPredict_100\n",
    "\n",
    "# Verschiebung der Testvorhersage zum Plotten\n",
    "testPredictPlot = np.empty_like(ZR_100)\n",
    "testPredictPlot=testPredictPlot.reshape(len(ZR_100))\n",
    "testPredictPlot[:]=[0]*len(ZR_100)\n",
    "testPredictPlot = testPredictPlot.reshape(len(ZR_100),1)\n",
    "testPredictPlot[len(trainPredict_100)+2*(look_back+look_forward-1):len(ZR_100)+1] = testPredict_100\n",
    " \n",
    "# Plotten der baseline und  der Vorhersagen\n",
    "plt.plot(ZR_100, color='blue')\n",
    "plt.plot(trainPredictPlot, color='orange')\n",
    "plt.plot(testPredictPlot, color='green')\n",
    "plt.show()"
   ]
  },
  {
   "cell_type": "code",
   "execution_count": null,
   "metadata": {},
   "outputs": [],
   "source": []
  }
 ],
 "metadata": {
  "kernelspec": {
   "display_name": "Python 3",
   "language": "python",
   "name": "python3"
  },
  "language_info": {
   "codemirror_mode": {
    "name": "ipython",
    "version": 3
   },
   "file_extension": ".py",
   "mimetype": "text/x-python",
   "name": "python",
   "nbconvert_exporter": "python",
   "pygments_lexer": "ipython3",
   "version": "3.6.5"
  }
 },
 "nbformat": 4,
 "nbformat_minor": 2
}
