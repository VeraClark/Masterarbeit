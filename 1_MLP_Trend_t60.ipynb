{
 "cells": [
  {
   "cell_type": "code",
   "execution_count": 1,
   "metadata": {},
   "outputs": [
    {
     "name": "stderr",
     "output_type": "stream",
     "text": [
      "C:\\Anaconda\\lib\\site-packages\\h5py\\__init__.py:36: FutureWarning: Conversion of the second argument of issubdtype from `float` to `np.floating` is deprecated. In future, it will be treated as `np.float64 == np.dtype(float).type`.\n",
      "  from ._conv import register_converters as _register_converters\n",
      "Using TensorFlow backend.\n"
     ]
    }
   ],
   "source": [
    "# Packages laden\n",
    "import numpy as np\n",
    "import pandas as pd\n",
    "import math\n",
    "from keras.models import Sequential\n",
    "from keras.layers import Input, Dense\n",
    "from matplotlib import pyplot as plt\n",
    "from pandas import DataFrame\n",
    "from pandas import concat\n",
    "from sklearn.metrics import mean_squared_error, accuracy_score,classification_report,confusion_matrix,auc, log_loss \n",
    "\n",
    "from keras.datasets import mnist\n",
    "from keras.utils import np_utils\n",
    "from keras.layers import Dropout, Activation, Flatten,TimeDistributed, BatchNormalization, LeakyReLU, Activation \n",
    "from keras.models import Model\n",
    "from keras.backend import binary_crossentropy\n",
    "from sklearn.preprocessing import MinMaxScaler"
   ]
  },
  {
   "cell_type": "code",
   "execution_count": 2,
   "metadata": {},
   "outputs": [],
   "source": [
    "# Laden der Daten\n",
    "DATA_FILE=\"Dropbox/Masterarbeit/Masterarbeit/Datensätze/Geburtenrate/Datensatz.xlsx\"\n",
    "df = pd.read_excel(DATA_FILE)\n",
    "df=pd.read_excel(DATA_FILE, header=0, parse_dates=[0], index_col='Jahr-Monat',squeeze=True)"
   ]
  },
  {
   "cell_type": "code",
   "execution_count": 3,
   "metadata": {},
   "outputs": [],
   "source": [
    "# Ein array mit allen Einträgen --> zur besseren Weiterverarbeitung\n",
    "ZR=df.values"
   ]
  },
  {
   "cell_type": "code",
   "execution_count": 4,
   "metadata": {},
   "outputs": [],
   "source": [
    "# Skalierung [-1,1]\n",
    "def scaling(dataset,l_bound=-1, h_bound=1):\n",
    "    dataset = dataset.reshape(len(dataset), 1)\n",
    "    scaler = MinMaxScaler(feature_range=(-1, 1))\n",
    "    scaler = scaler.fit(dataset)\n",
    "    scaled_dataset = scaler.transform(dataset)\n",
    "    return scaled_dataset\n",
    "\n",
    "# Umkehrung der Skalierung\n",
    "def invert_scale(scaler, X, value):\n",
    "    new_row = [x for x in X] + [value]\n",
    "    array = np.array(new_row)\n",
    "    array = array.reshape(1, len(array))\n",
    "    inverted = scaler.inverse_transform(array)\n",
    "    return inverted[0, -1]"
   ]
  },
  {
   "cell_type": "code",
   "execution_count": 5,
   "metadata": {},
   "outputs": [
    {
     "name": "stderr",
     "output_type": "stream",
     "text": [
      "C:\\Anaconda\\lib\\site-packages\\sklearn\\utils\\validation.py:475: DataConversionWarning: Data with input dtype int64 was converted to float64 by MinMaxScaler.\n",
      "  warnings.warn(msg, DataConversionWarning)\n"
     ]
    }
   ],
   "source": [
    "ZR_N=scaling(ZR)"
   ]
  },
  {
   "cell_type": "code",
   "execution_count": 6,
   "metadata": {},
   "outputs": [],
   "source": [
    "# Anteil der Datensätze am Gesamtdatensatz\n",
    "ZR_100=ZR\n",
    "ZR_46=ZR[-400:]\n",
    "\n",
    "# Unterteilung der Teildatensätze in Trainings-und Testdaten\n",
    "ZR_100_TR, ZR_100_TE= ZR_100[0:605], ZR_100[605:len(ZR_100)]\n",
    "ZR_46_TR, ZR_46_TE= ZR_46[0:250], ZR_46[250:len(ZR_46)]\n",
    "\n",
    "# Anteil der Datensätze am Gesamtdatensatz: skalierte Daten\n",
    "ZR_N100=ZR_N\n",
    "ZR_N46=ZR_N[-400:]\n",
    "\n",
    "# Unterteilung der Teildatensätze in Trainings-und Testdaten\n",
    "ZR_N100_TR, ZR_N100_TE= ZR_N100[0:605], ZR_N100[605:len(ZR_N100)]\n",
    "ZR_N46_TR, ZR_N46_TE= ZR_N46[0:250], ZR_N46[250:len(ZR_N46)]"
   ]
  },
  {
   "cell_type": "code",
   "execution_count": 7,
   "metadata": {},
   "outputs": [],
   "source": [
    "# Funktion zur Erzeugung von y zur Trendvorhersage/Klassifikation t+1: y=(-1,0,1)\n",
    "def create_Y_trend(dataset):\n",
    "    dataY=[0]*(len(dataset)-1)\n",
    "    for i in range(len(dataset)-1):\n",
    "        a = dataset[i]-dataset[i+1]\n",
    "        if a<0:\n",
    "            dataY[i]=1\n",
    "        elif a>0:\n",
    "            dataY[i]=-1\n",
    "        else:\n",
    "            dataY[i]=0\n",
    "    return np.array(dataY)"
   ]
  },
  {
   "cell_type": "code",
   "execution_count": 8,
   "metadata": {},
   "outputs": [],
   "source": [
    "# Funktion zur Weiterentwicklung von Trendergebnissen y(t+1) zu y(t+look_forward) mit look_forward>1\n",
    "def create_Y_multitrend(dataset,look_forward):\n",
    "    dataY= create_Y_trend(dataset)\n",
    "    length=len(dataY)-look_forward+1\n",
    "    dataY_m=[0]*length \n",
    "    dataY_m=np.array(dataY_m)\n",
    "    for i in range(len(dataY_m)):\n",
    "        for j in range(look_forward):\n",
    "            dataY_m[i]= dataY_m[i]+dataY[i+j]\n",
    "        if dataY_m[i]<0:\n",
    "            dataY_m[i]=-1\n",
    "        elif dataY_m[i]>0:\n",
    "            dataY_m[i]=1\n",
    "        else:\n",
    "            dataY_m[i]=0\n",
    "    return np.array(dataY_m)"
   ]
  },
  {
   "cell_type": "code",
   "execution_count": 9,
   "metadata": {},
   "outputs": [],
   "source": [
    "# Funktion zur Erzeugung von x (Input) mit look_back (Anzahl der verwendeten Vergangenheitswerte)\n",
    "def X_to_supervised_T(dataset, look_back=1, look_forward=1):\n",
    "    df = DataFrame(dataset)\n",
    "    columns = [df.shift(look_forward-1+i) for i in range(1, look_back+1)]\n",
    "    df = concat(columns, axis=1)\n",
    "    df = df.drop(0)\n",
    "    DF=df[::-1]\n",
    "    df=DF[:len(df)-(look_back+look_forward-2)]\n",
    "    DF=df[::-1]\n",
    "    return DF"
   ]
  },
  {
   "cell_type": "code",
   "execution_count": 22,
   "metadata": {},
   "outputs": [],
   "source": [
    "# Festlegung: look_back, look_forward + Anwendung der Funktion\n",
    "# Inputneuronen: 12\n",
    "# Vorhersagehorizont: t+60\n",
    "look_back=12\n",
    "look_forward=60\n",
    "\n",
    "# Erzeugen von y \n",
    "\n",
    "# Dateninput 100%\n",
    "# Skalierte Daten\n",
    "trainY_N100=create_Y_multitrend(ZR_N100_TR,60)\n",
    "testY_N100=create_Y_multitrend(ZR_N100_TE,60)\n",
    "\n",
    "# Original Daten\n",
    "trainY_100=create_Y_multitrend(ZR_100_TR,60)\n",
    "testY_100=create_Y_multitrend(ZR_100_TE,60)\n",
    "\n",
    "# Dateninput 46%\n",
    "# Skalierte Daten\n",
    "trainY_N46=create_Y_multitrend(ZR_N46_TR,60)\n",
    "testY_N46=create_Y_multitrend(ZR_N46_TE,60)\n",
    "\n",
    "# Original Daten\n",
    "trainY_46=create_Y_multitrend(ZR_46_TR,60)\n",
    "testY_46=create_Y_multitrend(ZR_46_TE,60)"
   ]
  },
  {
   "cell_type": "code",
   "execution_count": 23,
   "metadata": {},
   "outputs": [],
   "source": [
    "# Erzeugen von X \n",
    "\n",
    "# Dateninput: 100%\n",
    "# Skalierte Daten\n",
    "trainX_N100=X_to_supervised_T(ZR_N100_TR,look_back,look_forward)\n",
    "testX_N100=X_to_supervised_T(ZR_N100_TE,look_back,look_forward)\n",
    "\n",
    "#Originaldaten\n",
    "trainX_100=X_to_supervised_T(ZR_100_TR,look_back,look_forward)\n",
    "testX_100=X_to_supervised_T(ZR_100_TE,look_back,look_forward)\n",
    "\n",
    "# Dateninput: 46%\n",
    "# Skalierte Daten\n",
    "trainX_N46=X_to_supervised_T(ZR_N46_TR,look_back,look_forward)\n",
    "testX_N46=X_to_supervised_T(ZR_N46_TE,look_back,look_forward)\n",
    "\n",
    "# Originaldaten\n",
    "trainX_46=X_to_supervised_T(ZR_46_TR,look_back,look_forward)\n",
    "testX_46=X_to_supervised_T(ZR_46_TE,look_back,look_forward)"
   ]
  },
  {
   "cell_type": "code",
   "execution_count": 12,
   "metadata": {},
   "outputs": [
    {
     "name": "stdout",
     "output_type": "stream",
     "text": [
      "(534, 12) (534,)\n",
      "(187, 12) (187,)\n",
      "(534, 12) (534,)\n",
      "(187, 12) (187,)\n"
     ]
    }
   ],
   "source": [
    "# Zuschneiden der Datensätze --> gleiche Länge von X und y\n",
    "\n",
    "# Dateninput: 100%\n",
    "# Skalierte Daten\n",
    "# Trainingsdaten\n",
    "trainY_N100=trainY_N100.tolist()\n",
    "trainY_N100=trainY_N100[look_back-1:]\n",
    "trainY_N100=np.array(trainY_N100)\n",
    "print(trainX_N100.shape, trainY_N100.shape)\n",
    "# Testdaten\n",
    "testY_N100=testY_N100.tolist()\n",
    "testY_N100=testY_N100[look_back-1:]\n",
    "testY_N100=np.array(testY_N100)\n",
    "print(testX_N100.shape, testY_N100.shape)\n",
    "\n",
    "# Originaldaten\n",
    "# Trainingsdaten\n",
    "trainY_100=trainY_100.tolist()\n",
    "trainY_100=trainY_100[look_back-1:]\n",
    "trainY_100=np.array(trainY_100)\n",
    "print(trainX_100.shape, trainY_100.shape)\n",
    "# Testdaten\n",
    "testY_100=testY_100.tolist()\n",
    "testY_100=testY_100[look_back-1:]\n",
    "testY_100=np.array(testY_100)\n",
    "print(testX_100.shape, testY_100.shape)"
   ]
  },
  {
   "cell_type": "code",
   "execution_count": 24,
   "metadata": {},
   "outputs": [
    {
     "name": "stdout",
     "output_type": "stream",
     "text": [
      "(179, 12) (179,)\n",
      "(79, 12) (79,)\n",
      "(179, 12) (179,)\n",
      "(79, 12) (79,)\n"
     ]
    }
   ],
   "source": [
    "# Dateninput: 46%\n",
    "# Skalierte Daten\n",
    "# Trainingsdaten\n",
    "trainY_N46=trainY_N46.tolist()\n",
    "trainY_N46=trainY_N46[look_back-1:]\n",
    "trainY_N46=np.array(trainY_N46)\n",
    "print(trainX_N46.shape, trainY_N46.shape)\n",
    "# Testdaten\n",
    "testY_N46=testY_N46.tolist()\n",
    "testY_N46=testY_N46[look_back-1:]\n",
    "testY_N46=np.array(testY_N46)\n",
    "print(testX_N46.shape, testY_N46.shape)\n",
    "\n",
    "# Originaldaten\n",
    "# Trainingsdaten\n",
    "trainY_46=trainY_46.tolist()\n",
    "trainY_46=trainY_46[look_back-1:]\n",
    "trainY_46=np.array(trainY_46)\n",
    "print(trainX_46.shape, trainY_46.shape)\n",
    "# Testdaten\n",
    "testY_46=testY_46.tolist()\n",
    "testY_46=testY_46[look_back-1:]\n",
    "testY_46=np.array(testY_46)\n",
    "print(testX_46.shape, testY_46.shape)"
   ]
  },
  {
   "cell_type": "code",
   "execution_count": 13,
   "metadata": {},
   "outputs": [],
   "source": [
    "# Replizierbarkeit gewährleisten\n",
    "np.random.seed(0)"
   ]
  },
  {
   "cell_type": "code",
   "execution_count": 14,
   "metadata": {},
   "outputs": [
    {
     "name": "stdout",
     "output_type": "stream",
     "text": [
      "Train on 534 samples, validate on 187 samples\n",
      "Epoch 1/1\n",
      " - 1s - loss: -4.0308e+00 - binary_accuracy: 0.2266 - val_loss: 0.4460 - val_binary_accuracy: 0.3316\n"
     ]
    }
   ],
   "source": [
    "# Modell zusammenbauen\n",
    "# Dateninput: 100 %\n",
    "model = Sequential()\n",
    "model.add(Dense(10, input_dim=look_back, activation='tanh'))\n",
    "model.add(Dense(1,activation='tanh'))\n",
    "model.compile(loss='binary_crossentropy', optimizer='adam', metrics=['binary_accuracy'])\n",
    "history_trend=model.fit(trainX_N100, trainY_N100, epochs=1, verbose=2, validation_data=(testX_N100, testY_N100))"
   ]
  },
  {
   "cell_type": "code",
   "execution_count": 15,
   "metadata": {},
   "outputs": [
    {
     "data": {
      "text/plain": [
       "Text(0.5,1,'Loss Curves')"
      ]
     },
     "execution_count": 15,
     "metadata": {},
     "output_type": "execute_result"
    },
    {
     "data": {
      "image/png": "[encoded data removed]",
      "text/plain": [
       "<Figure size 576x432 with 1 Axes>"
      ]
     },
     "metadata": {},
     "output_type": "display_data"
    }
   ],
   "source": [
    "#Plotten der Loss Curves\n",
    "plt.figure(figsize=[8,6])\n",
    "plt.plot(history_trend.history['loss'],'r',linewidth=3.0)\n",
    "plt.plot(history_trend.history['val_loss'],'b',linewidth=3.0)\n",
    "plt.legend(['Training loss', 'Validation Loss'],fontsize=18)\n",
    "plt.xlabel('Epochs ',fontsize=16)\n",
    "plt.ylabel('Loss',fontsize=16)\n",
    "plt.title('Loss Curves',fontsize=16)"
   ]
  },
  {
   "cell_type": "code",
   "execution_count": 16,
   "metadata": {},
   "outputs": [
    {
     "data": {
      "text/plain": [
       "Text(0.5,1,'Accuracy Curves')"
      ]
     },
     "execution_count": 16,
     "metadata": {},
     "output_type": "execute_result"
    },
    {
     "data": {
      "image/png": "[encoded data removed]",
      "text/plain": [
       "<Figure size 576x432 with 1 Axes>"
      ]
     },
     "metadata": {},
     "output_type": "display_data"
    }
   ],
   "source": [
    "#Ploten der Accuracy Curves\n",
    "plt.figure(figsize=[8,6])\n",
    "plt.plot(history_trend.history['binary_accuracy'],'r',linewidth=3.0)\n",
    "plt.plot(history_trend.history['val_binary_accuracy'],'b',linewidth=3.0)\n",
    "plt.legend(['Training Accuracy', 'Validation Accuracy'],fontsize=18)\n",
    "plt.xlabel('Epochs ',fontsize=16)\n",
    "plt.ylabel('Accuracy',fontsize=16)\n",
    "plt.title('Accuracy Curves',fontsize=16)"
   ]
  },
  {
   "cell_type": "code",
   "execution_count": 17,
   "metadata": {},
   "outputs": [],
   "source": [
    "# Vorhersage generieren\n",
    "trainPredict_100 = model.predict(trainX_N100)\n",
    "testPredict_100 = model.predict(testX_N100)\n",
    "\n",
    "trainPredict_100_c=model.predict_classes(trainX_N100)\n",
    "testPredict_100_c=model.predict_classes(testX_N100)"
   ]
  },
  {
   "cell_type": "code",
   "execution_count": 19,
   "metadata": {},
   "outputs": [],
   "source": [
    "# Modellperformance bewerten\n",
    "def classification(dataset):\n",
    "    for i in range(len(dataset)):\n",
    "        if dataset[i]>= 0.05:\n",
    "            dataset[i]=1\n",
    "        elif dataset[i]<= -0.05:\n",
    "            dataset[i]=-1\n",
    "        else:\n",
    "            dataset[i]=0\n",
    "    return dataset"
   ]
  },
  {
   "cell_type": "code",
   "execution_count": 20,
   "metadata": {},
   "outputs": [],
   "source": [
    "testPredict_100_C=classification(testPredict_100)\n",
    "trainPredict_100_C=classification(trainPredict_100)"
   ]
  },
  {
   "cell_type": "code",
   "execution_count": 21,
   "metadata": {},
   "outputs": [
    {
     "data": {
      "text/plain": [
       "0.42780748663101603"
      ]
     },
     "execution_count": 21,
     "metadata": {},
     "output_type": "execute_result"
    }
   ],
   "source": [
    "accuracy_score(testY_N100, testPredict_100)"
   ]
  },
  {
   "cell_type": "code",
   "execution_count": null,
   "metadata": {},
   "outputs": [],
   "source": []
  },
  {
   "cell_type": "code",
   "execution_count": 25,
   "metadata": {},
   "outputs": [],
   "source": [
    "# Replizierbarkeit gewährleisten\n",
    "np.random.seed(0)"
   ]
  },
  {
   "cell_type": "code",
   "execution_count": 26,
   "metadata": {},
   "outputs": [
    {
     "name": "stdout",
     "output_type": "stream",
     "text": [
      "Train on 179 samples, validate on 79 samples\n",
      "Epoch 1/1\n",
      " - 1s - loss: -1.1665e-01 - binary_accuracy: 0.0615 - val_loss: 10.2013 - val_binary_accuracy: 0.0000e+00\n"
     ]
    }
   ],
   "source": [
    "# Modell zusammenbauen\n",
    "# Dateninput: 46 %\n",
    "model = Sequential()\n",
    "model.add(Dense(10, input_dim=look_back, activation='tanh'))\n",
    "model.add(Dense(1,activation='tanh'))\n",
    "model.compile(loss='binary_crossentropy', optimizer='adam', metrics=['binary_accuracy'])\n",
    "history_trend=model.fit(trainX_N46, trainY_N46, epochs=1, verbose=2, validation_data=(testX_46, testY_N46))"
   ]
  },
  {
   "cell_type": "code",
   "execution_count": 27,
   "metadata": {},
   "outputs": [
    {
     "data": {
      "text/plain": [
       "Text(0.5,1,'Loss Curves')"
      ]
     },
     "execution_count": 27,
     "metadata": {},
     "output_type": "execute_result"
    },
    {
     "data": {
      "image/png": "[encoded data removed]",
      "text/plain": [
       "<Figure size 576x432 with 1 Axes>"
      ]
     },
     "metadata": {},
     "output_type": "display_data"
    }
   ],
   "source": [
    "#Plotten der Loss Curves\n",
    "plt.figure(figsize=[8,6])\n",
    "plt.plot(history_trend.history['loss'],'r',linewidth=3.0)\n",
    "plt.plot(history_trend.history['val_loss'],'b',linewidth=3.0)\n",
    "plt.legend(['Training loss', 'Validation Loss'],fontsize=18)\n",
    "plt.xlabel('Epochs ',fontsize=16)\n",
    "plt.ylabel('Loss',fontsize=16)\n",
    "plt.title('Loss Curves',fontsize=16)"
   ]
  },
  {
   "cell_type": "code",
   "execution_count": 28,
   "metadata": {},
   "outputs": [
    {
     "data": {
      "text/plain": [
       "Text(0.5,1,'Accuracy Curves')"
      ]
     },
     "execution_count": 28,
     "metadata": {},
     "output_type": "execute_result"
    },
    {
     "data": {
      "image/png": "[encoded data removed]",
      "text/plain": [
       "<Figure size 576x432 with 1 Axes>"
      ]
     },
     "metadata": {},
     "output_type": "display_data"
    }
   ],
   "source": [
    "#Ploten der Accuracy Curves\n",
    "plt.figure(figsize=[8,6])\n",
    "plt.plot(history_trend.history['binary_accuracy'],'r',linewidth=3.0)\n",
    "plt.plot(history_trend.history['val_binary_accuracy'],'b',linewidth=3.0)\n",
    "plt.legend(['Training Accuracy', 'Validation Accuracy'],fontsize=18)\n",
    "plt.xlabel('Epochs ',fontsize=16)\n",
    "plt.ylabel('Accuracy',fontsize=16)\n",
    "plt.title('Accuracy Curves',fontsize=16)"
   ]
  },
  {
   "cell_type": "code",
   "execution_count": 29,
   "metadata": {},
   "outputs": [],
   "source": [
    "# Vorhersage generieren\n",
    "trainPredict_46 = model.predict(trainX_N46)\n",
    "testPredict_46 = model.predict(testX_N46)"
   ]
  },
  {
   "cell_type": "code",
   "execution_count": 30,
   "metadata": {},
   "outputs": [],
   "source": [
    "testPredict_46_C=classification(testPredict_46)\n",
    "trainPredict_46_C=classification(trainPredict_46)"
   ]
  },
  {
   "cell_type": "code",
   "execution_count": 31,
   "metadata": {},
   "outputs": [
    {
     "data": {
      "text/plain": [
       "0.6329113924050633"
      ]
     },
     "execution_count": 31,
     "metadata": {},
     "output_type": "execute_result"
    }
   ],
   "source": [
    "accuracy_score(testY_N46, testPredict_46)"
   ]
  },
  {
   "cell_type": "code",
   "execution_count": null,
   "metadata": {},
   "outputs": [],
   "source": []
  },
  {
   "cell_type": "code",
   "execution_count": null,
   "metadata": {},
   "outputs": [],
   "source": []
  }
 ],
 "metadata": {
  "kernelspec": {
   "display_name": "Python 3",
   "language": "python",
   "name": "python3"
  },
  "language_info": {
   "codemirror_mode": {
    "name": "ipython",
    "version": 3
   },
   "file_extension": ".py",
   "mimetype": "text/x-python",
   "name": "python",
   "nbconvert_exporter": "python",
   "pygments_lexer": "ipython3",
   "version": "3.6.5"
  }
 },
 "nbformat": 4,
 "nbformat_minor": 2
}
