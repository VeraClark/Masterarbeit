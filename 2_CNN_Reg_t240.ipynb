{
 "cells": [
  {
   "cell_type": "code",
   "execution_count": 1,
   "metadata": {},
   "outputs": [
    {
     "name": "stderr",
     "output_type": "stream",
     "text": [
      "C:\\Anaconda\\lib\\site-packages\\h5py\\__init__.py:36: FutureWarning: Conversion of the second argument of issubdtype from `float` to `np.floating` is deprecated. In future, it will be treated as `np.float64 == np.dtype(float).type`.\n",
      "  from ._conv import register_converters as _register_converters\n",
      "Using TensorFlow backend.\n"
     ]
    }
   ],
   "source": [
    "# Packages laden\n",
    "import pandas as pd\n",
    "import numpy as np\n",
    "from keras.layers import Convolution1D, Dense, MaxPooling1D, Flatten, Dropout\n",
    "from keras.models import Sequential\n",
    "from sklearn.metrics import mean_squared_error\n",
    "from keras.backend import binary_crossentropy\n",
    "from matplotlib import pyplot as plt\n",
    "from math import sqrt\n",
    "from sklearn.preprocessing import MinMaxScaler"
   ]
  },
  {
   "cell_type": "code",
   "execution_count": 2,
   "metadata": {},
   "outputs": [],
   "source": [
    "# laden der Daten\n",
    "DATA_FILE=\"Dropbox/Masterarbeit/Masterarbeit/Datensätze/Geburtenrate/Datensatz.xlsx\"\n",
    "df = pd.read_excel(DATA_FILE)\n",
    "df=pd.read_excel(DATA_FILE, header=0, parse_dates=[0], index_col='Jahr-Monat',squeeze=True,)"
   ]
  },
  {
   "cell_type": "code",
   "execution_count": 3,
   "metadata": {},
   "outputs": [],
   "source": [
    "# Ein array mit allen Einträgen --> zur besseren Weiterverarbeitung\n",
    "ZR=df.values"
   ]
  },
  {
   "cell_type": "code",
   "execution_count": 4,
   "metadata": {},
   "outputs": [
    {
     "name": "stderr",
     "output_type": "stream",
     "text": [
      "C:\\Anaconda\\lib\\site-packages\\sklearn\\utils\\validation.py:475: DataConversionWarning: Data with input dtype int64 was converted to float64 by MinMaxScaler.\n",
      "  warnings.warn(msg, DataConversionWarning)\n"
     ]
    }
   ],
   "source": [
    "ZR = ZR.reshape((len(ZR), 1))\n",
    "scaler = MinMaxScaler(feature_range=(0, 1))\n",
    "scaler = scaler.fit(ZR)\n",
    "ZR_N = scaler.transform(ZR)"
   ]
  },
  {
   "cell_type": "code",
   "execution_count": 5,
   "metadata": {},
   "outputs": [],
   "source": [
    "# Anteil der Datensätze am Gesamtdatensatz\n",
    "ZR_100=ZR\n",
    "\n",
    "# Anteil der Datensätze am Gesamtdatensatz: normalisierte Daten\n",
    "ZR_N100=ZR_N"
   ]
  },
  {
   "cell_type": "code",
   "execution_count": 6,
   "metadata": {},
   "outputs": [],
   "source": [
    "# Preprocessing der Rohdaten: 100%\n",
    "ZR_100new=np.atleast_2d(ZR_N100)\n",
    "if ZR_100new.shape[0]==1:\n",
    "    ZR_100new=ZR_100new.T\n",
    "nb_samples_100, nb_series_100 = ZR_100new.shape"
   ]
  },
  {
   "cell_type": "code",
   "execution_count": 7,
   "metadata": {},
   "outputs": [],
   "source": [
    "# Einteilung in Trainings- und Testdaten:normalisierte Daten\n",
    "test_size_100=int(0.3*nb_samples_100)\n",
    "train_100, test_100 = ZR_N100[:-test_size_100], ZR_N100[-test_size_100:] "
   ]
  },
  {
   "cell_type": "code",
   "execution_count": 8,
   "metadata": {},
   "outputs": [],
   "source": [
    "# Einteilung in Trainings- und Testdaten:originale Daten\n",
    "train_100_O, test_100_O = ZR_100[:-test_size_100], ZR_100[-test_size_100:] "
   ]
  },
  {
   "cell_type": "code",
   "execution_count": 9,
   "metadata": {},
   "outputs": [
    {
     "name": "stdout",
     "output_type": "stream",
     "text": [
      "(1, 12, 1) (353, 1) (353, 12, 1)\n",
      "(1, 12, 1) (6, 1) (6, 12, 1)\n"
     ]
    }
   ],
   "source": [
    "# Shape des Input und Outputs anpassen: 100%\n",
    "look_forward=240\n",
    "window_size=12\n",
    "# Trainingsdaten\n",
    "Xtrain_100=np.atleast_3d(np.array([train_100[start:start+window_size] for start in range(0, train_100.shape[0]-(window_size+look_forward))]))\n",
    "ytrain_100=train_100[window_size+look_forward:]\n",
    "qtrain_100=np.atleast_3d([train_100[-(window_size):]])\n",
    "print(qtrain_100.shape, ytrain_100.shape, Xtrain_100.shape)\n",
    "\n",
    "# Testdaten\n",
    "Xtest_100=np.atleast_3d(np.array([test_100[start:start+window_size] for start in range(0, test_100.shape[0]-(window_size+look_forward))]))\n",
    "ytest_100=test_100[window_size+look_forward:]\n",
    "qtest_100=np.atleast_3d([test_100[-(window_size):]])\n",
    "print(qtest_100.shape, ytest_100.shape, Xtest_100.shape)"
   ]
  },
  {
   "cell_type": "code",
   "execution_count": 10,
   "metadata": {},
   "outputs": [],
   "source": [
    "ytrain_100_O=train_100_O[window_size+look_forward:]\n",
    "ytest_100_O=test_100_O[window_size+look_forward:]"
   ]
  },
  {
   "cell_type": "code",
   "execution_count": 11,
   "metadata": {},
   "outputs": [
    {
     "name": "stderr",
     "output_type": "stream",
     "text": [
      "C:\\Anaconda\\lib\\site-packages\\ipykernel_launcher.py:10: UserWarning: Update your `Conv1D` call to the Keras 2 API: `Conv1D(activation=\"sigmoid\", input_shape=(12, 1), filters=32, kernel_size=2)`\n",
      "  # Remove the CWD from sys.path while we load stuff.\n"
     ]
    },
    {
     "name": "stdout",
     "output_type": "stream",
     "text": [
      "WARNING:tensorflow:From C:\\Anaconda\\lib\\site-packages\\tensorflow\\python\\util\\deprecation.py:497: calling conv1d (from tensorflow.python.ops.nn_ops) with data_format=NHWC is deprecated and will be removed in a future version.\n",
      "Instructions for updating:\n",
      "`NHWC` for data_format is deprecated, use `NWC` instead\n"
     ]
    },
    {
     "name": "stderr",
     "output_type": "stream",
     "text": [
      "C:\\Anaconda\\lib\\site-packages\\ipykernel_launcher.py:11: UserWarning: Update your `Conv1D` call to the Keras 2 API: `Conv1D(activation=\"sigmoid\", filters=64, kernel_size=2)`\n",
      "  # This is added back by InteractiveShellApp.init_path()\n",
      "C:\\Anaconda\\lib\\site-packages\\ipykernel_launcher.py:13: UserWarning: Update your `Conv1D` call to the Keras 2 API: `Conv1D(activation=\"sigmoid\", filters=64, kernel_size=2)`\n",
      "  del sys.path[0]\n"
     ]
    }
   ],
   "source": [
    "# Modell zusammenbauen: \n",
    "nb_filter_1=32\n",
    "nb_filter_2=64\n",
    "nb_filter_3=64\n",
    "filter_length=2\n",
    "nb_input_series=1\n",
    "nb_outputs=1\n",
    "model= Sequential()\n",
    "model.add(Convolution1D(nb_filter=nb_filter_1, filter_length=filter_length, activation='sigmoid', \n",
    "                        input_shape=(window_size, nb_input_series)))\n",
    "model.add(Convolution1D(nb_filter=nb_filter_2, filter_length=filter_length, activation='sigmoid'))\n",
    "model.add(MaxPooling1D())\n",
    "model.add(Convolution1D(nb_filter=nb_filter_3, filter_length=filter_length, activation='sigmoid'))\n",
    "model.add(MaxPooling1D())\n",
    "model.add(Dropout(0.25))\n",
    "model.add(Flatten())\n",
    "model.add(Dense(nb_outputs, activation='linear')) \n",
    "model.compile(loss='mse', optimizer='adam', metrics=['mae']) "
   ]
  },
  {
   "cell_type": "code",
   "execution_count": 12,
   "metadata": {},
   "outputs": [
    {
     "name": "stdout",
     "output_type": "stream",
     "text": [
      "_________________________________________________________________\n",
      "Layer (type)                 Output Shape              Param #   \n",
      "=================================================================\n",
      "conv1d_1 (Conv1D)            (None, 11, 32)            96        \n",
      "_________________________________________________________________\n",
      "conv1d_2 (Conv1D)            (None, 10, 64)            4160      \n",
      "_________________________________________________________________\n",
      "max_pooling1d_1 (MaxPooling1 (None, 5, 64)             0         \n",
      "_________________________________________________________________\n",
      "conv1d_3 (Conv1D)            (None, 4, 64)             8256      \n",
      "_________________________________________________________________\n",
      "max_pooling1d_2 (MaxPooling1 (None, 2, 64)             0         \n",
      "_________________________________________________________________\n",
      "dropout_1 (Dropout)          (None, 2, 64)             0         \n",
      "_________________________________________________________________\n",
      "flatten_1 (Flatten)          (None, 128)               0         \n",
      "_________________________________________________________________\n",
      "dense_1 (Dense)              (None, 1)                 129       \n",
      "=================================================================\n",
      "Total params: 12,641\n",
      "Trainable params: 12,641\n",
      "Non-trainable params: 0\n",
      "_________________________________________________________________\n"
     ]
    }
   ],
   "source": [
    "# Modellzusammenfassung\n",
    "model.summary()"
   ]
  },
  {
   "cell_type": "code",
   "execution_count": 13,
   "metadata": {},
   "outputs": [],
   "source": [
    "# Replizierbarkeit gewährleisten\n",
    "np.random.seed(0)"
   ]
  },
  {
   "cell_type": "code",
   "execution_count": 14,
   "metadata": {},
   "outputs": [
    {
     "name": "stdout",
     "output_type": "stream",
     "text": [
      "Train on 353 samples, validate on 6 samples\n",
      "Epoch 1/200\n",
      "353/353 [==============================] - 3s 8ms/step - loss: 0.1868 - mean_absolute_error: 0.3451 - val_loss: 0.0239 - val_mean_absolute_error: 0.1446\n",
      "Epoch 2/200\n",
      "353/353 [==============================] - 0s 334us/step - loss: 0.1367 - mean_absolute_error: 0.2863 - val_loss: 0.0042 - val_mean_absolute_error: 0.0496\n",
      "Epoch 3/200\n",
      "353/353 [==============================] - 0s 327us/step - loss: 0.1047 - mean_absolute_error: 0.2506 - val_loss: 0.0039 - val_mean_absolute_error: 0.0480\n",
      "Epoch 4/200\n",
      "353/353 [==============================] - 0s 373us/step - loss: 0.0809 - mean_absolute_error: 0.2256 - val_loss: 0.0032 - val_mean_absolute_error: 0.0459\n",
      "Epoch 5/200\n",
      "353/353 [==============================] - 0s 336us/step - loss: 0.0650 - mean_absolute_error: 0.1977 - val_loss: 0.0054 - val_mean_absolute_error: 0.0540\n",
      "Epoch 6/200\n",
      "353/353 [==============================] - 0s 315us/step - loss: 0.0540 - mean_absolute_error: 0.1790 - val_loss: 0.0289 - val_mean_absolute_error: 0.1609\n",
      "Epoch 7/200\n",
      "353/353 [==============================] - 0s 317us/step - loss: 0.0452 - mean_absolute_error: 0.1701 - val_loss: 0.0042 - val_mean_absolute_error: 0.0495\n",
      "Epoch 8/200\n",
      "353/353 [==============================] - 0s 396us/step - loss: 0.0403 - mean_absolute_error: 0.1548 - val_loss: 0.0092 - val_mean_absolute_error: 0.0788\n",
      "Epoch 9/200\n",
      "353/353 [==============================] - 0s 327us/step - loss: 0.0328 - mean_absolute_error: 0.1392 - val_loss: 0.0108 - val_mean_absolute_error: 0.0884\n",
      "Epoch 10/200\n",
      "353/353 [==============================] - 0s 437us/step - loss: 0.0324 - mean_absolute_error: 0.1393 - val_loss: 0.0077 - val_mean_absolute_error: 0.0688\n",
      "Epoch 11/200\n",
      "353/353 [==============================] - 0s 362us/step - loss: 0.0320 - mean_absolute_error: 0.1359 - val_loss: 0.0132 - val_mean_absolute_error: 0.1009\n",
      "Epoch 12/200\n",
      "353/353 [==============================] - 0s 323us/step - loss: 0.0299 - mean_absolute_error: 0.1299 - val_loss: 0.0147 - val_mean_absolute_error: 0.1080\n",
      "Epoch 13/200\n",
      "353/353 [==============================] - 0s 343us/step - loss: 0.0314 - mean_absolute_error: 0.1346 - val_loss: 0.0071 - val_mean_absolute_error: 0.0637\n",
      "Epoch 14/200\n",
      "353/353 [==============================] - 0s 334us/step - loss: 0.0276 - mean_absolute_error: 0.1230 - val_loss: 0.0097 - val_mean_absolute_error: 0.0815\n",
      "Epoch 15/200\n",
      "353/353 [==============================] - 0s 316us/step - loss: 0.0285 - mean_absolute_error: 0.1260 - val_loss: 0.0115 - val_mean_absolute_error: 0.0922\n",
      "Epoch 16/200\n",
      "353/353 [==============================] - 0s 298us/step - loss: 0.0274 - mean_absolute_error: 0.1237 - val_loss: 0.0127 - val_mean_absolute_error: 0.0987\n",
      "Epoch 17/200\n",
      "353/353 [==============================] - 0s 360us/step - loss: 0.0274 - mean_absolute_error: 0.1289 - val_loss: 0.0074 - val_mean_absolute_error: 0.0665\n",
      "Epoch 18/200\n",
      "353/353 [==============================] - 0s 369us/step - loss: 0.0265 - mean_absolute_error: 0.1159 - val_loss: 0.0170 - val_mean_absolute_error: 0.1182\n",
      "Epoch 19/200\n",
      "353/353 [==============================] - 0s 315us/step - loss: 0.0257 - mean_absolute_error: 0.1226 - val_loss: 0.0063 - val_mean_absolute_error: 0.0578\n",
      "Epoch 20/200\n",
      "353/353 [==============================] - 0s 410us/step - loss: 0.0262 - mean_absolute_error: 0.1136 - val_loss: 0.0119 - val_mean_absolute_error: 0.0941\n",
      "Epoch 21/200\n",
      "353/353 [==============================] - 0s 330us/step - loss: 0.0262 - mean_absolute_error: 0.1185 - val_loss: 0.0123 - val_mean_absolute_error: 0.0961\n",
      "Epoch 22/200\n",
      "353/353 [==============================] - 0s 372us/step - loss: 0.0258 - mean_absolute_error: 0.1211 - val_loss: 0.0068 - val_mean_absolute_error: 0.0612\n",
      "Epoch 23/200\n",
      "353/353 [==============================] - 0s 313us/step - loss: 0.0251 - mean_absolute_error: 0.1159 - val_loss: 0.0121 - val_mean_absolute_error: 0.0952\n",
      "Epoch 24/200\n",
      "353/353 [==============================] - 0s 345us/step - loss: 0.0252 - mean_absolute_error: 0.1129 - val_loss: 0.0094 - val_mean_absolute_error: 0.0800\n",
      "Epoch 25/200\n",
      "353/353 [==============================] - 0s 364us/step - loss: 0.0252 - mean_absolute_error: 0.1149 - val_loss: 0.0101 - val_mean_absolute_error: 0.0843\n",
      "Epoch 26/200\n",
      "353/353 [==============================] - 0s 331us/step - loss: 0.0252 - mean_absolute_error: 0.1101 - val_loss: 0.0110 - val_mean_absolute_error: 0.0894\n",
      "Epoch 27/200\n",
      "353/353 [==============================] - 0s 333us/step - loss: 0.0242 - mean_absolute_error: 0.1180 - val_loss: 0.0084 - val_mean_absolute_error: 0.0733\n",
      "Epoch 28/200\n",
      "353/353 [==============================] - 0s 385us/step - loss: 0.0249 - mean_absolute_error: 0.1086 - val_loss: 0.0107 - val_mean_absolute_error: 0.0877\n",
      "Epoch 29/200\n",
      "353/353 [==============================] - 0s 312us/step - loss: 0.0233 - mean_absolute_error: 0.1144 - val_loss: 0.0098 - val_mean_absolute_error: 0.0824\n",
      "Epoch 30/200\n",
      "353/353 [==============================] - 0s 332us/step - loss: 0.0252 - mean_absolute_error: 0.1117 - val_loss: 0.0129 - val_mean_absolute_error: 0.0995\n",
      "Epoch 31/200\n",
      "353/353 [==============================] - 0s 358us/step - loss: 0.0240 - mean_absolute_error: 0.1159 - val_loss: 0.0102 - val_mean_absolute_error: 0.0849\n",
      "Epoch 32/200\n",
      "353/353 [==============================] - 0s 350us/step - loss: 0.0242 - mean_absolute_error: 0.1084 - val_loss: 0.0099 - val_mean_absolute_error: 0.0828\n",
      "Epoch 33/200\n",
      "353/353 [==============================] - 0s 346us/step - loss: 0.0250 - mean_absolute_error: 0.1179 - val_loss: 0.0086 - val_mean_absolute_error: 0.0745\n",
      "Epoch 34/200\n",
      "353/353 [==============================] - 0s 340us/step - loss: 0.0237 - mean_absolute_error: 0.1061 - val_loss: 0.0131 - val_mean_absolute_error: 0.1004\n",
      "Epoch 35/200\n",
      "353/353 [==============================] - 0s 329us/step - loss: 0.0249 - mean_absolute_error: 0.1180 - val_loss: 0.0076 - val_mean_absolute_error: 0.0675\n",
      "Epoch 36/200\n",
      "353/353 [==============================] - 0s 358us/step - loss: 0.0248 - mean_absolute_error: 0.1071 - val_loss: 0.0102 - val_mean_absolute_error: 0.0846\n",
      "Epoch 37/200\n",
      "353/353 [==============================] - 0s 342us/step - loss: 0.0226 - mean_absolute_error: 0.1151 - val_loss: 0.0105 - val_mean_absolute_error: 0.0863\n",
      "Epoch 38/200\n",
      "353/353 [==============================] - 0s 324us/step - loss: 0.0242 - mean_absolute_error: 0.1104 - val_loss: 0.0127 - val_mean_absolute_error: 0.0985\n",
      "Epoch 39/200\n",
      "353/353 [==============================] - 0s 342us/step - loss: 0.0251 - mean_absolute_error: 0.1215 - val_loss: 0.0080 - val_mean_absolute_error: 0.0706\n",
      "Epoch 40/200\n",
      "353/353 [==============================] - 0s 337us/step - loss: 0.0244 - mean_absolute_error: 0.1081 - val_loss: 0.0117 - val_mean_absolute_error: 0.0934\n",
      "Epoch 41/200\n",
      "353/353 [==============================] - 0s 422us/step - loss: 0.0239 - mean_absolute_error: 0.1128 - val_loss: 0.0095 - val_mean_absolute_error: 0.0804\n",
      "Epoch 42/200\n",
      "353/353 [==============================] - 0s 324us/step - loss: 0.0236 - mean_absolute_error: 0.1075 - val_loss: 0.0122 - val_mean_absolute_error: 0.0960\n",
      "Epoch 43/200\n",
      "353/353 [==============================] - 0s 360us/step - loss: 0.0241 - mean_absolute_error: 0.1189 - val_loss: 0.0104 - val_mean_absolute_error: 0.0862\n",
      "Epoch 44/200\n",
      "353/353 [==============================] - 0s 364us/step - loss: 0.0232 - mean_absolute_error: 0.1094 - val_loss: 0.0114 - val_mean_absolute_error: 0.0915\n",
      "Epoch 45/200\n",
      "353/353 [==============================] - 0s 380us/step - loss: 0.0240 - mean_absolute_error: 0.1103 - val_loss: 0.0102 - val_mean_absolute_error: 0.0850\n",
      "Epoch 46/200\n",
      "353/353 [==============================] - 0s 368us/step - loss: 0.0233 - mean_absolute_error: 0.1052 - val_loss: 0.0090 - val_mean_absolute_error: 0.0773\n",
      "Epoch 47/200\n",
      "353/353 [==============================] - 0s 319us/step - loss: 0.0230 - mean_absolute_error: 0.1086 - val_loss: 0.0105 - val_mean_absolute_error: 0.0866\n",
      "Epoch 48/200\n",
      "353/353 [==============================] - 0s 330us/step - loss: 0.0249 - mean_absolute_error: 0.1112 - val_loss: 0.0103 - val_mean_absolute_error: 0.0853\n",
      "Epoch 49/200\n"
     ]
    },
    {
     "name": "stdout",
     "output_type": "stream",
     "text": [
      "353/353 [==============================] - 0s 398us/step - loss: 0.0241 - mean_absolute_error: 0.1090 - val_loss: 0.0104 - val_mean_absolute_error: 0.0857\n",
      "Epoch 50/200\n",
      "353/353 [==============================] - 0s 339us/step - loss: 0.0238 - mean_absolute_error: 0.1145 - val_loss: 0.0090 - val_mean_absolute_error: 0.0772\n",
      "Epoch 51/200\n",
      "353/353 [==============================] - 0s 303us/step - loss: 0.0232 - mean_absolute_error: 0.1024 - val_loss: 0.0125 - val_mean_absolute_error: 0.0973\n",
      "Epoch 52/200\n",
      "353/353 [==============================] - 0s 360us/step - loss: 0.0239 - mean_absolute_error: 0.1188 - val_loss: 0.0069 - val_mean_absolute_error: 0.0626\n",
      "Epoch 53/200\n",
      "353/353 [==============================] - 0s 397us/step - loss: 0.0239 - mean_absolute_error: 0.1039 - val_loss: 0.0126 - val_mean_absolute_error: 0.0978\n",
      "Epoch 54/200\n",
      "353/353 [==============================] - 0s 304us/step - loss: 0.0233 - mean_absolute_error: 0.1090 - val_loss: 0.0115 - val_mean_absolute_error: 0.0922\n",
      "Epoch 55/200\n",
      "353/353 [==============================] - 0s 394us/step - loss: 0.0224 - mean_absolute_error: 0.1118 - val_loss: 0.0093 - val_mean_absolute_error: 0.0794\n",
      "Epoch 56/200\n",
      "353/353 [==============================] - 0s 311us/step - loss: 0.0235 - mean_absolute_error: 0.1071 - val_loss: 0.0102 - val_mean_absolute_error: 0.0846\n",
      "Epoch 57/200\n",
      "353/353 [==============================] - 0s 333us/step - loss: 0.0228 - mean_absolute_error: 0.1088 - val_loss: 0.0100 - val_mean_absolute_error: 0.0836\n",
      "Epoch 58/200\n",
      "353/353 [==============================] - 0s 294us/step - loss: 0.0234 - mean_absolute_error: 0.1100 - val_loss: 0.0095 - val_mean_absolute_error: 0.0807\n",
      "Epoch 59/200\n",
      "353/353 [==============================] - 0s 372us/step - loss: 0.0236 - mean_absolute_error: 0.1074 - val_loss: 0.0118 - val_mean_absolute_error: 0.0940\n",
      "Epoch 60/200\n",
      "353/353 [==============================] - 0s 298us/step - loss: 0.0230 - mean_absolute_error: 0.1104 - val_loss: 0.0115 - val_mean_absolute_error: 0.0921\n",
      "Epoch 61/200\n",
      "353/353 [==============================] - 0s 327us/step - loss: 0.0245 - mean_absolute_error: 0.1134 - val_loss: 0.0095 - val_mean_absolute_error: 0.0805\n",
      "Epoch 62/200\n",
      "353/353 [==============================] - 0s 314us/step - loss: 0.0227 - mean_absolute_error: 0.1115 - val_loss: 0.0101 - val_mean_absolute_error: 0.0843\n",
      "Epoch 63/200\n",
      "353/353 [==============================] - 0s 353us/step - loss: 0.0239 - mean_absolute_error: 0.1048 - val_loss: 0.0119 - val_mean_absolute_error: 0.0944\n",
      "Epoch 64/200\n",
      "353/353 [==============================] - 0s 332us/step - loss: 0.0232 - mean_absolute_error: 0.1166 - val_loss: 0.0099 - val_mean_absolute_error: 0.0829\n",
      "Epoch 65/200\n",
      "353/353 [==============================] - 0s 270us/step - loss: 0.0240 - mean_absolute_error: 0.1064 - val_loss: 0.0124 - val_mean_absolute_error: 0.0970\n",
      "Epoch 66/200\n",
      "353/353 [==============================] - 0s 293us/step - loss: 0.0227 - mean_absolute_error: 0.1143 - val_loss: 0.0089 - val_mean_absolute_error: 0.0769\n",
      "Epoch 67/200\n",
      "353/353 [==============================] - 0s 322us/step - loss: 0.0233 - mean_absolute_error: 0.1057 - val_loss: 0.0096 - val_mean_absolute_error: 0.0812\n",
      "Epoch 68/200\n",
      "353/353 [==============================] - 0s 373us/step - loss: 0.0221 - mean_absolute_error: 0.1088 - val_loss: 0.0116 - val_mean_absolute_error: 0.0926\n",
      "Epoch 69/200\n",
      "353/353 [==============================] - 0s 322us/step - loss: 0.0235 - mean_absolute_error: 0.1055 - val_loss: 0.0104 - val_mean_absolute_error: 0.0861\n",
      "Epoch 70/200\n",
      "353/353 [==============================] - 0s 306us/step - loss: 0.0233 - mean_absolute_error: 0.1103 - val_loss: 0.0087 - val_mean_absolute_error: 0.0755\n",
      "Epoch 71/200\n",
      "353/353 [==============================] - 0s 311us/step - loss: 0.0227 - mean_absolute_error: 0.1040 - val_loss: 0.0124 - val_mean_absolute_error: 0.0968\n",
      "Epoch 72/200\n",
      "353/353 [==============================] - 0s 322us/step - loss: 0.0234 - mean_absolute_error: 0.1133 - val_loss: 0.0112 - val_mean_absolute_error: 0.0906\n",
      "Epoch 73/200\n",
      "353/353 [==============================] - 0s 325us/step - loss: 0.0229 - mean_absolute_error: 0.1090 - val_loss: 0.0101 - val_mean_absolute_error: 0.0840\n",
      "Epoch 74/200\n",
      "353/353 [==============================] - ETA: 0s - loss: 0.0233 - mean_absolute_error: 0.114 - 0s 373us/step - loss: 0.0233 - mean_absolute_error: 0.1146 - val_loss: 0.0109 - val_mean_absolute_error: 0.0888\n",
      "Epoch 75/200\n",
      "353/353 [==============================] - 0s 268us/step - loss: 0.0228 - mean_absolute_error: 0.1090 - val_loss: 0.0113 - val_mean_absolute_error: 0.0908\n",
      "Epoch 76/200\n",
      "353/353 [==============================] - 0s 351us/step - loss: 0.0230 - mean_absolute_error: 0.1068 - val_loss: 0.0104 - val_mean_absolute_error: 0.0859\n",
      "Epoch 77/200\n",
      "353/353 [==============================] - 0s 306us/step - loss: 0.0232 - mean_absolute_error: 0.1111 - val_loss: 0.0106 - val_mean_absolute_error: 0.0869\n",
      "Epoch 78/200\n",
      "353/353 [==============================] - 0s 371us/step - loss: 0.0238 - mean_absolute_error: 0.1118 - val_loss: 0.0091 - val_mean_absolute_error: 0.0783\n",
      "Epoch 79/200\n",
      "353/353 [==============================] - 0s 318us/step - loss: 0.0232 - mean_absolute_error: 0.1086 - val_loss: 0.0097 - val_mean_absolute_error: 0.0820\n",
      "Epoch 80/200\n",
      "353/353 [==============================] - 0s 341us/step - loss: 0.0242 - mean_absolute_error: 0.1057 - val_loss: 0.0111 - val_mean_absolute_error: 0.0897\n",
      "Epoch 81/200\n",
      "353/353 [==============================] - 0s 354us/step - loss: 0.0223 - mean_absolute_error: 0.1103 - val_loss: 0.0108 - val_mean_absolute_error: 0.0884\n",
      "Epoch 82/200\n",
      "353/353 [==============================] - 0s 314us/step - loss: 0.0228 - mean_absolute_error: 0.1046 - val_loss: 0.0086 - val_mean_absolute_error: 0.0751\n",
      "Epoch 83/200\n",
      "353/353 [==============================] - 0s 357us/step - loss: 0.0228 - mean_absolute_error: 0.1064 - val_loss: 0.0118 - val_mean_absolute_error: 0.0938\n",
      "Epoch 84/200\n",
      "353/353 [==============================] - 0s 321us/step - loss: 0.0222 - mean_absolute_error: 0.1075 - val_loss: 0.0102 - val_mean_absolute_error: 0.0850\n",
      "Epoch 85/200\n",
      "353/353 [==============================] - 0s 377us/step - loss: 0.0235 - mean_absolute_error: 0.1074 - val_loss: 0.0123 - val_mean_absolute_error: 0.0966\n",
      "Epoch 86/200\n",
      "353/353 [==============================] - 0s 374us/step - loss: 0.0228 - mean_absolute_error: 0.1076 - val_loss: 0.0107 - val_mean_absolute_error: 0.0876\n",
      "Epoch 87/200\n",
      "353/353 [==============================] - 0s 322us/step - loss: 0.0224 - mean_absolute_error: 0.1137 - val_loss: 0.0093 - val_mean_absolute_error: 0.0795\n",
      "Epoch 88/200\n",
      "353/353 [==============================] - 0s 385us/step - loss: 0.0234 - mean_absolute_error: 0.1010 - val_loss: 0.0116 - val_mean_absolute_error: 0.0927\n",
      "Epoch 89/200\n",
      "353/353 [==============================] - 0s 334us/step - loss: 0.0239 - mean_absolute_error: 0.1190 - val_loss: 0.0109 - val_mean_absolute_error: 0.0889\n",
      "Epoch 90/200\n",
      "353/353 [==============================] - 0s 428us/step - loss: 0.0234 - mean_absolute_error: 0.1075 - val_loss: 0.0105 - val_mean_absolute_error: 0.0868\n",
      "Epoch 91/200\n",
      "353/353 [==============================] - 0s 363us/step - loss: 0.0224 - mean_absolute_error: 0.1089 - val_loss: 0.0119 - val_mean_absolute_error: 0.0942\n",
      "Epoch 92/200\n",
      "353/353 [==============================] - 0s 350us/step - loss: 0.0230 - mean_absolute_error: 0.1027 - val_loss: 0.0099 - val_mean_absolute_error: 0.0833\n",
      "Epoch 93/200\n",
      "353/353 [==============================] - 0s 398us/step - loss: 0.0227 - mean_absolute_error: 0.1120 - val_loss: 0.0094 - val_mean_absolute_error: 0.0801\n",
      "Epoch 94/200\n",
      "353/353 [==============================] - 0s 485us/step - loss: 0.0221 - mean_absolute_error: 0.1030 - val_loss: 0.0103 - val_mean_absolute_error: 0.0855\n",
      "Epoch 95/200\n",
      "353/353 [==============================] - 0s 369us/step - loss: 0.0234 - mean_absolute_error: 0.1074 - val_loss: 0.0092 - val_mean_absolute_error: 0.0787\n",
      "Epoch 96/200\n",
      "353/353 [==============================] - 0s 397us/step - loss: 0.0229 - mean_absolute_error: 0.1053 - val_loss: 0.0124 - val_mean_absolute_error: 0.0970\n",
      "Epoch 97/200\n"
     ]
    },
    {
     "name": "stdout",
     "output_type": "stream",
     "text": [
      "353/353 [==============================] - 0s 333us/step - loss: 0.0224 - mean_absolute_error: 0.1070 - val_loss: 0.0119 - val_mean_absolute_error: 0.0944\n",
      "Epoch 98/200\n",
      "353/353 [==============================] - 0s 351us/step - loss: 0.0213 - mean_absolute_error: 0.1044 - val_loss: 0.0118 - val_mean_absolute_error: 0.0936\n",
      "Epoch 99/200\n",
      "353/353 [==============================] - 0s 300us/step - loss: 0.0227 - mean_absolute_error: 0.1079 - val_loss: 0.0111 - val_mean_absolute_error: 0.0900\n",
      "Epoch 100/200\n",
      "353/353 [==============================] - 0s 308us/step - loss: 0.0231 - mean_absolute_error: 0.1158 - val_loss: 0.0092 - val_mean_absolute_error: 0.0790\n",
      "Epoch 101/200\n",
      "353/353 [==============================] - 0s 323us/step - loss: 0.0239 - mean_absolute_error: 0.1019 - val_loss: 0.0111 - val_mean_absolute_error: 0.0901\n",
      "Epoch 102/200\n",
      "353/353 [==============================] - 0s 338us/step - loss: 0.0226 - mean_absolute_error: 0.1134 - val_loss: 0.0099 - val_mean_absolute_error: 0.0833\n",
      "Epoch 103/200\n",
      "353/353 [==============================] - 0s 305us/step - loss: 0.0226 - mean_absolute_error: 0.1030 - val_loss: 0.0097 - val_mean_absolute_error: 0.0816\n",
      "Epoch 104/200\n",
      "353/353 [==============================] - 0s 355us/step - loss: 0.0230 - mean_absolute_error: 0.1072 - val_loss: 0.0098 - val_mean_absolute_error: 0.0822\n",
      "Epoch 105/200\n",
      "353/353 [==============================] - 0s 420us/step - loss: 0.0230 - mean_absolute_error: 0.1064 - val_loss: 0.0100 - val_mean_absolute_error: 0.0837\n",
      "Epoch 106/200\n",
      "353/353 [==============================] - 0s 362us/step - loss: 0.0223 - mean_absolute_error: 0.1044 - val_loss: 0.0124 - val_mean_absolute_error: 0.0968\n",
      "Epoch 107/200\n",
      "353/353 [==============================] - 0s 316us/step - loss: 0.0236 - mean_absolute_error: 0.1126 - val_loss: 0.0085 - val_mean_absolute_error: 0.0741\n",
      "Epoch 108/200\n",
      "353/353 [==============================] - 0s 324us/step - loss: 0.0228 - mean_absolute_error: 0.1051 - val_loss: 0.0112 - val_mean_absolute_error: 0.0904\n",
      "Epoch 109/200\n",
      "353/353 [==============================] - 0s 382us/step - loss: 0.0221 - mean_absolute_error: 0.1041 - val_loss: 0.0109 - val_mean_absolute_error: 0.0887\n",
      "Epoch 110/200\n",
      "353/353 [==============================] - 0s 286us/step - loss: 0.0229 - mean_absolute_error: 0.1100 - val_loss: 0.0100 - val_mean_absolute_error: 0.0835\n",
      "Epoch 111/200\n",
      "353/353 [==============================] - 0s 330us/step - loss: 0.0229 - mean_absolute_error: 0.1055 - val_loss: 0.0106 - val_mean_absolute_error: 0.0869\n",
      "Epoch 112/200\n",
      "353/353 [==============================] - 0s 294us/step - loss: 0.0225 - mean_absolute_error: 0.1048 - val_loss: 0.0100 - val_mean_absolute_error: 0.0834\n",
      "Epoch 113/200\n",
      "353/353 [==============================] - 0s 324us/step - loss: 0.0223 - mean_absolute_error: 0.1101 - val_loss: 0.0105 - val_mean_absolute_error: 0.0867\n",
      "Epoch 114/200\n",
      "353/353 [==============================] - 0s 323us/step - loss: 0.0226 - mean_absolute_error: 0.1069 - val_loss: 0.0099 - val_mean_absolute_error: 0.0833\n",
      "Epoch 115/200\n",
      "353/353 [==============================] - 0s 405us/step - loss: 0.0227 - mean_absolute_error: 0.1099 - val_loss: 0.0116 - val_mean_absolute_error: 0.0925\n",
      "Epoch 116/200\n",
      "353/353 [==============================] - 0s 326us/step - loss: 0.0238 - mean_absolute_error: 0.1072 - val_loss: 0.0099 - val_mean_absolute_error: 0.0830\n",
      "Epoch 117/200\n",
      "353/353 [==============================] - 0s 301us/step - loss: 0.0231 - mean_absolute_error: 0.1038 - val_loss: 0.0106 - val_mean_absolute_error: 0.0874\n",
      "Epoch 118/200\n",
      "353/353 [==============================] - 0s 412us/step - loss: 0.0232 - mean_absolute_error: 0.1050 - val_loss: 0.0116 - val_mean_absolute_error: 0.0927\n",
      "Epoch 119/200\n",
      "353/353 [==============================] - 0s 306us/step - loss: 0.0222 - mean_absolute_error: 0.1074 - val_loss: 0.0116 - val_mean_absolute_error: 0.0925\n",
      "Epoch 120/200\n",
      "353/353 [==============================] - 0s 342us/step - loss: 0.0230 - mean_absolute_error: 0.1109 - val_loss: 0.0113 - val_mean_absolute_error: 0.0913\n",
      "Epoch 121/200\n",
      "353/353 [==============================] - 0s 330us/step - loss: 0.0224 - mean_absolute_error: 0.1070 - val_loss: 0.0084 - val_mean_absolute_error: 0.0732\n",
      "Epoch 122/200\n",
      "353/353 [==============================] - 0s 345us/step - loss: 0.0229 - mean_absolute_error: 0.1041 - val_loss: 0.0101 - val_mean_absolute_error: 0.0844\n",
      "Epoch 123/200\n",
      "353/353 [==============================] - 0s 395us/step - loss: 0.0218 - mean_absolute_error: 0.1060 - val_loss: 0.0116 - val_mean_absolute_error: 0.0925\n",
      "Epoch 124/200\n",
      "353/353 [==============================] - 0s 380us/step - loss: 0.0228 - mean_absolute_error: 0.1094 - val_loss: 0.0105 - val_mean_absolute_error: 0.0865\n",
      "Epoch 125/200\n",
      "353/353 [==============================] - 0s 441us/step - loss: 0.0227 - mean_absolute_error: 0.1055 - val_loss: 0.0125 - val_mean_absolute_error: 0.0972\n",
      "Epoch 126/200\n",
      "353/353 [==============================] - 0s 371us/step - loss: 0.0228 - mean_absolute_error: 0.1098 - val_loss: 0.0091 - val_mean_absolute_error: 0.0778\n",
      "Epoch 127/200\n",
      "353/353 [==============================] - 0s 336us/step - loss: 0.0229 - mean_absolute_error: 0.1056 - val_loss: 0.0116 - val_mean_absolute_error: 0.0927\n",
      "Epoch 128/200\n",
      "353/353 [==============================] - 0s 313us/step - loss: 0.0227 - mean_absolute_error: 0.1022 - val_loss: 0.0101 - val_mean_absolute_error: 0.0842\n",
      "Epoch 129/200\n",
      "353/353 [==============================] - 0s 385us/step - loss: 0.0221 - mean_absolute_error: 0.1079 - val_loss: 0.0140 - val_mean_absolute_error: 0.1049\n",
      "Epoch 130/200\n",
      "353/353 [==============================] - 0s 325us/step - loss: 0.0226 - mean_absolute_error: 0.1101 - val_loss: 0.0100 - val_mean_absolute_error: 0.0837\n",
      "Epoch 131/200\n",
      "353/353 [==============================] - 0s 338us/step - loss: 0.0225 - mean_absolute_error: 0.1096 - val_loss: 0.0102 - val_mean_absolute_error: 0.0848\n",
      "Epoch 132/200\n",
      "353/353 [==============================] - 0s 406us/step - loss: 0.0224 - mean_absolute_error: 0.1037 - val_loss: 0.0093 - val_mean_absolute_error: 0.0793\n",
      "Epoch 133/200\n",
      "353/353 [==============================] - 0s 330us/step - loss: 0.0227 - mean_absolute_error: 0.1127 - val_loss: 0.0089 - val_mean_absolute_error: 0.0768\n",
      "Epoch 134/200\n",
      "353/353 [==============================] - 0s 330us/step - loss: 0.0233 - mean_absolute_error: 0.1005 - val_loss: 0.0107 - val_mean_absolute_error: 0.0875\n",
      "Epoch 135/200\n",
      "353/353 [==============================] - 0s 406us/step - loss: 0.0230 - mean_absolute_error: 0.1146 - val_loss: 0.0082 - val_mean_absolute_error: 0.0718\n",
      "Epoch 136/200\n",
      "353/353 [==============================] - 0s 376us/step - loss: 0.0226 - mean_absolute_error: 0.1051 - val_loss: 0.0123 - val_mean_absolute_error: 0.0964\n",
      "Epoch 137/200\n",
      "353/353 [==============================] - 0s 310us/step - loss: 0.0226 - mean_absolute_error: 0.1127 - val_loss: 0.0109 - val_mean_absolute_error: 0.0888\n",
      "Epoch 138/200\n",
      "353/353 [==============================] - 0s 333us/step - loss: 0.0224 - mean_absolute_error: 0.1104 - val_loss: 0.0105 - val_mean_absolute_error: 0.0867\n",
      "Epoch 139/200\n",
      "353/353 [==============================] - 0s 383us/step - loss: 0.0234 - mean_absolute_error: 0.1001 - val_loss: 0.0101 - val_mean_absolute_error: 0.0840\n",
      "Epoch 140/200\n",
      "353/353 [==============================] - 0s 316us/step - loss: 0.0233 - mean_absolute_error: 0.1144 - val_loss: 0.0105 - val_mean_absolute_error: 0.0868\n",
      "Epoch 141/200\n",
      "353/353 [==============================] - 0s 319us/step - loss: 0.0224 - mean_absolute_error: 0.1067 - val_loss: 0.0120 - val_mean_absolute_error: 0.0949\n",
      "Epoch 142/200\n",
      "353/353 [==============================] - 0s 378us/step - loss: 0.0222 - mean_absolute_error: 0.1047 - val_loss: 0.0095 - val_mean_absolute_error: 0.0804\n",
      "Epoch 143/200\n",
      "353/353 [==============================] - 0s 363us/step - loss: 0.0226 - mean_absolute_error: 0.1074 - val_loss: 0.0133 - val_mean_absolute_error: 0.1013\n",
      "Epoch 144/200\n",
      "353/353 [==============================] - 0s 311us/step - loss: 0.0226 - mean_absolute_error: 0.1054 - val_loss: 0.0117 - val_mean_absolute_error: 0.0933\n",
      "Epoch 145/200\n"
     ]
    },
    {
     "name": "stdout",
     "output_type": "stream",
     "text": [
      "353/353 [==============================] - 0s 370us/step - loss: 0.0230 - mean_absolute_error: 0.1144 - val_loss: 0.0108 - val_mean_absolute_error: 0.0881\n",
      "Epoch 146/200\n",
      "353/353 [==============================] - 0s 343us/step - loss: 0.0225 - mean_absolute_error: 0.1040 - val_loss: 0.0100 - val_mean_absolute_error: 0.0834\n",
      "Epoch 147/200\n",
      "353/353 [==============================] - 0s 364us/step - loss: 0.0226 - mean_absolute_error: 0.1072 - val_loss: 0.0115 - val_mean_absolute_error: 0.0924\n",
      "Epoch 148/200\n",
      "353/353 [==============================] - 0s 332us/step - loss: 0.0221 - mean_absolute_error: 0.1085 - val_loss: 0.0117 - val_mean_absolute_error: 0.0933\n",
      "Epoch 149/200\n",
      "353/353 [==============================] - 0s 457us/step - loss: 0.0221 - mean_absolute_error: 0.1069 - val_loss: 0.0106 - val_mean_absolute_error: 0.0872\n",
      "Epoch 150/200\n",
      "353/353 [==============================] - 0s 299us/step - loss: 0.0220 - mean_absolute_error: 0.1046 - val_loss: 0.0121 - val_mean_absolute_error: 0.0953\n",
      "Epoch 151/200\n",
      "353/353 [==============================] - 0s 390us/step - loss: 0.0225 - mean_absolute_error: 0.1092 - val_loss: 0.0115 - val_mean_absolute_error: 0.0920\n",
      "Epoch 152/200\n",
      "353/353 [==============================] - 0s 354us/step - loss: 0.0222 - mean_absolute_error: 0.1055 - val_loss: 0.0109 - val_mean_absolute_error: 0.0887\n",
      "Epoch 153/200\n",
      "353/353 [==============================] - 0s 296us/step - loss: 0.0226 - mean_absolute_error: 0.1121 - val_loss: 0.0101 - val_mean_absolute_error: 0.0843\n",
      "Epoch 154/200\n",
      "353/353 [==============================] - 0s 344us/step - loss: 0.0225 - mean_absolute_error: 0.1001 - val_loss: 0.0100 - val_mean_absolute_error: 0.0834\n",
      "Epoch 155/200\n",
      "353/353 [==============================] - 0s 352us/step - loss: 0.0232 - mean_absolute_error: 0.1164 - val_loss: 0.0097 - val_mean_absolute_error: 0.0820\n",
      "Epoch 156/200\n",
      "353/353 [==============================] - 0s 423us/step - loss: 0.0225 - mean_absolute_error: 0.1056 - val_loss: 0.0119 - val_mean_absolute_error: 0.0943\n",
      "Epoch 157/200\n",
      "353/353 [==============================] - 0s 373us/step - loss: 0.0219 - mean_absolute_error: 0.1065 - val_loss: 0.0108 - val_mean_absolute_error: 0.0881\n",
      "Epoch 158/200\n",
      "353/353 [==============================] - 0s 377us/step - loss: 0.0231 - mean_absolute_error: 0.1067 - val_loss: 0.0093 - val_mean_absolute_error: 0.0793\n",
      "Epoch 159/200\n",
      "353/353 [==============================] - 0s 364us/step - loss: 0.0223 - mean_absolute_error: 0.1014 - val_loss: 0.0111 - val_mean_absolute_error: 0.0898\n",
      "Epoch 160/200\n",
      "353/353 [==============================] - 0s 359us/step - loss: 0.0228 - mean_absolute_error: 0.1116 - val_loss: 0.0121 - val_mean_absolute_error: 0.0953\n",
      "Epoch 161/200\n",
      "353/353 [==============================] - 0s 362us/step - loss: 0.0229 - mean_absolute_error: 0.1061 - val_loss: 0.0092 - val_mean_absolute_error: 0.0788\n",
      "Epoch 162/200\n",
      "353/353 [==============================] - 0s 376us/step - loss: 0.0225 - mean_absolute_error: 0.1026 - val_loss: 0.0112 - val_mean_absolute_error: 0.0906\n",
      "Epoch 163/200\n",
      "353/353 [==============================] - 0s 306us/step - loss: 0.0223 - mean_absolute_error: 0.1121 - val_loss: 0.0104 - val_mean_absolute_error: 0.0859\n",
      "Epoch 164/200\n",
      "353/353 [==============================] - 0s 377us/step - loss: 0.0230 - mean_absolute_error: 0.1011 - val_loss: 0.0090 - val_mean_absolute_error: 0.0774\n",
      "Epoch 165/200\n",
      "353/353 [==============================] - 0s 417us/step - loss: 0.0221 - mean_absolute_error: 0.1050 - val_loss: 0.0129 - val_mean_absolute_error: 0.0995\n",
      "Epoch 166/200\n",
      "353/353 [==============================] - 0s 328us/step - loss: 0.0229 - mean_absolute_error: 0.1149 - val_loss: 0.0093 - val_mean_absolute_error: 0.0794\n",
      "Epoch 167/200\n",
      "353/353 [==============================] - 0s 325us/step - loss: 0.0224 - mean_absolute_error: 0.1028 - val_loss: 0.0095 - val_mean_absolute_error: 0.0808\n",
      "Epoch 168/200\n",
      "353/353 [==============================] - 0s 297us/step - loss: 0.0224 - mean_absolute_error: 0.1049 - val_loss: 0.0129 - val_mean_absolute_error: 0.0995\n",
      "Epoch 169/200\n",
      "353/353 [==============================] - 0s 337us/step - loss: 0.0227 - mean_absolute_error: 0.1131 - val_loss: 0.0104 - val_mean_absolute_error: 0.0860\n",
      "Epoch 170/200\n",
      "353/353 [==============================] - 0s 321us/step - loss: 0.0229 - mean_absolute_error: 0.1007 - val_loss: 0.0096 - val_mean_absolute_error: 0.0814\n",
      "Epoch 171/200\n",
      "353/353 [==============================] - 0s 333us/step - loss: 0.0222 - mean_absolute_error: 0.1090 - val_loss: 0.0128 - val_mean_absolute_error: 0.0992\n",
      "Epoch 172/200\n",
      "353/353 [==============================] - 0s 314us/step - loss: 0.0226 - mean_absolute_error: 0.1058 - val_loss: 0.0103 - val_mean_absolute_error: 0.0857\n",
      "Epoch 173/200\n",
      "353/353 [==============================] - 0s 315us/step - loss: 0.0223 - mean_absolute_error: 0.1043 - val_loss: 0.0104 - val_mean_absolute_error: 0.0860\n",
      "Epoch 174/200\n",
      "353/353 [==============================] - 0s 346us/step - loss: 0.0222 - mean_absolute_error: 0.1052 - val_loss: 0.0114 - val_mean_absolute_error: 0.0918\n",
      "Epoch 175/200\n",
      "353/353 [==============================] - 0s 342us/step - loss: 0.0225 - mean_absolute_error: 0.1102 - val_loss: 0.0109 - val_mean_absolute_error: 0.0890\n",
      "Epoch 176/200\n",
      "353/353 [==============================] - 0s 348us/step - loss: 0.0222 - mean_absolute_error: 0.1051 - val_loss: 0.0106 - val_mean_absolute_error: 0.0870\n",
      "Epoch 177/200\n",
      "353/353 [==============================] - 0s 311us/step - loss: 0.0225 - mean_absolute_error: 0.1036 - val_loss: 0.0101 - val_mean_absolute_error: 0.0844\n",
      "Epoch 178/200\n",
      "353/353 [==============================] - 0s 419us/step - loss: 0.0230 - mean_absolute_error: 0.1121 - val_loss: 0.0097 - val_mean_absolute_error: 0.0819\n",
      "Epoch 179/200\n",
      "353/353 [==============================] - 0s 371us/step - loss: 0.0224 - mean_absolute_error: 0.1027 - val_loss: 0.0099 - val_mean_absolute_error: 0.0831\n",
      "Epoch 180/200\n",
      "353/353 [==============================] - 0s 306us/step - loss: 0.0223 - mean_absolute_error: 0.1027 - val_loss: 0.0102 - val_mean_absolute_error: 0.0846\n",
      "Epoch 181/200\n",
      "353/353 [==============================] - 0s 357us/step - loss: 0.0227 - mean_absolute_error: 0.1131 - val_loss: 0.0101 - val_mean_absolute_error: 0.0845\n",
      "Epoch 182/200\n",
      "353/353 [==============================] - 0s 312us/step - loss: 0.0223 - mean_absolute_error: 0.1007 - val_loss: 0.0111 - val_mean_absolute_error: 0.0902\n",
      "Epoch 183/200\n",
      "353/353 [==============================] - 0s 365us/step - loss: 0.0223 - mean_absolute_error: 0.1089 - val_loss: 0.0110 - val_mean_absolute_error: 0.0894\n",
      "Epoch 184/200\n",
      "353/353 [==============================] - 0s 363us/step - loss: 0.0224 - mean_absolute_error: 0.1082 - val_loss: 0.0103 - val_mean_absolute_error: 0.0854\n",
      "Epoch 185/200\n",
      "353/353 [==============================] - 0s 324us/step - loss: 0.0219 - mean_absolute_error: 0.1035 - val_loss: 0.0112 - val_mean_absolute_error: 0.0904\n",
      "Epoch 186/200\n",
      "353/353 [==============================] - ETA: 0s - loss: 0.0239 - mean_absolute_error: 0.112 - 0s 292us/step - loss: 0.0220 - mean_absolute_error: 0.1117 - val_loss: 0.0105 - val_mean_absolute_error: 0.0868\n",
      "Epoch 187/200\n",
      "353/353 [==============================] - 0s 339us/step - loss: 0.0224 - mean_absolute_error: 0.1016 - val_loss: 0.0087 - val_mean_absolute_error: 0.0755\n",
      "Epoch 188/200\n",
      "353/353 [==============================] - 0s 287us/step - loss: 0.0223 - mean_absolute_error: 0.1064 - val_loss: 0.0112 - val_mean_absolute_error: 0.0902\n",
      "Epoch 189/200\n",
      "353/353 [==============================] - 0s 359us/step - loss: 0.0221 - mean_absolute_error: 0.1020 - val_loss: 0.0102 - val_mean_absolute_error: 0.0845\n",
      "Epoch 190/200\n",
      "353/353 [==============================] - 0s 417us/step - loss: 0.0226 - mean_absolute_error: 0.1107 - val_loss: 0.0116 - val_mean_absolute_error: 0.0925\n",
      "Epoch 191/200\n",
      "353/353 [==============================] - 0s 316us/step - loss: 0.0219 - mean_absolute_error: 0.1032 - val_loss: 0.0098 - val_mean_absolute_error: 0.0825\n",
      "Epoch 192/200\n",
      "353/353 [==============================] - 0s 334us/step - loss: 0.0229 - mean_absolute_error: 0.1129 - val_loss: 0.0107 - val_mean_absolute_error: 0.0877\n",
      "Epoch 193/200\n"
     ]
    },
    {
     "name": "stdout",
     "output_type": "stream",
     "text": [
      "353/353 [==============================] - 0s 342us/step - loss: 0.0226 - mean_absolute_error: 0.1019 - val_loss: 0.0101 - val_mean_absolute_error: 0.0841\n",
      "Epoch 194/200\n",
      "353/353 [==============================] - 0s 350us/step - loss: 0.0227 - mean_absolute_error: 0.1128 - val_loss: 0.0105 - val_mean_absolute_error: 0.0868\n",
      "Epoch 195/200\n",
      "353/353 [==============================] - 0s 369us/step - loss: 0.0224 - mean_absolute_error: 0.1020 - val_loss: 0.0109 - val_mean_absolute_error: 0.0889\n",
      "Epoch 196/200\n",
      "353/353 [==============================] - 0s 323us/step - loss: 0.0225 - mean_absolute_error: 0.1135 - val_loss: 0.0115 - val_mean_absolute_error: 0.0921\n",
      "Epoch 197/200\n",
      "353/353 [==============================] - 0s 330us/step - loss: 0.0220 - mean_absolute_error: 0.1026 - val_loss: 0.0105 - val_mean_absolute_error: 0.0866\n",
      "Epoch 198/200\n",
      "353/353 [==============================] - 0s 294us/step - loss: 0.0222 - mean_absolute_error: 0.1098 - val_loss: 0.0112 - val_mean_absolute_error: 0.0906\n",
      "Epoch 199/200\n",
      "353/353 [==============================] - 0s 295us/step - loss: 0.0222 - mean_absolute_error: 0.1070 - val_loss: 0.0101 - val_mean_absolute_error: 0.0845\n",
      "Epoch 200/200\n",
      "353/353 [==============================] - 0s 314us/step - loss: 0.0221 - mean_absolute_error: 0.1065 - val_loss: 0.0108 - val_mean_absolute_error: 0.0881\n"
     ]
    }
   ],
   "source": [
    "# Modellanpassen: 100%\n",
    "history_reg=model.fit(Xtrain_100, ytrain_100, epochs=200, batch_size=25, validation_data=(Xtest_100, ytest_100))"
   ]
  },
  {
   "cell_type": "code",
   "execution_count": 15,
   "metadata": {},
   "outputs": [
    {
     "data": {
      "text/plain": [
       "Text(0.5,1,'Loss Curves')"
      ]
     },
     "execution_count": 15,
     "metadata": {},
     "output_type": "execute_result"
    },
    {
     "data": {
      "image/png": "[encoded data removed]",
      "text/plain": [
       "<Figure size 576x432 with 1 Axes>"
      ]
     },
     "metadata": {},
     "output_type": "display_data"
    }
   ],
   "source": [
    "#Ploten der Loss Curves\n",
    "plt.figure(figsize=[8,6])\n",
    "plt.plot(history_reg.history['loss'],'r',linewidth=3.0)\n",
    "plt.plot(history_reg.history['val_loss'],'b',linewidth=3.0)\n",
    "plt.legend(['Training loss', 'Validation Loss'],fontsize=18)\n",
    "plt.xlabel('Epochs ',fontsize=16)\n",
    "plt.ylabel('Loss',fontsize=16)\n",
    "plt.title('Loss Curves',fontsize=16)"
   ]
  },
  {
   "cell_type": "code",
   "execution_count": 16,
   "metadata": {},
   "outputs": [
    {
     "data": {
      "text/plain": [
       "Text(0.5,1,'Accuracy Curves')"
      ]
     },
     "execution_count": 16,
     "metadata": {},
     "output_type": "execute_result"
    },
    {
     "data": {
      "image/png": "[encoded data removed]",
      "text/plain": [
       "<Figure size 576x432 with 1 Axes>"
      ]
     },
     "metadata": {},
     "output_type": "display_data"
    }
   ],
   "source": [
    "#Plotten der Accuracy Curves\n",
    "plt.figure(figsize=[8,6])\n",
    "plt.plot(history_reg.history['mean_absolute_error'],'r',linewidth=3.0)\n",
    "plt.plot(history_reg.history['val_mean_absolute_error'],'b',linewidth=3.0)\n",
    "plt.legend(['Training mae', 'Validation mae'],fontsize=18)\n",
    "plt.xlabel('Epochs ',fontsize=16)\n",
    "plt.ylabel('Accuracy',fontsize=16)\n",
    "plt.title('Accuracy Curves',fontsize=16)"
   ]
  },
  {
   "cell_type": "code",
   "execution_count": 17,
   "metadata": {},
   "outputs": [],
   "source": [
    "# Vorhersage generieren\n",
    "predictions_100N = model.predict(Xtest_100)\n",
    "predictions_train_100N=model.predict(Xtrain_100)\n",
    "\n",
    "# Prediction Denormalizing\n",
    "testPredict_100=scaler.inverse_transform(predictions_100N)\n",
    "trainPredict_100=scaler.inverse_transform(predictions_train_100N)"
   ]
  },
  {
   "cell_type": "code",
   "execution_count": 18,
   "metadata": {},
   "outputs": [
    {
     "name": "stdout",
     "output_type": "stream",
     "text": [
      "Test MSE: 63327596.844\n",
      "Train MSE: 128707628.261\n"
     ]
    }
   ],
   "source": [
    "# Modellperformance bewerten\n",
    "mse = mean_squared_error(ytest_100_O, testPredict_100)\n",
    "print('Test MSE: %.3f' % mse)\n",
    "\n",
    "mse_train = mean_squared_error(ytrain_100_O, trainPredict_100)\n",
    "print('Train MSE: %.3f' % mse_train)"
   ]
  },
  {
   "cell_type": "code",
   "execution_count": 19,
   "metadata": {},
   "outputs": [
    {
     "data": {
      "image/png": "[encoded data removed]",
      "text/plain": [
       "<Figure size 432x288 with 1 Axes>"
      ]
     },
     "metadata": {},
     "output_type": "display_data"
    }
   ],
   "source": [
    "# Gegenüberstellung von Vorhersage und originalen Daten\n",
    "plt.plot(ytest_100_O, color='blue') \n",
    "plt.plot(testPredict_100, color='orange') \n",
    "plt.show()"
   ]
  },
  {
   "cell_type": "code",
   "execution_count": 20,
   "metadata": {},
   "outputs": [
    {
     "data": {
      "image/png": "[encoded data removed]",
      "text/plain": [
       "<Figure size 432x288 with 1 Axes>"
      ]
     },
     "metadata": {},
     "output_type": "display_data"
    }
   ],
   "source": [
    "# Verschiebung der Trainingsvorhersage zum Plotten\n",
    "trainPredictPlot = np.empty_like(ZR_100)\n",
    "trainPredictPlot=trainPredictPlot.reshape(len(ZR_100))\n",
    "trainPredictPlot[:]=[0]*len(ZR_100)\n",
    "trainPredictPlot = trainPredictPlot.reshape(len(ZR_100),1)\n",
    "trainPredictPlot[(window_size+look_forward-1):len(trainPredict_100)+(window_size+look_forward-1)] = trainPredict_100\n",
    "\n",
    "\n",
    "# Verschiebung der Testvorhersage zum Plotten\n",
    "testPredictPlot = np.empty_like(ZR_100)\n",
    "testPredictPlot=testPredictPlot.reshape(len(ZR_100))\n",
    "testPredictPlot[:]=[0]*len(ZR_100)\n",
    "testPredictPlot = testPredictPlot.reshape(len(ZR_100),1)\n",
    "testPredictPlot[len(trainPredict_100)+2*(window_size+look_forward)-1:len(ZR_100)-1] = testPredict_100\n",
    "     \n",
    "       \n",
    "# Plotten der baseline und  der Vorhersagen\n",
    "plt.plot(ZR_100, color='blue')\n",
    "plt.plot(trainPredictPlot, color='orange') \n",
    "plt.plot(testPredictPlot, color='green')\n",
    "plt.show()"
   ]
  },
  {
   "cell_type": "code",
   "execution_count": null,
   "metadata": {},
   "outputs": [],
   "source": []
  },
  {
   "cell_type": "code",
   "execution_count": null,
   "metadata": {},
   "outputs": [],
   "source": []
  },
  {
   "cell_type": "code",
   "execution_count": null,
   "metadata": {},
   "outputs": [],
   "source": []
  }
 ],
 "metadata": {
  "kernelspec": {
   "display_name": "Python 3",
   "language": "python",
   "name": "python3"
  },
  "language_info": {
   "codemirror_mode": {
    "name": "ipython",
    "version": 3
   },
   "file_extension": ".py",
   "mimetype": "text/x-python",
   "name": "python",
   "nbconvert_exporter": "python",
   "pygments_lexer": "ipython3",
   "version": "3.6.5"
  }
 },
 "nbformat": 4,
 "nbformat_minor": 2
}
