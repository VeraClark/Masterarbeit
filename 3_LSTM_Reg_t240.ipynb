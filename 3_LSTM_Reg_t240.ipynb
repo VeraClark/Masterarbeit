{
 "cells": [
  {
   "cell_type": "code",
   "execution_count": 1,
   "metadata": {},
   "outputs": [
    {
     "name": "stderr",
     "output_type": "stream",
     "text": [
      "C:\\Anaconda\\lib\\site-packages\\h5py\\__init__.py:36: FutureWarning: Conversion of the second argument of issubdtype from `float` to `np.floating` is deprecated. In future, it will be treated as `np.float64 == np.dtype(float).type`.\n",
      "  from ._conv import register_converters as _register_converters\n",
      "Using TensorFlow backend.\n"
     ]
    }
   ],
   "source": [
    "# Packages laden\n",
    "import numpy as np\n",
    "import pandas as pd\n",
    "import math\n",
    "from numpy import array\n",
    "from keras.models import Sequential\n",
    "from keras.layers import Dense\n",
    "from keras.layers import LSTM\n",
    "from matplotlib import pyplot as plt\n",
    "from sklearn.preprocessing import MinMaxScaler\n",
    "from sklearn.metrics import mean_squared_error\n",
    "from pandas import DataFrame\n",
    "from pandas import concat\n",
    "from math import sqrt"
   ]
  },
  {
   "cell_type": "code",
   "execution_count": 2,
   "metadata": {},
   "outputs": [],
   "source": [
    "# Laden der Daten\n",
    "DATA_FILE=\"Dropbox/Masterarbeit/Masterarbeit/Datensätze/Geburtenrate/Datensatz.xlsx\"\n",
    "df = pd.read_excel(DATA_FILE)\n",
    "df=pd.read_excel(DATA_FILE, header=0, parse_dates=[0], index_col='Jahr-Monat',squeeze=True,)"
   ]
  },
  {
   "cell_type": "code",
   "execution_count": 3,
   "metadata": {},
   "outputs": [],
   "source": [
    "# Ein array mit allen Einträgen --> zur besseren Weiterverarbeitung\n",
    "ZR=df.values"
   ]
  },
  {
   "cell_type": "code",
   "execution_count": 4,
   "metadata": {},
   "outputs": [
    {
     "name": "stderr",
     "output_type": "stream",
     "text": [
      "C:\\Anaconda\\lib\\site-packages\\sklearn\\utils\\validation.py:475: DataConversionWarning: Data with input dtype int64 was converted to float64 by MinMaxScaler.\n",
      "  warnings.warn(msg, DataConversionWarning)\n"
     ]
    }
   ],
   "source": [
    "# Daten normalisieren\n",
    "ZR = ZR.reshape((len(ZR), 1))\n",
    "scaler = MinMaxScaler(feature_range=(0, 1))\n",
    "scaler = scaler.fit(ZR)\n",
    "ZR_N = scaler.transform(ZR)"
   ]
  },
  {
   "cell_type": "code",
   "execution_count": 5,
   "metadata": {},
   "outputs": [],
   "source": [
    "# Anteil der Datensätze am Gesamtdatensatz\n",
    "ZR_100=ZR\n",
    "\n",
    "# Unterteilung der Teildatensätze in Trainings-und Testdaten\n",
    "ZR_100_TR, ZR_100_TE= ZR_100[0:605], ZR_100[605:len(ZR_100)]\n",
    "\n",
    "# Anteil der Datensätze am Gesamtdatensatz: normalisierte Daten\n",
    "ZR_N100=ZR_N\n",
    "\n",
    "# Unterteilung der Teildatensätze in Trainings-und Testdaten\n",
    "ZR_N100_TR, ZR_N100_TE= ZR_N100[0:605], ZR_N100[605:len(ZR_N100)]"
   ]
  },
  {
   "cell_type": "code",
   "execution_count": 6,
   "metadata": {},
   "outputs": [],
   "source": [
    "# Funktion: Datensatz erstellen mit Inputs (look_back: Anzahl der verwendten Vergangenheitswerte) + Output (look_forward: \n",
    "# Vorhersagehorizont)\n",
    "def timeseries_to_supervised_R(data, look_back=1, look_forward=1):\n",
    "    df = DataFrame(data)\n",
    "    columns = [df.shift(look_forward-1+i) for i in range(1, look_back+1)]\n",
    "    columns.append(df)\n",
    "    df = concat(columns, axis=1)\n",
    "    df = df.drop(0)\n",
    "    DF=df[::-1]\n",
    "    df=DF[:len(df)-(look_back+look_forward-1)]\n",
    "    DF=df[::-1]\n",
    "    return DF"
   ]
  },
  {
   "cell_type": "code",
   "execution_count": 7,
   "metadata": {},
   "outputs": [],
   "source": [
    "# Festlegung: look_back, look_forward + Anwendung der Funktion\n",
    "# Inputneuronen: 12\n",
    "# Vorhersagehorizont: 240\n",
    "look_back=12\n",
    "look_forward=240\n",
    "\n",
    "# Inputgröße 100%\n",
    "# Trainingsdaten\n",
    "ZR_100_TR_I=timeseries_to_supervised_R(ZR_100_TR, look_back, look_forward)\n",
    "\n",
    "# Testdaten \n",
    "ZR_100_TE_I=timeseries_to_supervised_R(ZR_100_TE, look_back, look_forward)"
   ]
  },
  {
   "cell_type": "code",
   "execution_count": 8,
   "metadata": {},
   "outputs": [],
   "source": [
    "# Normalisierten Daten\n",
    "# Inputgröße 100%\n",
    "# Trainingsdaten\n",
    "ZR_N100_TR_I=timeseries_to_supervised_R(ZR_N100_TR, look_back, look_forward)\n",
    "\n",
    "# Testdaten \n",
    "ZR_N100_TE_I=timeseries_to_supervised_R(ZR_N100_TE, look_back, look_forward)"
   ]
  },
  {
   "cell_type": "code",
   "execution_count": 10,
   "metadata": {},
   "outputs": [],
   "source": [
    "# Funktion: X,y trennen, Form von X anpassen, Modell zusammenbauen, Modell anpassen\n",
    "def fit_lstm(train, batch_size, nb_epochs, blocks):\n",
    "    X, y = train.iloc[:, 0:-1], train.iloc[:, -1]\n",
    "    X=array(X)\n",
    "    X = X.reshape(X.shape[0], 1, X.shape[1]) \n",
    "    model = Sequential()\n",
    "    model.add(LSTM(blocks, return_sequences=True, batch_input_shape=(batch_size, X.shape[1], X.shape[2]), stateful=True))\n",
    "    model.add(LSTM(blocks))\n",
    "    model.add(Dense(1))\n",
    "    model.compile(loss='mean_squared_error', optimizer='adam')\n",
    "    for i in range(nb_epochs):\n",
    "        model.fit(X, y, epochs=1, batch_size=batch_size, verbose=0, shuffle=False)\n",
    "        model.reset_states()\n",
    "    return model"
   ]
  },
  {
   "cell_type": "code",
   "execution_count": 11,
   "metadata": {},
   "outputs": [],
   "source": [
    "# Replizierbarkeit gewährleisten\n",
    "np.random.seed(0)"
   ]
  },
  {
   "cell_type": "code",
   "execution_count": 12,
   "metadata": {},
   "outputs": [],
   "source": [
    "# Modell anpassen: 100% der originalen Datensatzstärke\n",
    "lstm_model_100 = fit_lstm(ZR_N100_TR_I, 1, 30, 4)"
   ]
  },
  {
   "cell_type": "code",
   "execution_count": 13,
   "metadata": {},
   "outputs": [],
   "source": [
    "# Vorhersage\n",
    "def forecast_lstm(model, batch_size, X):\n",
    "    X=array(X)\n",
    "    X = X.reshape(1, 1, len(X)) # 1,1 hat nichts mit look_forward oder look_backward zu tun!\n",
    "    yhat = model.predict(X, batch_size=batch_size)\n",
    "    return yhat[0,0]"
   ]
  },
  {
   "cell_type": "code",
   "execution_count": 14,
   "metadata": {},
   "outputs": [],
   "source": [
    "# Validierung des Modells anhand der Testdaten\n",
    "predictions_100 = list()\n",
    "for i in range(len(ZR_N100_TE_I)):\n",
    "    # Vorhersage erzeugen \n",
    "    X, y = ZR_N100_TE_I.iloc[i, 0:-1], ZR_N100_TE_I.iloc[i, -1]\n",
    "    yhat = forecast_lstm(lstm_model_100, 1, X)\n",
    "    predictions_100.append(yhat)"
   ]
  },
  {
   "cell_type": "code",
   "execution_count": 15,
   "metadata": {},
   "outputs": [],
   "source": [
    "# Skalierung zurücksetzten\n",
    "predictions_100=np.reshape(predictions_100,(len(predictions_100),1))\n",
    "predictions_100=scaler.inverse_transform(predictions_100)"
   ]
  },
  {
   "cell_type": "code",
   "execution_count": 16,
   "metadata": {},
   "outputs": [
    {
     "name": "stdout",
     "output_type": "stream",
     "text": [
      "Test MSE: 19508080.088\n"
     ]
    },
    {
     "data": {
      "image/png": "[encoded data removed]",
      "text/plain": [
       "<Figure size 432x288 with 1 Axes>"
      ]
     },
     "metadata": {},
     "output_type": "display_data"
    }
   ],
   "source": [
    "# Modellperformance bewerten\n",
    "mse = mean_squared_error(ZR_100[-len(predictions_100):], predictions_100)\n",
    "print('Test MSE: %.3f' % mse)\n",
    "# Vorhersage und Testdaten abtragen\n",
    "plt.plot(ZR_100[-len(predictions_100):], color='blue')\n",
    "plt.plot(predictions_100, color='orange')\n",
    "plt.show()"
   ]
  },
  {
   "cell_type": "code",
   "execution_count": 17,
   "metadata": {},
   "outputs": [],
   "source": [
    "predictions_train_100 = list()\n",
    "for i in range(len(ZR_N100_TR_I)):\n",
    "    # Vorhersage erzeugen \n",
    "    X, y = ZR_N100_TR_I.iloc[i, 0:-1], ZR_N100_TR_I.iloc[i, -1]\n",
    "    yhat = forecast_lstm(lstm_model_100, 1, X)\n",
    "    predictions_train_100.append(yhat)\n",
    "    expected = ZR_N100[ i + 1]"
   ]
  },
  {
   "cell_type": "code",
   "execution_count": 18,
   "metadata": {},
   "outputs": [],
   "source": [
    "# Skalierung zurücksetzten\n",
    "predictions_train_100=np.reshape(predictions_train_100,(len(predictions_train_100),1))\n",
    "predictions_train_100=scaler.inverse_transform(predictions_train_100)"
   ]
  },
  {
   "cell_type": "code",
   "execution_count": 19,
   "metadata": {},
   "outputs": [
    {
     "data": {
      "image/png": "[encoded data removed]",
      "text/plain": [
       "<Figure size 432x288 with 1 Axes>"
      ]
     },
     "metadata": {},
     "output_type": "display_data"
    }
   ],
   "source": [
    "# Verschiebung der Trainingsvorhersage zum Plotten\n",
    "trainPredictPlot = np.empty_like(ZR_100)\n",
    "trainPredictPlot=trainPredictPlot.reshape(len(ZR_100))\n",
    "trainPredictPlot[:]=[0]*len(ZR_100)\n",
    "predictions_train_100=predictions_train_100.reshape(len(predictions_train_100))\n",
    "trainPredictPlot[(look_back+look_forward-1):len(predictions_train_100)+(look_back+look_forward-1)] = predictions_train_100\n",
    "\n",
    "# Verschiebung der Testvorhersage zum Plotten\n",
    "testPredictPlot = np.empty_like(ZR_100)\n",
    "testPredictPlot=testPredictPlot.reshape(len(ZR_100))\n",
    "testPredictPlot[:]=[0]*len(ZR_100)\n",
    "predictions_100=predictions_100.reshape(len(predictions_100))\n",
    "testPredictPlot[-len(predictions_100):] = predictions_100\n",
    "\n",
    "# Plotten der baseline und  der Vorhersagen\n",
    "plt.plot(ZR_100, color='blue')\n",
    "plt.plot(trainPredictPlot, color='orange') \n",
    "plt.plot(testPredictPlot, color='green')\n",
    "plt.show()"
   ]
  },
  {
   "cell_type": "code",
   "execution_count": null,
   "metadata": {},
   "outputs": [],
   "source": []
  }
 ],
 "metadata": {
  "kernelspec": {
   "display_name": "Python 3",
   "language": "python",
   "name": "python3"
  },
  "language_info": {
   "codemirror_mode": {
    "name": "ipython",
    "version": 3
   },
   "file_extension": ".py",
   "mimetype": "text/x-python",
   "name": "python",
   "nbconvert_exporter": "python",
   "pygments_lexer": "ipython3",
   "version": "3.6.5"
  }
 },
 "nbformat": 4,
 "nbformat_minor": 2
}
